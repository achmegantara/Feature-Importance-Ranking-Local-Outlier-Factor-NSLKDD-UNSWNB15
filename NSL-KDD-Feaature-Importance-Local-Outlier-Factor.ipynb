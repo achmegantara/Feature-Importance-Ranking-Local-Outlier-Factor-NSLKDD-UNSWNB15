{
 "cells": [
  {
   "cell_type": "markdown",
   "metadata": {},
   "source": [
    "## Import Library"
   ]
  },
  {
   "cell_type": "code",
   "execution_count": 33,
   "metadata": {},
   "outputs": [],
   "source": [
    "#STANDARD BASIC LIBRARY\n",
    "import pandas as pd\n",
    "import numpy as np\n",
    "import sys\n",
    "import sklearn\n",
    "import matplotlib.pyplot as plt\n",
    "\n",
    "#DATA TRANSFORMATION\n",
    "from sklearn.preprocessing import LabelEncoder, OneHotEncoder\n",
    "\n",
    "#DATA NORMALIZATION\n",
    "from sklearn import preprocessing\n",
    "\n",
    "#FEATURE SELECTION\n",
    "#ANNOVA f-TEST\n",
    "from sklearn.feature_selection import SelectPercentile, f_classif\n",
    "from sklearn.model_selection import StratifiedKFold\n",
    "\n",
    "#MODEL BASED\n",
    "from sklearn.feature_selection import SelectFromModel\n",
    "from sklearn.linear_model import LogisticRegression\n",
    "from lightgbm import LGBMClassifier\n",
    "\n",
    "#RECURSIVE FEATURE ELIMINATION\n",
    "from sklearn.feature_selection import RFE, RFECV\n",
    "\n",
    "#LOCAL OUTLIER FACTOR\n",
    "from sklearn.neighbors import LocalOutlierFactor\n",
    "\n",
    "#CLASSIFIER\n",
    "from sklearn.tree import DecisionTreeClassifier\n",
    "from sklearn.svm import SVR\n",
    "from sklearn.ensemble import RandomForestClassifier\n",
    "\n",
    "#METHOD EVALUATION\n",
    "from sklearn.model_selection import cross_val_score\n",
    "from sklearn.metrics import classification_report, confusion_matrix\n",
    "from imblearn.metrics import sensitivity_specificity_support\n",
    "from sklearn.model_selection import cross_val_score\n",
    "from sklearn import metrics\n",
    "from sklearn.model_selection import cross_val_predict\n",
    "from sklearn.metrics import confusion_matrix\n",
    "\n",
    "from statistics import mean \n",
    "from sklearn.model_selection import ParameterGrid, StratifiedKFold\n",
    "\n",
    "import time\n",
    "from statistics import median"
   ]
  },
  {
   "cell_type": "markdown",
   "metadata": {},
   "source": [
    "## Import dataset"
   ]
  },
  {
   "cell_type": "code",
   "execution_count": 2,
   "metadata": {},
   "outputs": [],
   "source": [
    "# from google.colab import drive\n",
    "# drive.mount('/content/drive')\n",
    "\n",
    "#dataset features name\n",
    "col_names = [\"duration\",\"protocol_type\",\"service\",\"flag\",\"src_bytes\",\n",
    "    \"dst_bytes\",\"land\",\"wrong_fragment\",\"urgent\",\"hot\",\"num_failed_logins\",\n",
    "    \"logged_in\",\"num_compromised\",\"root_shell\",\"su_attempted\",\"num_root\",\n",
    "    \"num_file_creations\",\"num_shells\",\"num_access_files\",\"num_outbound_cmds\",\n",
    "    \"is_host_login\",\"is_guest_login\",\"count\",\"srv_count\",\"serror_rate\",\n",
    "    \"srv_serror_rate\",\"rerror_rate\",\"srv_rerror_rate\",\"same_srv_rate\",\n",
    "    \"diff_srv_rate\",\"srv_diff_host_rate\",\"dst_host_count\",\"dst_host_srv_count\",\n",
    "    \"dst_host_same_srv_rate\",\"dst_host_diff_srv_rate\",\"dst_host_same_src_port_rate\",\n",
    "    \"dst_host_srv_diff_host_rate\",\"dst_host_serror_rate\",\"dst_host_srv_serror_rate\",\n",
    "    \"dst_host_rerror_rate\",\"dst_host_srv_rerror_rate\",\"label\",\"difficulty-level\"]\n",
    "\n",
    "#import dataset from drive\n",
    "df = pd.read_csv(\"NSL-KDD/KDDTrain-.csv\", header=None, names = col_names)\n",
    "df_test = pd.read_csv(\"NSL-KDD/KDDTest-.csv\", header=None, names = col_names)\n",
    "\n",
    "#drop unused column\n",
    "df.drop(columns=\"difficulty-level\", inplace=True)\n",
    "df_test.drop(columns=\"difficulty-level\",inplace=True)"
   ]
  },
  {
   "cell_type": "markdown",
   "metadata": {},
   "source": [
    "## Data transformation\n",
    "### Checking categorical data"
   ]
  },
  {
   "cell_type": "code",
   "execution_count": 3,
   "metadata": {},
   "outputs": [
    {
     "name": "stdout",
     "output_type": "stream",
     "text": [
      "Categorical features in the dataset : \n",
      "  protocol_type   service flag\n",
      "0           tcp  ftp_data   SF\n",
      "1           udp     other   SF\n",
      "2           tcp   private   S0\n",
      "3           tcp      http   SF\n",
      "4           tcp      http   SF\n"
     ]
    }
   ],
   "source": [
    "categorical_columns=['protocol_type', 'service', 'flag']\n",
    "df_categorical_values = df[categorical_columns]\n",
    "testdf_categorical_values = df_test[categorical_columns]\n",
    "print(\"Categorical features in the dataset : \")\n",
    "print(df_categorical_values.head())"
   ]
  },
  {
   "cell_type": "markdown",
   "metadata": {},
   "source": [
    "### create dummies column"
   ]
  },
  {
   "cell_type": "code",
   "execution_count": 5,
   "metadata": {},
   "outputs": [
    {
     "name": "stdout",
     "output_type": "stream",
     "text": [
      "\n",
      "Dummies column : \n",
      "['Protocol_type_icmp', 'Protocol_type_tcp', 'Protocol_type_udp', 'service_IRC', 'service_X11', 'service_Z39_50', 'service_aol', 'service_auth', 'service_bgp', 'service_courier', 'service_csnet_ns', 'service_ctf', 'service_daytime', 'service_discard', 'service_domain', 'service_domain_u', 'service_echo', 'service_eco_i', 'service_ecr_i', 'service_efs', 'service_exec', 'service_finger', 'service_ftp', 'service_ftp_data', 'service_gopher', 'service_harvest', 'service_hostnames', 'service_http', 'service_http_2784', 'service_http_443', 'service_http_8001', 'service_imap4', 'service_iso_tsap', 'service_klogin', 'service_kshell', 'service_ldap', 'service_link', 'service_login', 'service_mtp', 'service_name', 'service_netbios_dgm', 'service_netbios_ns', 'service_netbios_ssn', 'service_netstat', 'service_nnsp', 'service_nntp', 'service_ntp_u', 'service_other', 'service_pm_dump', 'service_pop_2', 'service_pop_3', 'service_printer', 'service_private', 'service_red_i', 'service_remote_job', 'service_rje', 'service_shell', 'service_smtp', 'service_sql_net', 'service_ssh', 'service_sunrpc', 'service_supdup', 'service_systat', 'service_telnet', 'service_tftp_u', 'service_tim_i', 'service_time', 'service_urh_i', 'service_urp_i', 'service_uucp', 'service_uucp_path', 'service_vmnet', 'service_whois', 'flag_OTH', 'flag_REJ', 'flag_RSTO', 'flag_RSTOS0', 'flag_RSTR', 'flag_S0', 'flag_S1', 'flag_S2', 'flag_S3', 'flag_SF', 'flag_SH']\n"
     ]
    }
   ],
   "source": [
    "#protocol\n",
    "unique_protocol=sorted(df.protocol_type.unique())\n",
    "string1 = 'Protocol_type_'\n",
    "unique_protocol2=[string1 + x for x in unique_protocol]\n",
    "\n",
    "#service\n",
    "unique_service=sorted(df.service.unique())\n",
    "string2 = 'service_'\n",
    "unique_service2=[string2 + x for x in unique_service]\n",
    "\n",
    "#flag\n",
    "unique_flag = sorted(df.flag.unique())\n",
    "string3 = 'flag_'\n",
    "unique_flag2 = [string3 + x for x in unique_flag]\n",
    "\n",
    "#create dummies column\n",
    "dumcols = unique_protocol2 + unique_service2 + unique_flag2\n",
    "print(\"\\nDummies column : \")\n",
    "print(dumcols)\n",
    "\n",
    "#change value into dummies column\n",
    "unique_service_test = sorted(df_test.service.unique())\n",
    "unique_service2_test = [string2 + x for x in unique_service_test]\n",
    "testdumcols = unique_protocol2 + unique_service2_test + unique_flag2\n"
   ]
  },
  {
   "cell_type": "markdown",
   "metadata": {},
   "source": [
    "### Encoding data using LabelEncoder"
   ]
  },
  {
   "cell_type": "code",
   "execution_count": 7,
   "metadata": {},
   "outputs": [],
   "source": [
    "#Change value into number\n",
    "#train\n",
    "df_categorical_values_enc = df_categorical_values.apply(LabelEncoder().fit_transform)\n",
    "#test\n",
    "testdf_categorical_values_enc = testdf_categorical_values.apply(LabelEncoder().fit_transform)"
   ]
  },
  {
   "cell_type": "markdown",
   "metadata": {},
   "source": [
    "### Change categorical value into numerical value"
   ]
  },
  {
   "cell_type": "code",
   "execution_count": 8,
   "metadata": {},
   "outputs": [],
   "source": [
    "enc = OneHotEncoder()\n",
    "\n",
    "#train set\n",
    "df_categorical_values_encenc = enc.fit_transform(df_categorical_values_enc)\n",
    "df_cat_data = pd.DataFrame(df_categorical_values_encenc.toarray(), columns=dumcols)\n",
    "\n",
    "#test set\n",
    "testdf_categorical_values_encenc = enc.fit_transform(testdf_categorical_values_enc)\n",
    "testdf_cat_data = pd.DataFrame(testdf_categorical_values_encenc.toarray(), columns=testdumcols)"
   ]
  },
  {
   "cell_type": "markdown",
   "metadata": {},
   "source": [
    "### check difference feature between train set and test set"
   ]
  },
  {
   "cell_type": "code",
   "execution_count": 9,
   "metadata": {},
   "outputs": [
    {
     "data": {
      "text/plain": [
       "['service_aol',\n",
       " 'service_harvest',\n",
       " 'service_red_i',\n",
       " 'service_urh_i',\n",
       " 'service_http_2784',\n",
       " 'service_http_8001']"
      ]
     },
     "execution_count": 9,
     "metadata": {},
     "output_type": "execute_result"
    }
   ],
   "source": [
    "trainservice=df['service'].tolist()\n",
    "testservice=df_test['service'].tolist()\n",
    "difference=list(set(trainservice)-set(testservice))\n",
    "string = 'service_'\n",
    "difference = [string + x for x in difference]\n",
    "difference"
   ]
  },
  {
   "cell_type": "markdown",
   "metadata": {},
   "source": [
    "### delete difference features"
   ]
  },
  {
   "cell_type": "code",
   "execution_count": 10,
   "metadata": {},
   "outputs": [],
   "source": [
    "for col in difference:\n",
    "    testdf_cat_data[col] = 0"
   ]
  },
  {
   "cell_type": "markdown",
   "metadata": {},
   "source": [
    "### Join prepared features with the dataset"
   ]
  },
  {
   "cell_type": "code",
   "execution_count": 11,
   "metadata": {},
   "outputs": [
    {
     "name": "stdout",
     "output_type": "stream",
     "text": [
      "\n",
      "New shape of dataset : \n",
      "(125973, 123)\n",
      "(22544, 123)\n"
     ]
    }
   ],
   "source": [
    "#train data\n",
    "newdf=df.join(df_cat_data)\n",
    "newdf.drop('flag', axis=1, inplace=True)\n",
    "newdf.drop('protocol_type',axis=1, inplace=True)\n",
    "newdf.drop('service',axis=1, inplace=True)\n",
    "\n",
    "#test data\n",
    "newdf_test = df_test.join(testdf_cat_data)\n",
    "newdf_test.drop('flag', axis=1, inplace=True)\n",
    "newdf_test.drop('protocol_type',axis=1, inplace=True)\n",
    "newdf_test.drop('service',axis=1, inplace=True)\n",
    "\n",
    "#shape of new dataset\n",
    "print(\"\\nNew shape of dataset : \")\n",
    "print(newdf.shape)\n",
    "print(newdf_test.shape)"
   ]
  },
  {
   "cell_type": "markdown",
   "metadata": {},
   "source": [
    "## CREATE SUBSET DATASET\n",
    "### DoS, Probe, R2L, U2R"
   ]
  },
  {
   "cell_type": "code",
   "execution_count": 13,
   "metadata": {},
   "outputs": [
    {
     "name": "stdout",
     "output_type": "stream",
     "text": [
      "Train:\n",
      "Dimensions of DoS: (113270, 123)\n",
      "Dimensions of Probe: (78999, 123)\n",
      "Dimensions of R2L: (68338, 123)\n",
      "Dimensions of U2R: (67395, 123)\n",
      "Test:\n",
      "Dimensions of DoS: (17171, 123)\n",
      "Dimensions of Probe: (12132, 123)\n",
      "Dimensions of R2L: (12596, 123)\n",
      "Dimensions of U2R: (9778, 123)\n"
     ]
    }
   ],
   "source": [
    "#Change attack type label into 4 type (DoS, Probe, U2R, R2L)\n",
    "#take label column\n",
    "labeldf=newdf['label']\n",
    "labeldf_test=newdf_test['label']\n",
    "\n",
    "#change the label column\n",
    "newlabeldf=labeldf.replace({ 'normal' : 0, 'neptune' : 1 ,'back': 1, 'land': 1, 'pod': 1, 'smurf': 1, 'teardrop': 1,'mailbomb': 1, 'apache2': 1, 'processtable': 1, 'udpstorm': 1, 'worm': 1,'ipsweep' : 2,'nmap' : 2,'portsweep' : 2,'satan' : 2,'mscan' : 2,'saint' : 2,'ftp_write': 3,'guess_passwd': 3,'imap': 3,'multihop': 3,'phf': 3,'spy': 3,'warezclient': 3,'warezmaster': 3,'sendmail': 3,'named': 3,'snmpgetattack': 3,'snmpguess': 3,'xlock': 3,'xsnoop': 3,'httptunnel': 3,'buffer_overflow': 4,'loadmodule': 4,'perl': 4,'rootkit': 4,'ps': 4,'sqlattack': 4,'xterm': 4})\n",
    "\n",
    "newlabeldf_test=labeldf_test.replace({ 'normal' : 0, 'neptune' : 1 ,'back': 1, 'land': 1, 'pod': 1, 'smurf': 1, 'teardrop': 1,'mailbomb': 1, 'apache2': 1, 'processtable': 1, 'udpstorm': 1, 'worm': 1,'ipsweep' : 2,'nmap' : 2,'portsweep' : 2,'satan' : 2,'mscan' : 2,'saint' : 2,'ftp_write': 3,'guess_passwd': 3,'imap': 3,'multihop': 3,'phf': 3,'spy': 3,'warezclient': 3,'warezmaster': 3,'sendmail': 3,'named': 3,'snmpgetattack': 3,'snmpguess': 3,'xlock': 3,'xsnoop': 3,'httptunnel': 3,'buffer_overflow': 4,'loadmodule': 4,'perl': 4,'rootkit': 4,'ps': 4,'sqlattack': 4,'xterm': 4})\n",
    "\n",
    "#put the new label column back\n",
    "newdf['label'] = newlabeldf\n",
    "newdf_test['label'] = newlabeldf_test\n",
    "\n",
    "#Distribute label into several subset\n",
    "to_drop_DoS = [2,3,4]\n",
    "to_drop_Probe = [1,3,4]\n",
    "to_drop_R2L = [1,2,4]\n",
    "to_drop_U2R = [1,2,3]\n",
    "#train\n",
    "DoS_df=newdf[~newdf['label'].isin(to_drop_DoS)];\n",
    "Probe_df=newdf[~newdf['label'].isin(to_drop_Probe)];\n",
    "R2L_df=newdf[~newdf['label'].isin(to_drop_R2L)];\n",
    "U2R_df=newdf[~newdf['label'].isin(to_drop_U2R)];\n",
    "\n",
    "#test\n",
    "DoS_df_test=newdf_test[~newdf_test['label'].isin(to_drop_DoS)];\n",
    "Probe_df_test=newdf_test[~newdf_test['label'].isin(to_drop_Probe)];\n",
    "R2L_df_test=newdf_test[~newdf_test['label'].isin(to_drop_R2L)];\n",
    "U2R_df_test=newdf_test[~newdf_test['label'].isin(to_drop_U2R)];\n",
    "\n",
    "#checking the data\n",
    "print('Train:')\n",
    "print('Dimensions of DoS:' ,DoS_df.shape)\n",
    "print('Dimensions of Probe:' ,Probe_df.shape)\n",
    "print('Dimensions of R2L:' ,R2L_df.shape)\n",
    "print('Dimensions of U2R:' ,U2R_df.shape)\n",
    "print('Test:')\n",
    "print('Dimensions of DoS:' ,DoS_df_test.shape)\n",
    "print('Dimensions of Probe:' ,Probe_df_test.shape)\n",
    "print('Dimensions of R2L:' ,R2L_df_test.shape)\n",
    "print('Dimensions of U2R:' ,U2R_df_test.shape)"
   ]
  },
  {
   "cell_type": "markdown",
   "metadata": {},
   "source": [
    "### Split dataframes into X & Y"
   ]
  },
  {
   "cell_type": "code",
   "execution_count": 14,
   "metadata": {},
   "outputs": [],
   "source": [
    "X_DoS = DoS_df.drop('label',1)\n",
    "Y_DoS = DoS_df.label\n",
    "X_Probe = Probe_df.drop('label',1)\n",
    "Y_Probe = Probe_df.label\n",
    "X_R2L = R2L_df.drop('label',1)\n",
    "Y_R2L = R2L_df.label\n",
    "X_U2R = U2R_df.drop('label',1)\n",
    "Y_U2R = U2R_df.label\n",
    "# test set\n",
    "X_DoS_test = DoS_df_test.drop('label',1)\n",
    "Y_DoS_test = DoS_df_test.label\n",
    "X_Probe_test = Probe_df_test.drop('label',1)\n",
    "Y_Probe_test = Probe_df_test.label\n",
    "X_R2L_test = R2L_df_test.drop('label',1)\n",
    "Y_R2L_test = R2L_df_test.label\n",
    "X_U2R_test = U2R_df_test.drop('label',1)\n",
    "Y_U2R_test = U2R_df_test.label\n",
    "\n",
    "colNames=list(X_DoS)\n",
    "colNames_test=list(X_DoS_test)"
   ]
  },
  {
   "cell_type": "markdown",
   "metadata": {},
   "source": [
    "## DATA NORMALIZATION\n",
    "### Normalize the data, reduce scale different of each data"
   ]
  },
  {
   "cell_type": "code",
   "execution_count": 15,
   "metadata": {},
   "outputs": [
    {
     "name": "stdout",
     "output_type": "stream",
     "text": [
      "[[-0.09931945 -0.02416949 -0.05230875 ... -0.01993587  0.81604613\n",
      "  -0.00420205]\n",
      " [-0.09931945 -0.02523933 -0.05230875 ... -0.01993587  0.81604613\n",
      "  -0.00420205]\n",
      " [-0.09931945 -0.02569207 -0.05230875 ... -0.01993587 -1.22542092\n",
      "  -0.00420205]\n",
      " ...\n",
      " [-0.09931945 -0.01877379 -0.04470814 ... -0.01993587  0.81604613\n",
      "  -0.00420205]\n",
      " [-0.09931945 -0.02569207 -0.05230875 ... -0.01993587 -1.22542092\n",
      "  -0.00420205]\n",
      " [-0.09931945 -0.02522383 -0.05230875 ... -0.01993587  0.81604613\n",
      "  -0.00420205]]\n",
      "[[-0.09931945 -0.02416949 -0.05230875 ... -0.01993587  0.81604613\n",
      "  -0.00420205]\n",
      " [-0.09931945 -0.02523933 -0.05230875 ... -0.01993587  0.81604613\n",
      "  -0.00420205]\n",
      " [-0.09931945 -0.02569207 -0.05230875 ... -0.01993587 -1.22542092\n",
      "  -0.00420205]\n",
      " ...\n",
      " [-0.09931945 -0.01877379 -0.04470814 ... -0.01993587  0.81604613\n",
      "  -0.00420205]\n",
      " [-0.09931945 -0.02569207 -0.05230875 ... -0.01993587 -1.22542092\n",
      "  -0.00420205]\n",
      " [-0.09931945 -0.02522383 -0.05230875 ... -0.01993587  0.81604613\n",
      "  -0.00420205]]\n"
     ]
    }
   ],
   "source": [
    "#Normalize data using StandardScaler\n",
    "#Normalize data to reduce difference scale of each data\n",
    "scaler1 = preprocessing.StandardScaler().fit(X_DoS)\n",
    "X_DoS=scaler1.transform(X_DoS) \n",
    "scaler2 = preprocessing.StandardScaler().fit(X_Probe)\n",
    "X_Probe=scaler2.transform(X_Probe) \n",
    "scaler3 = preprocessing.StandardScaler().fit(X_R2L)\n",
    "X_R2L=scaler3.transform(X_R2L) \n",
    "scaler4 = preprocessing.StandardScaler().fit(X_U2R)\n",
    "X_U2R=scaler4.transform(X_U2R) \n",
    "# test data\n",
    "scaler5 = preprocessing.StandardScaler().fit(X_DoS_test)\n",
    "X_DoS_test=scaler5.transform(X_DoS_test) \n",
    "scaler6 = preprocessing.StandardScaler().fit(X_Probe_test)\n",
    "X_Probe_test=scaler6.transform(X_Probe_test) \n",
    "scaler7 = preprocessing.StandardScaler().fit(X_R2L_test)\n",
    "X_R2L_test=scaler7.transform(X_R2L_test) \n",
    "scaler8 = preprocessing.StandardScaler().fit(X_U2R_test)\n",
    "X_U2R_test=scaler8.transform(X_U2R_test)\n",
    "\n",
    "#Check the result of data normalization\n",
    "print(X_DoS)\n",
    "print(X_DoS)"
   ]
  },
  {
   "cell_type": "markdown",
   "metadata": {},
   "source": [
    "### PERFORMANCE EVALUATION BEFORE THE PROPOSED METHOD"
   ]
  },
  {
   "cell_type": "markdown",
   "metadata": {},
   "source": [
    "### DoS"
   ]
  },
  {
   "cell_type": "code",
   "execution_count": 16,
   "metadata": {},
   "outputs": [],
   "source": [
    "start1 = time.time()\n",
    "clf_DoS = DecisionTreeClassifier(random_state=0)\n",
    "clf_DoS.fit(X_DoS, Y_DoS)\n",
    "Y_DoS_pred = clf_DoS.predict(X_DoS_test)\n",
    "time1 = (time.time()-start1)"
   ]
  },
  {
   "cell_type": "code",
   "execution_count": 17,
   "metadata": {},
   "outputs": [
    {
     "name": "stdout",
     "output_type": "stream",
     "text": [
      "Predicted activity     0     1\n",
      "Actual activity               \n",
      "0                   9499   212\n",
      "1                   2830  4630\n",
      "Accuracy DoS all features :  0.822840836293751\n",
      "Sensitivity DoS all features :  0.6206434316353887\n",
      "Specificity DoS all features : 0.9781690866028215\n",
      "False Alarm rate DoS all features :  0.021830913397178457\n",
      "Computation time DoS all features :  2.198688268661499\n"
     ]
    }
   ],
   "source": [
    "cm_dos_all = confusion_matrix(Y_DoS_test, Y_DoS_pred)\n",
    "print(pd.crosstab(Y_DoS_test, Y_DoS_pred, rownames=['Actual activity'], colnames=['Predicted activity']))\n",
    "TP_dos_all = cm_dos_all[1][1]\n",
    "FN_dos_all = cm_dos_all[1][0]\n",
    "FP_dos_all = cm_dos_all[0][1]\n",
    "TN_dos_all = cm_dos_all[0][0]\n",
    "acc_dos_all = (TP_dos_all+TN_dos_all)/(TP_dos_all+TN_dos_all+FP_dos_all+FN_dos_all)\n",
    "sen_dos_all = TP_dos_all/(TP_dos_all+FN_dos_all)\n",
    "spe_dos_all = TN_dos_all/(TN_dos_all+FP_dos_all)\n",
    "fal_dos_all = FP_dos_all/(FP_dos_all+TN_dos_all)\n",
    "print(\"Accuracy DoS all features : \", acc_dos_all)\n",
    "print(\"Sensitivity DoS all features : \", sen_dos_all)\n",
    "print(\"Specificity DoS all features :\", spe_dos_all)\n",
    "print(\"False Alarm rate DoS all features : \", fal_dos_all)\n",
    "print(\"Computation time DoS all features : \", time1)"
   ]
  },
  {
   "cell_type": "markdown",
   "metadata": {},
   "source": [
    "### Probe"
   ]
  },
  {
   "cell_type": "code",
   "execution_count": 18,
   "metadata": {},
   "outputs": [],
   "source": [
    "start2 = time.time()\n",
    "clf_Probe = DecisionTreeClassifier(random_state=0)\n",
    "clf_Probe.fit(X_Probe, Y_Probe)\n",
    "Y_Probe_pred = clf_Probe.predict(X_Probe_test)\n",
    "time2 = (time.time()-start2)"
   ]
  },
  {
   "cell_type": "code",
   "execution_count": 19,
   "metadata": {},
   "outputs": [
    {
     "name": "stdout",
     "output_type": "stream",
     "text": [
      "Predicted activity     0     2\n",
      "Actual activity               \n",
      "0                   2337  7374\n",
      "2                    212  2209\n",
      "Accuracy Probe all features :  0.3747115067589845\n",
      "Sensitivity Probe all features :  0.9124328789756299\n",
      "Specificity Probe all features : 0.24065492740191535\n",
      "False Alarm rate Probe all features :  0.7593450725980846\n",
      "Computation time Probe all features :  1.5099284648895264\n"
     ]
    }
   ],
   "source": [
    "cm_Probe_all = confusion_matrix(Y_Probe_test, Y_Probe_pred)\n",
    "print(pd.crosstab(Y_Probe_test, Y_Probe_pred, rownames=['Actual activity'], colnames=['Predicted activity']))\n",
    "TP_Probe_all = cm_Probe_all[1][1]\n",
    "FN_Probe_all = cm_Probe_all[1][0]\n",
    "FP_Probe_all = cm_Probe_all[0][1]\n",
    "TN_Probe_all = cm_Probe_all[0][0]\n",
    "acc_Probe_all = (TP_Probe_all+TN_Probe_all)/(TP_Probe_all+TN_Probe_all+FP_Probe_all+FN_Probe_all)\n",
    "sen_Probe_all = TP_Probe_all/(TP_Probe_all+FN_Probe_all)\n",
    "spe_Probe_all = TN_Probe_all/(TN_Probe_all+FP_Probe_all)\n",
    "fal_Probe_all = FP_Probe_all/(FP_Probe_all+TN_Probe_all)\n",
    "print(\"Accuracy Probe all features : \", acc_Probe_all)\n",
    "print(\"Sensitivity Probe all features : \", sen_Probe_all)\n",
    "print(\"Specificity Probe all features :\", spe_Probe_all)\n",
    "print(\"False Alarm rate Probe all features : \", fal_Probe_all)\n",
    "print(\"Computation time Probe all features : \", time2)"
   ]
  },
  {
   "cell_type": "markdown",
   "metadata": {},
   "source": [
    "### R2L"
   ]
  },
  {
   "cell_type": "code",
   "execution_count": 20,
   "metadata": {},
   "outputs": [],
   "source": [
    "start3 = time.time()\n",
    "clf_R2L = DecisionTreeClassifier(random_state=0)\n",
    "clf_R2L.fit(X_R2L, Y_R2L)\n",
    "Y_R2L_pred = clf_R2L.predict(X_R2L_test)\n",
    "time3 = (time.time()-start3)"
   ]
  },
  {
   "cell_type": "code",
   "execution_count": 21,
   "metadata": {},
   "outputs": [
    {
     "name": "stdout",
     "output_type": "stream",
     "text": [
      "Predicted activity     0    3\n",
      "Actual activity              \n",
      "0                   9707    4\n",
      "3                   2573  312\n",
      "Accuracy R2L all features :  0.7954112416640203\n",
      "Sensitivity R2L all features :  0.10814558058925476\n",
      "Specificity R2L all features : 0.9995880959736382\n",
      "False Alarm rate R2L all features :  0.0004119040263618577\n",
      "Computation time R2L all features :  0.9844636917114258\n"
     ]
    }
   ],
   "source": [
    "cm_R2L_all = confusion_matrix(Y_R2L_test, Y_R2L_pred)\n",
    "print(pd.crosstab(Y_R2L_test, Y_R2L_pred, rownames=['Actual activity'], colnames=['Predicted activity']))\n",
    "TP_R2L_all = cm_R2L_all[1][1]\n",
    "FN_R2L_all = cm_R2L_all[1][0]\n",
    "FP_R2L_all = cm_R2L_all[0][1]\n",
    "TN_R2L_all = cm_R2L_all[0][0]\n",
    "acc_R2L_all = (TP_R2L_all+TN_R2L_all)/(TP_R2L_all+TN_R2L_all+FP_R2L_all+FN_R2L_all)\n",
    "sen_R2L_all = TP_R2L_all/(TP_R2L_all+FN_R2L_all)\n",
    "spe_R2L_all = TN_R2L_all/(TN_R2L_all+FP_R2L_all)\n",
    "fal_R2L_all = FP_R2L_all/(FP_R2L_all+TN_R2L_all)\n",
    "print(\"Accuracy R2L all features : \", acc_R2L_all)\n",
    "print(\"Sensitivity R2L all features : \", sen_R2L_all)\n",
    "print(\"Specificity R2L all features :\", spe_R2L_all)\n",
    "print(\"False Alarm rate R2L all features : \", fal_R2L_all)\n",
    "print(\"Computation time R2L all features : \", time3)"
   ]
  },
  {
   "cell_type": "markdown",
   "metadata": {},
   "source": [
    "### U2R"
   ]
  },
  {
   "cell_type": "code",
   "execution_count": 22,
   "metadata": {},
   "outputs": [],
   "source": [
    "start4 = time.time()\n",
    "clf_U2R = DecisionTreeClassifier(random_state=0)\n",
    "clf_U2R.fit(X_U2R, Y_U2R)\n",
    "Y_U2R_pred = clf_U2R.predict(X_U2R_test)\n",
    "time4 = (time.time()-start4)"
   ]
  },
  {
   "cell_type": "code",
   "execution_count": 23,
   "metadata": {},
   "outputs": [
    {
     "name": "stdout",
     "output_type": "stream",
     "text": [
      "Predicted activity     0  4\n",
      "Actual activity            \n",
      "0                   9703  8\n",
      "4                     60  7\n",
      "Accuracy U2R all features :  0.9930456125997137\n",
      "Sensitivity U2R all features :  0.1044776119402985\n",
      "Specificity U2R all features : 0.9991761919472762\n",
      "False Alarm rate U2R all features :  0.0008238080527237154\n",
      "Computation time U2R all features :  0.662438154220581\n"
     ]
    }
   ],
   "source": [
    "cm_U2R_all = confusion_matrix(Y_U2R_test, Y_U2R_pred)\n",
    "print(pd.crosstab(Y_U2R_test, Y_U2R_pred, rownames=['Actual activity'], colnames=['Predicted activity']))\n",
    "TP_U2R_all = cm_U2R_all[1][1]\n",
    "FN_U2R_all = cm_U2R_all[1][0]\n",
    "FP_U2R_all = cm_U2R_all[0][1]\n",
    "TN_U2R_all = cm_U2R_all[0][0]\n",
    "acc_U2R_all = (TP_U2R_all+TN_U2R_all)/(TP_U2R_all+TN_U2R_all+FP_U2R_all+FN_U2R_all)\n",
    "sen_U2R_all = TP_U2R_all/(TP_U2R_all+FN_U2R_all)\n",
    "spe_U2R_all = TN_U2R_all/(TN_U2R_all+FP_U2R_all)\n",
    "fal_U2R_all = FP_U2R_all/(FP_U2R_all+TN_U2R_all)\n",
    "print(\"Accuracy U2R all features : \", acc_U2R_all)\n",
    "print(\"Sensitivity U2R all features : \", sen_U2R_all)\n",
    "print(\"Specificity U2R all features :\", spe_U2R_all)\n",
    "print(\"False Alarm rate U2R all features : \", fal_U2R_all)\n",
    "print(\"Computation time U2R all features : \", time4)"
   ]
  },
  {
   "cell_type": "markdown",
   "metadata": {},
   "source": [
    "## PROPOSED METHOD\n",
    "## DoS\n",
    "### Filter method - Calculate features importance"
   ]
  },
  {
   "cell_type": "code",
   "execution_count": 24,
   "metadata": {},
   "outputs": [
    {
     "name": "stdout",
     "output_type": "stream",
     "text": [
      "Feature importance of DoS : \n",
      "0.7477422769453029\n",
      "0.08553569080080681\n",
      "0.07779626099918012\n",
      "0.029020098931090796\n",
      "0.02800705404339967\n",
      "0.02239883985079247\n",
      "0.0030026152799276264\n",
      "0.002134426001107195\n",
      "0.0010236583065813608\n",
      "0.0007394068520952914\n",
      "0.000660268301327926\n",
      "0.00042939346755217853\n",
      "0.00040254058884719437\n",
      "0.0002777885194002598\n",
      "0.00018304563569080526\n",
      "0.00012191196829023436\n",
      "0.00010984918391706662\n",
      "8.138107392178597e-05\n",
      "7.590192736652465e-05\n",
      "4.695024702563871e-05\n",
      "4.6723689269332595e-05\n",
      "3.658168833467759e-05\n",
      "3.581247125869956e-05\n",
      "3.380897636310793e-05\n",
      "1.8530348046183034e-05\n",
      "1.8498177303047283e-05\n",
      "1.669011950352225e-05\n",
      "3.995606297458221e-06\n",
      "0.0\n",
      "0.0\n",
      "0.0\n",
      "0.0\n",
      "0.0\n",
      "0.0\n",
      "0.0\n",
      "0.0\n",
      "0.0\n",
      "0.0\n",
      "0.0\n",
      "0.0\n",
      "0.0\n",
      "0.0\n",
      "0.0\n",
      "0.0\n",
      "0.0\n",
      "0.0\n",
      "0.0\n",
      "0.0\n",
      "0.0\n",
      "0.0\n",
      "0.0\n",
      "0.0\n",
      "0.0\n",
      "0.0\n",
      "0.0\n",
      "0.0\n",
      "0.0\n",
      "0.0\n",
      "0.0\n",
      "0.0\n",
      "0.0\n",
      "0.0\n",
      "0.0\n",
      "0.0\n",
      "0.0\n",
      "0.0\n",
      "0.0\n",
      "0.0\n",
      "0.0\n",
      "0.0\n",
      "0.0\n",
      "0.0\n",
      "0.0\n",
      "0.0\n",
      "0.0\n",
      "0.0\n",
      "0.0\n",
      "0.0\n",
      "0.0\n",
      "0.0\n",
      "0.0\n",
      "0.0\n",
      "0.0\n",
      "0.0\n",
      "0.0\n",
      "0.0\n",
      "0.0\n",
      "0.0\n",
      "0.0\n",
      "0.0\n",
      "0.0\n",
      "0.0\n",
      "0.0\n",
      "0.0\n",
      "0.0\n",
      "0.0\n",
      "0.0\n",
      "0.0\n",
      "0.0\n",
      "0.0\n",
      "0.0\n",
      "0.0\n",
      "0.0\n",
      "0.0\n",
      "0.0\n",
      "0.0\n",
      "0.0\n",
      "0.0\n",
      "0.0\n",
      "0.0\n",
      "0.0\n",
      "0.0\n",
      "0.0\n",
      "0.0\n",
      "0.0\n",
      "0.0\n",
      "0.0\n",
      "0.0\n",
      "0.0\n",
      "0.0\n",
      "0.0\n",
      "0.0\n"
     ]
    },
    {
     "data": {
      "image/png": "[encoded data removed]",
      "text/plain": [
       "<Figure size 432x288 with 1 Axes>"
      ]
     },
     "metadata": {
      "needs_background": "light"
     },
     "output_type": "display_data"
    }
   ],
   "source": [
    "n = 122\n",
    "model_DoS = DecisionTreeClassifier(random_state=0)\n",
    "#DoS\n",
    "model_DoS.fit(X_DoS,Y_DoS)\n",
    "feat_importances = pd.Series(model_DoS.feature_importances_, index=colNames)\n",
    "feat_importances.nlargest(n).plot(kind='line')\n",
    "print(\"Feature importance of DoS : \")\n",
    "for x in feat_importances.nlargest(n):\n",
    "    print(x)\n",
    "plt.show()"
   ]
  },
  {
   "cell_type": "code",
   "execution_count": 25,
   "metadata": {},
   "outputs": [
    {
     "name": "stdout",
     "output_type": "stream",
     "text": [
      "duration                       0.000000\n",
      "src_bytes                      0.077796\n",
      "dst_bytes                      0.001024\n",
      "land                           0.000037\n",
      "wrong_fragment                 0.028007\n",
      "urgent                         0.000000\n",
      "hot                            0.000000\n",
      "num_failed_logins              0.000000\n",
      "logged_in                      0.000183\n",
      "num_compromised                0.022399\n",
      "root_shell                     0.000000\n",
      "su_attempted                   0.000000\n",
      "num_root                       0.000000\n",
      "num_file_creations             0.000000\n",
      "num_shells                     0.000000\n",
      "num_access_files               0.000000\n",
      "num_outbound_cmds              0.000000\n",
      "is_host_login                  0.000000\n",
      "is_guest_login                 0.000000\n",
      "count                          0.000034\n",
      "srv_count                      0.000004\n",
      "serror_rate                    0.000000\n",
      "srv_serror_rate                0.000000\n",
      "rerror_rate                    0.000000\n",
      "srv_rerror_rate                0.000000\n",
      "same_srv_rate                  0.747742\n",
      "diff_srv_rate                  0.000403\n",
      "srv_diff_host_rate             0.000000\n",
      "dst_host_count                 0.000122\n",
      "dst_host_srv_count             0.000081\n",
      "dst_host_same_srv_rate         0.000076\n",
      "dst_host_diff_srv_rate         0.000278\n",
      "dst_host_same_src_port_rate    0.000036\n",
      "dst_host_srv_diff_host_rate    0.000047\n",
      "dst_host_serror_rate           0.029020\n",
      "dst_host_srv_serror_rate       0.003003\n",
      "dst_host_rerror_rate           0.000660\n",
      "dst_host_srv_rerror_rate       0.000019\n",
      "Protocol_type_icmp             0.000000\n",
      "Protocol_type_tcp              0.000000\n",
      "Protocol_type_udp              0.000000\n",
      "service_IRC                    0.000000\n",
      "service_X11                    0.000000\n",
      "service_Z39_50                 0.000000\n",
      "service_aol                    0.000000\n",
      "service_auth                   0.000000\n",
      "service_bgp                    0.000000\n",
      "service_courier                0.000000\n",
      "service_csnet_ns               0.000000\n",
      "service_ctf                    0.000000\n",
      "service_daytime                0.000000\n",
      "service_discard                0.000000\n",
      "service_domain                 0.000000\n",
      "service_domain_u               0.000000\n",
      "service_echo                   0.000000\n",
      "service_eco_i                  0.000000\n",
      "service_ecr_i                  0.085536\n",
      "service_efs                    0.000000\n",
      "service_exec                   0.000000\n",
      "service_finger                 0.000018\n",
      "service_ftp                    0.000000\n",
      "service_ftp_data               0.000000\n",
      "service_gopher                 0.000000\n",
      "service_harvest                0.000000\n",
      "service_hostnames              0.000000\n",
      "service_http                   0.000429\n",
      "service_http_2784              0.000000\n",
      "service_http_443               0.000000\n",
      "service_http_8001              0.000000\n",
      "service_imap4                  0.000000\n",
      "service_iso_tsap               0.000000\n",
      "service_klogin                 0.000000\n",
      "service_kshell                 0.000000\n",
      "service_ldap                   0.000000\n",
      "service_link                   0.000000\n",
      "service_login                  0.000000\n",
      "service_mtp                    0.000000\n",
      "service_name                   0.000000\n",
      "service_netbios_dgm            0.000000\n",
      "service_netbios_ns             0.000000\n",
      "service_netbios_ssn            0.000000\n",
      "service_netstat                0.000000\n",
      "service_nnsp                   0.000000\n",
      "service_nntp                   0.000000\n",
      "service_ntp_u                  0.000000\n",
      "service_other                  0.000000\n",
      "service_pm_dump                0.000000\n",
      "service_pop_2                  0.000000\n",
      "service_pop_3                  0.000000\n",
      "service_printer                0.000000\n",
      "service_private                0.000017\n",
      "service_red_i                  0.000000\n",
      "service_remote_job             0.000000\n",
      "service_rje                    0.000000\n",
      "service_shell                  0.000000\n",
      "service_smtp                   0.000000\n",
      "service_sql_net                0.000000\n",
      "service_ssh                    0.000000\n",
      "service_sunrpc                 0.000000\n",
      "service_supdup                 0.000000\n",
      "service_systat                 0.000000\n",
      "service_telnet                 0.000000\n",
      "service_tftp_u                 0.000110\n",
      "service_tim_i                  0.000047\n",
      "service_time                   0.000000\n",
      "service_urh_i                  0.000000\n",
      "service_urp_i                  0.000000\n",
      "service_uucp                   0.000000\n",
      "service_uucp_path              0.000000\n",
      "service_vmnet                  0.000000\n",
      "service_whois                  0.000000\n",
      "flag_OTH                       0.000000\n",
      "flag_REJ                       0.000000\n",
      "flag_RSTO                      0.000000\n",
      "flag_RSTOS0                    0.000000\n",
      "flag_RSTR                      0.000739\n",
      "flag_S0                        0.002134\n",
      "flag_S1                        0.000000\n",
      "flag_S2                        0.000000\n",
      "flag_S3                        0.000000\n",
      "flag_SF                        0.000000\n",
      "flag_SH                        0.000000\n",
      "dtype: float64\n"
     ]
    }
   ],
   "source": [
    "pd.set_option('display.max_rows', None)\n",
    "print(feat_importances)"
   ]
  },
  {
   "cell_type": "markdown",
   "metadata": {},
   "source": [
    "### Using mean threshold to separate importances features with unused features"
   ]
  },
  {
   "cell_type": "code",
   "execution_count": 28,
   "metadata": {},
   "outputs": [],
   "source": [
    "from statistics import median\n",
    "\n",
    "feat_dos_value = []\n",
    "dosIm = []\n",
    "#create list of importance value\n",
    "for i in range(0,122,1):\n",
    "  feat_dos_value.append(feat_importances[i])\n",
    "\n",
    "#delete non zero\n",
    "#create threshold from median value \n",
    "dos_nonzero = [x for x in feat_dos_value if x != 0]\n",
    "thres = median(dos_nonzero)\n",
    "\n",
    "#remove feature below threhsold\n",
    "for j in range(0,122,1):\n",
    "  if(feat_dos_value[j] > thres): \n",
    "    dosIm.append(j)\n",
    "\n",
    "#calculate how many features\n",
    "n_dos_feat = len(dosIm)"
   ]
  },
  {
   "cell_type": "markdown",
   "metadata": {},
   "source": [
    "### Wrapper method - RFE"
   ]
  },
  {
   "cell_type": "code",
   "execution_count": 29,
   "metadata": {},
   "outputs": [
    {
     "name": "stdout",
     "output_type": "stream",
     "text": [
      "combination of parameters: {'n_features': 1} ended \n",
      "combination of parameters: {'n_features': 2} ended \n",
      "combination of parameters: {'n_features': 3} ended \n",
      "combination of parameters: {'n_features': 4} ended \n",
      "combination of parameters: {'n_features': 5} ended \n",
      "combination of parameters: {'n_features': 6} ended \n",
      "combination of parameters: {'n_features': 7} ended \n",
      "combination of parameters: {'n_features': 8} ended \n",
      "combination of parameters: {'n_features': 9} ended \n",
      "combination of parameters: {'n_features': 10} ended \n",
      "combination of parameters: {'n_features': 11} ended \n",
      "combination of parameters: {'n_features': 12} ended \n",
      "combination of parameters: {'n_features': 13} ended \n",
      "combination of parameters: {'n_features': 14} ended \n"
     ]
    }
   ],
   "source": [
    "param_grid = {'n_features':[i for i in range(1,n_dos_feat+1,1)]}\n",
    "\n",
    "#DoS\n",
    "cv_res_dos=[]\n",
    "for params in ParameterGrid(param_grid):\n",
    "    cv_folds = []\n",
    "        \n",
    "    dcs = DecisionTreeClassifier(random_state=0)\n",
    "    rfe_grid = RFE(estimator=dcs, n_features_to_select=params['n_features'], step=1)\n",
    "    rfe_grid.fit(X_DoS, Y_DoS)\n",
    "        \n",
    "    cv_folds.append(rfe_grid.score(X_DoS_test, Y_DoS_test))\n",
    "    \n",
    "    cv_res_dos.append(np.mean(cv_folds))\n",
    "    print(\"combination of parameters: \" + str(params) + \" ended \")\n"
   ]
  },
  {
   "cell_type": "markdown",
   "metadata": {},
   "source": [
    "### find best subset of features combination"
   ]
  },
  {
   "cell_type": "code",
   "execution_count": 30,
   "metadata": {},
   "outputs": [
    {
     "name": "stdout",
     "output_type": "stream",
     "text": [
      "Best score RFE :  0.8898142216527867\n",
      "Number of selected features :  8\n"
     ]
    }
   ],
   "source": [
    "max_rfe_dos = cv_res_dos[0]\n",
    "for f in range(0,len(cv_res_dos),1):\n",
    "    if cv_res_dos[f] > max_rfe_dos:\n",
    "      max_rfe_dos = cv_res_dos[f]\n",
    "      ind_max_dos = f+1\n",
    "print(\"Best score RFE : \",max_rfe_dos)\n",
    "print(\"Number of selected features : \", ind_max_dos)"
   ]
  },
  {
   "cell_type": "code",
   "execution_count": 31,
   "metadata": {},
   "outputs": [
    {
     "name": "stdout",
     "output_type": "stream",
     "text": [
      "0.43439520121134473\n",
      "0.39875371265505793\n",
      "0.39875371265505793\n",
      "0.8548715858132898\n",
      "0.8544056840020966\n",
      "0.8724011414594374\n",
      "0.874031797798614\n",
      "0.8898142216527867\n",
      "0.849164288626172\n",
      "0.8425251878166676\n",
      "0.8401956787607012\n",
      "0.8269757148680915\n",
      "0.8407780560246928\n",
      "0.8318676838856212\n"
     ]
    }
   ],
   "source": [
    "for x in cv_res_dos:\n",
    "    print(x)"
   ]
  },
  {
   "cell_type": "code",
   "execution_count": 32,
   "metadata": {},
   "outputs": [
    {
     "name": "stdout",
     "output_type": "stream",
     "text": [
      "Features selected for DoS: ['src_bytes', 'dst_bytes', 'wrong_fragment', 'num_compromised', 'same_srv_rate', 'dst_host_serror_rate', 'dst_host_srv_serror_rate', 'service_ecr_i']\n",
      "\n",
      "(113270, 8)\n"
     ]
    }
   ],
   "source": [
    "#RFE DOS\n",
    "est = DecisionTreeClassifier(random_state=0)\n",
    "rfe_DoS = RFE(estimator=est, n_features_to_select=ind_max_dos, step=1)\n",
    "#rfe_DoS = RFE(estimator=est, n_features_to_select=8, step=1)\n",
    "rfe_DoS.fit(X_DoS, Y_DoS)\n",
    "X_DoS_rfe = rfe_DoS.transform(X_DoS)\n",
    "true=rfe_DoS.support_\n",
    "rfecolindex_DoS=[i for i, x in enumerate(true) if x]\n",
    "rfecolname_DoS=list(colNames[i] for i in rfecolindex_DoS)\n",
    "\n",
    "print('Features selected for DoS:',rfecolname_DoS)\n",
    "print()\n",
    "print(X_DoS_rfe.shape)"
   ]
  },
  {
   "cell_type": "markdown",
   "metadata": {},
   "source": [
    "## Evaluate the method\n",
    "### Feat + RFE"
   ]
  },
  {
   "cell_type": "code",
   "execution_count": 34,
   "metadata": {},
   "outputs": [],
   "source": [
    "X_DoS_test2=X_DoS_test[:,rfecolindex_DoS]\n",
    "start5 = time.time()\n",
    "clf_DoS_rfe = DecisionTreeClassifier(random_state=0)\n",
    "clf_DoS_rfe.fit(X_DoS_rfe, Y_DoS)\n",
    "Y_DoS_pred2 = clf_DoS_rfe.predict(X_DoS_test2)\n",
    "time5 = (time.time()-start5)"
   ]
  },
  {
   "cell_type": "code",
   "execution_count": 35,
   "metadata": {},
   "outputs": [
    {
     "name": "stdout",
     "output_type": "stream",
     "text": [
      "Predicted activity     0     1\n",
      "Actual activity               \n",
      "0                   9448   263\n",
      "1                   1629  5831\n",
      "Accuracy DoS all features :  0.8898142216527867\n",
      "Sensitivity DoS all features :  0.7816353887399464\n",
      "Specificity DoS all features : 0.9729173102667078\n",
      "False Alarm rate DoS all features :  0.027082689733292142\n",
      "Computation time DoS all features :  0.2005314826965332\n"
     ]
    }
   ],
   "source": [
    "cm_dos_rfe = confusion_matrix(Y_DoS_test, Y_DoS_pred2)\n",
    "print(pd.crosstab(Y_DoS_test, Y_DoS_pred2, rownames=['Actual activity'], colnames=['Predicted activity']))\n",
    "TP_dos_rfe = cm_dos_rfe[1][1]\n",
    "FN_dos_rfe = cm_dos_rfe[1][0]\n",
    "FP_dos_rfe = cm_dos_rfe[0][1]\n",
    "TN_dos_rfe = cm_dos_rfe[0][0]\n",
    "acc_dos_rfe = (TP_dos_rfe+TN_dos_rfe)/(TP_dos_rfe+TN_dos_rfe+FP_dos_rfe+FN_dos_rfe)\n",
    "sen_dos_rfe = TP_dos_rfe/(TP_dos_rfe+FN_dos_rfe)\n",
    "spe_dos_rfe = TN_dos_rfe/(TN_dos_rfe+FP_dos_rfe)\n",
    "fal_dos_rfe = FP_dos_rfe/(FP_dos_rfe+TN_dos_rfe)\n",
    "print(\"Accuracy DoS all features : \", acc_dos_rfe)\n",
    "print(\"Sensitivity DoS all features : \", sen_dos_rfe)\n",
    "print(\"Specificity DoS all features :\", spe_dos_rfe)\n",
    "print(\"False Alarm rate DoS all features : \", fal_dos_rfe)\n",
    "print(\"Computation time DoS all features : \", time5)"
   ]
  },
  {
   "cell_type": "markdown",
   "metadata": {},
   "source": [
    "### With Cross-validation"
   ]
  },
  {
   "cell_type": "code",
   "execution_count": 37,
   "metadata": {},
   "outputs": [
    {
     "data": {
      "text/html": [
       "<div>\n",
       "<style scoped>\n",
       "    .dataframe tbody tr th:only-of-type {\n",
       "        vertical-align: middle;\n",
       "    }\n",
       "\n",
       "    .dataframe tbody tr th {\n",
       "        vertical-align: top;\n",
       "    }\n",
       "\n",
       "    .dataframe thead th {\n",
       "        text-align: right;\n",
       "    }\n",
       "</style>\n",
       "<table border=\"1\" class=\"dataframe\">\n",
       "  <thead>\n",
       "    <tr style=\"text-align: right;\">\n",
       "      <th>Predicted attacks</th>\n",
       "      <th>0</th>\n",
       "      <th>1</th>\n",
       "    </tr>\n",
       "    <tr>\n",
       "      <th>Actual attacks</th>\n",
       "      <th></th>\n",
       "      <th></th>\n",
       "    </tr>\n",
       "  </thead>\n",
       "  <tbody>\n",
       "    <tr>\n",
       "      <th>0</th>\n",
       "      <td>9659</td>\n",
       "      <td>52</td>\n",
       "    </tr>\n",
       "    <tr>\n",
       "      <th>1</th>\n",
       "      <td>30</td>\n",
       "      <td>7430</td>\n",
       "    </tr>\n",
       "  </tbody>\n",
       "</table>\n",
       "</div>"
      ],
      "text/plain": [
       "Predicted attacks     0     1\n",
       "Actual attacks               \n",
       "0                  9659    52\n",
       "1                    30  7430"
      ]
     },
     "execution_count": 37,
     "metadata": {},
     "output_type": "execute_result"
    }
   ],
   "source": [
    "rfe_pred_DoS = cross_val_predict(clf_DoS_rfe, X_DoS_test2, Y_DoS_test, cv=10)\n",
    "pd.crosstab(Y_DoS_test, rfe_pred_DoS, rownames=['Actual attacks'], colnames=['Predicted attacks'])"
   ]
  },
  {
   "cell_type": "markdown",
   "metadata": {},
   "source": [
    "## Data reduction\n",
    "## Local Outlier Factor"
   ]
  },
  {
   "cell_type": "code",
   "execution_count": 38,
   "metadata": {},
   "outputs": [
    {
     "name": "stdout",
     "output_type": "stream",
     "text": [
      "Dataset shapes before : \n",
      "(113270, 8)\n",
      "(17171, 8)\n"
     ]
    }
   ],
   "source": [
    "print(\"Dataset shapes before : \")\n",
    "print(X_DoS_rfe.shape)\n",
    "print(X_DoS_test2.shape)"
   ]
  },
  {
   "cell_type": "markdown",
   "metadata": {},
   "source": [
    "### Calculate local outlier factor "
   ]
  },
  {
   "cell_type": "code",
   "execution_count": 39,
   "metadata": {},
   "outputs": [],
   "source": [
    "model_dos_lof = LocalOutlierFactor(n_neighbors = 300, contamination='auto')\n",
    "model_dos_lof.fit_predict(X_DoS_rfe)\n",
    "lof_dos_score = model_dos_lof.negative_outlier_factor_"
   ]
  },
  {
   "cell_type": "code",
   "execution_count": 40,
   "metadata": {},
   "outputs": [
    {
     "name": "stdout",
     "output_type": "stream",
     "text": [
      "-0.9399887517314842\n",
      "-30309265977.535065\n"
     ]
    }
   ],
   "source": [
    "print(max(lof_dos_score))\n",
    "print(min(lof_dos_score))"
   ]
  },
  {
   "cell_type": "code",
   "execution_count": 41,
   "metadata": {},
   "outputs": [
    {
     "name": "stdout",
     "output_type": "stream",
     "text": [
      "mean of the dataset is -26261534.632225785\n",
      "std. deviation is 545693028.795136\n"
     ]
    }
   ],
   "source": [
    "dos_mean = np.mean(lof_dos_score)\n",
    "dos_std = np.std(lof_dos_score)\n",
    "print('mean of the dataset is', dos_mean) \n",
    "print('std. deviation is', dos_std) "
   ]
  },
  {
   "cell_type": "code",
   "execution_count": 42,
   "metadata": {},
   "outputs": [],
   "source": [
    "outlier_zscore = []\n",
    "for i in lof_dos_score:\n",
    "    z_score = (i-dos_mean)/dos_std\n",
    "    outlier_zscore.append(z_score)"
   ]
  },
  {
   "cell_type": "code",
   "execution_count": 43,
   "metadata": {},
   "outputs": [],
   "source": [
    "outlier = []\n",
    "thres = 2\n",
    "indexdos = []\n",
    "for x in range(0,len(X_DoS_rfe),1):\n",
    "    if abs(outlier_zscore[x]) > thres:\n",
    "        outlier.append(outlier_zscore[x])\n",
    "    elif abs(outlier_zscore[x]) < thres:\n",
    "        #index non outlier data \n",
    "        indexdos.append(x)"
   ]
  },
  {
   "cell_type": "code",
   "execution_count": 44,
   "metadata": {},
   "outputs": [
    {
     "name": "stdout",
     "output_type": "stream",
     "text": [
      "272\n",
      "112998\n"
     ]
    }
   ],
   "source": [
    "print(len(outlier))\n",
    "print(len(indexdos))"
   ]
  },
  {
   "cell_type": "code",
   "execution_count": 45,
   "metadata": {},
   "outputs": [
    {
     "name": "stdout",
     "output_type": "stream",
     "text": [
      "(112998, 8)\n",
      "(112998,)\n"
     ]
    }
   ],
   "source": [
    "X_DoS_lof = X_DoS_rfe[indexdos]\n",
    "Y_DoS_lof = Y_DoS.iloc[indexdos]\n",
    "print(X_DoS_lof.shape)\n",
    "print(Y_DoS_lof.shape)"
   ]
  },
  {
   "cell_type": "code",
   "execution_count": 46,
   "metadata": {},
   "outputs": [
    {
     "name": "stdout",
     "output_type": "stream",
     "text": [
      "(113270, 8)\n",
      "(17171, 8)\n",
      "(113270,)\n",
      "(17171,)\n"
     ]
    }
   ],
   "source": [
    "print(X_DoS_rfe.shape)\n",
    "print(X_DoS_test2.shape)\n",
    "print(Y_DoS.shape)\n",
    "print(Y_DoS_test.shape)"
   ]
  },
  {
   "cell_type": "markdown",
   "metadata": {},
   "source": [
    "### EVALUATE THE DATA REDUCTION METHOD"
   ]
  },
  {
   "cell_type": "code",
   "execution_count": 47,
   "metadata": {},
   "outputs": [],
   "source": [
    "X_DoS_test2=X_DoS_test[:,rfecolindex_DoS]\n",
    "start9 = time.time()\n",
    "clf_DoS_lof = DecisionTreeClassifier(random_state=0)\n",
    "clf_DoS_lof.fit(X_DoS_lof, Y_DoS_lof)\n",
    "Y_DoS_pred_lof = clf_DoS_lof.predict(X_DoS_test2)\n",
    "time9 = (time.time()-start9)"
   ]
  },
  {
   "cell_type": "code",
   "execution_count": 48,
   "metadata": {},
   "outputs": [
    {
     "name": "stdout",
     "output_type": "stream",
     "text": [
      "Predicted activity     0     1\n",
      "Actual activity               \n",
      "0                   9448   263\n",
      "1                   1629  5831\n",
      "Accuracy DoS all features :  0.8898142216527867\n",
      "Sensitivity DoS all features :  0.7816353887399464\n",
      "Specificity DoS all features : 0.9729173102667078\n",
      "False Alarm rate DoS all features :  0.027082689733292142\n",
      "Computation time DoS all features :  0.30999755859375\n"
     ]
    }
   ],
   "source": [
    "cm_dos_lof = confusion_matrix(Y_DoS_test, Y_DoS_pred_lof)\n",
    "print(pd.crosstab(Y_DoS_test, Y_DoS_pred_lof, rownames=['Actual activity'], colnames=['Predicted activity']))\n",
    "TP_dos_lof = cm_dos_lof[1][1]\n",
    "FN_dos_lof = cm_dos_lof[1][0]\n",
    "FP_dos_lof = cm_dos_lof[0][1]\n",
    "TN_dos_lof = cm_dos_lof[0][0]\n",
    "acc_dos_lof = (TP_dos_lof+TN_dos_lof)/(TP_dos_lof+TN_dos_lof+FP_dos_lof+FN_dos_lof)\n",
    "sen_dos_lof = TP_dos_lof/(TP_dos_lof+FN_dos_lof)\n",
    "spe_dos_lof = TN_dos_lof/(TN_dos_lof+FP_dos_lof)\n",
    "fal_dos_lof = FP_dos_lof/(FP_dos_lof+TN_dos_lof)\n",
    "print(\"Accuracy DoS all features : \", acc_dos_lof)\n",
    "print(\"Sensitivity DoS all features : \", sen_dos_lof)\n",
    "print(\"Specificity DoS all features :\", spe_dos_lof)\n",
    "print(\"False Alarm rate DoS all features : \", fal_dos_lof)\n",
    "print(\"Computation time DoS all features : \", time9)"
   ]
  },
  {
   "cell_type": "code",
   "execution_count": 49,
   "metadata": {},
   "outputs": [
    {
     "name": "stdout",
     "output_type": "stream",
     "text": [
      "Accuracy: 0.99942 (+/- 0.00050)\n"
     ]
    }
   ],
   "source": [
    "accuracy = cross_val_score(clf_DoS_lof, X_DoS_lof, Y_DoS_lof, cv=10, scoring='accuracy')\n",
    "print(\"Accuracy: %0.5f (+/- %0.5f)\" % (accuracy.mean(), accuracy.std() * 2))"
   ]
  },
  {
   "cell_type": "code",
   "execution_count": 50,
   "metadata": {},
   "outputs": [
    {
     "data": {
      "text/html": [
       "<div>\n",
       "<style scoped>\n",
       "    .dataframe tbody tr th:only-of-type {\n",
       "        vertical-align: middle;\n",
       "    }\n",
       "\n",
       "    .dataframe tbody tr th {\n",
       "        vertical-align: top;\n",
       "    }\n",
       "\n",
       "    .dataframe thead th {\n",
       "        text-align: right;\n",
       "    }\n",
       "</style>\n",
       "<table border=\"1\" class=\"dataframe\">\n",
       "  <thead>\n",
       "    <tr style=\"text-align: right;\">\n",
       "      <th>Predicted attacks</th>\n",
       "      <th>0</th>\n",
       "      <th>1</th>\n",
       "    </tr>\n",
       "    <tr>\n",
       "      <th>Actual attacks</th>\n",
       "      <th></th>\n",
       "      <th></th>\n",
       "    </tr>\n",
       "  </thead>\n",
       "  <tbody>\n",
       "    <tr>\n",
       "      <th>0</th>\n",
       "      <td>67234</td>\n",
       "      <td>32</td>\n",
       "    </tr>\n",
       "    <tr>\n",
       "      <th>1</th>\n",
       "      <td>33</td>\n",
       "      <td>45699</td>\n",
       "    </tr>\n",
       "  </tbody>\n",
       "</table>\n",
       "</div>"
      ],
      "text/plain": [
       "Predicted attacks      0      1\n",
       "Actual attacks                 \n",
       "0                  67234     32\n",
       "1                     33  45699"
      ]
     },
     "execution_count": 50,
     "metadata": {},
     "output_type": "execute_result"
    }
   ],
   "source": [
    "lof_pred = cross_val_predict(clf_DoS_lof, X_DoS_lof, Y_DoS_lof, cv=10)\n",
    "pd.crosstab(Y_DoS_lof, lof_pred, rownames=['Actual attacks'], colnames=['Predicted attacks'])"
   ]
  },
  {
   "cell_type": "markdown",
   "metadata": {},
   "source": [
    "### Do the same thing to the Probe, R2L & U2R class"
   ]
  },
  {
   "cell_type": "markdown",
   "metadata": {},
   "source": [
    "### Probe"
   ]
  },
  {
   "cell_type": "markdown",
   "metadata": {},
   "source": [
    "### Feature Importance"
   ]
  },
  {
   "cell_type": "code",
   "execution_count": 51,
   "metadata": {},
   "outputs": [
    {
     "name": "stdout",
     "output_type": "stream",
     "text": [
      "Feature importance of Probe : \n",
      "0.6611695756712296\n",
      "0.18561718339212188\n",
      "0.055357301851843004\n",
      "0.03454704312017217\n",
      "0.011262664168660464\n",
      "0.009421680496445027\n",
      "0.006039939215410177\n",
      "0.005483150302679054\n",
      "0.004919037118234732\n",
      "0.00462331004263008\n",
      "0.004494778931705271\n",
      "0.003251748932591445\n",
      "0.002390184890381167\n",
      "0.0015289038757274214\n",
      "0.0014676338454950627\n",
      "0.0010573654313096167\n",
      "0.0009603547883802935\n",
      "0.0009411196164049474\n",
      "0.0007838750528640855\n",
      "0.000660189182167035\n",
      "0.0006370005676119486\n",
      "0.0006084199507333648\n",
      "0.0005027877007031599\n",
      "0.0002987619093207106\n",
      "0.0002883162715917101\n",
      "0.00025155805466714227\n",
      "0.00019854403160987036\n",
      "0.0001770474738487625\n",
      "0.00017480751120725046\n",
      "0.00017253795901097567\n",
      "0.00010061364953086534\n",
      "0.00010041253403202886\n",
      "9.971247828589506e-05\n",
      "9.937312829113154e-05\n",
      "9.900708048053892e-05\n",
      "9.851049383008702e-05\n",
      "3.3549047585467495e-05\n",
      "3.34790007741732e-05\n",
      "3.258379773381093e-05\n",
      "9.967874349691136e-06\n",
      "4.499555080217579e-06\n",
      "1.4700032685161526e-06\n",
      "0.0\n",
      "0.0\n",
      "0.0\n",
      "0.0\n",
      "0.0\n",
      "0.0\n",
      "0.0\n",
      "0.0\n",
      "0.0\n",
      "0.0\n",
      "0.0\n",
      "0.0\n",
      "0.0\n",
      "0.0\n",
      "0.0\n",
      "0.0\n",
      "0.0\n",
      "0.0\n",
      "0.0\n",
      "0.0\n",
      "0.0\n",
      "0.0\n",
      "0.0\n",
      "0.0\n",
      "0.0\n",
      "0.0\n",
      "0.0\n",
      "0.0\n",
      "0.0\n",
      "0.0\n",
      "0.0\n",
      "0.0\n",
      "0.0\n",
      "0.0\n",
      "0.0\n",
      "0.0\n",
      "0.0\n",
      "0.0\n",
      "0.0\n",
      "0.0\n",
      "0.0\n",
      "0.0\n",
      "0.0\n",
      "0.0\n",
      "0.0\n",
      "0.0\n",
      "0.0\n",
      "0.0\n",
      "0.0\n",
      "0.0\n",
      "0.0\n",
      "0.0\n",
      "0.0\n",
      "0.0\n",
      "0.0\n",
      "0.0\n",
      "0.0\n",
      "0.0\n",
      "0.0\n",
      "0.0\n",
      "0.0\n",
      "0.0\n",
      "0.0\n",
      "0.0\n",
      "0.0\n",
      "0.0\n",
      "0.0\n",
      "0.0\n",
      "0.0\n",
      "0.0\n",
      "0.0\n",
      "0.0\n",
      "0.0\n",
      "0.0\n",
      "0.0\n",
      "0.0\n",
      "0.0\n",
      "0.0\n",
      "0.0\n",
      "0.0\n"
     ]
    },
    {
     "data": {
      "image/png": "[encoded data removed]",
      "text/plain": [
       "<Figure size 432x288 with 1 Axes>"
      ]
     },
     "metadata": {
      "needs_background": "light"
     },
     "output_type": "display_data"
    }
   ],
   "source": [
    "model_Probe = DecisionTreeClassifier(random_state=0)\n",
    "model_Probe.fit(X_Probe,Y_Probe)\n",
    "feat_importances_Probe = pd.Series(model_Probe.feature_importances_, index=colNames)\n",
    "feat_importances_Probe.nlargest(n).plot(kind='barh')\n",
    "print(\"Feature importance of Probe : \")\n",
    "for x in feat_importances_Probe.nlargest(n):\n",
    "    print(x)\n",
    "plt.show()"
   ]
  },
  {
   "cell_type": "code",
   "execution_count": 52,
   "metadata": {},
   "outputs": [
    {
     "data": {
      "text/plain": [
       "duration                       0.000288\n",
       "src_bytes                      0.661170\n",
       "dst_bytes                      0.055357\n",
       "land                           0.000000\n",
       "wrong_fragment                 0.000000\n",
       "urgent                         0.000000\n",
       "hot                            0.000000\n",
       "num_failed_logins              0.000033\n",
       "logged_in                      0.000000\n",
       "num_compromised                0.000000\n",
       "root_shell                     0.000000\n",
       "su_attempted                   0.000000\n",
       "num_root                       0.000000\n",
       "num_file_creations             0.000033\n",
       "num_shells                     0.000000\n",
       "num_access_files               0.000000\n",
       "num_outbound_cmds              0.000000\n",
       "is_host_login                  0.000000\n",
       "is_guest_login                 0.000000\n",
       "count                          0.001057\n",
       "srv_count                      0.000000\n",
       "serror_rate                    0.000000\n",
       "srv_serror_rate                0.000100\n",
       "rerror_rate                    0.004495\n",
       "srv_rerror_rate                0.000000\n",
       "same_srv_rate                  0.000177\n",
       "diff_srv_rate                  0.000960\n",
       "srv_diff_host_rate             0.000000\n",
       "dst_host_count                 0.005483\n",
       "dst_host_srv_count             0.001529\n",
       "dst_host_same_srv_rate         0.003252\n",
       "dst_host_diff_srv_rate         0.004623\n",
       "dst_host_same_src_port_rate    0.000941\n",
       "dst_host_srv_diff_host_rate    0.000000\n",
       "dst_host_serror_rate           0.000252\n",
       "dst_host_srv_serror_rate       0.000000\n",
       "dst_host_rerror_rate           0.011263\n",
       "dst_host_srv_rerror_rate       0.000173\n",
       "Protocol_type_icmp             0.000000\n",
       "Protocol_type_tcp              0.000000\n",
       "Protocol_type_udp              0.000000\n",
       "service_IRC                    0.000608\n",
       "service_X11                    0.000784\n",
       "service_Z39_50                 0.000000\n",
       "service_aol                    0.000000\n",
       "service_auth                   0.001468\n",
       "service_bgp                    0.000000\n",
       "service_courier                0.000000\n",
       "service_csnet_ns               0.000000\n",
       "service_ctf                    0.000000\n",
       "service_daytime                0.000000\n",
       "service_discard                0.000000\n",
       "service_domain                 0.000004\n",
       "service_domain_u               0.000175\n",
       "service_echo                   0.000000\n",
       "service_eco_i                  0.000000\n",
       "service_ecr_i                  0.000000\n",
       "service_efs                    0.000000\n",
       "service_exec                   0.000000\n",
       "service_finger                 0.006040\n",
       "service_ftp                    0.000660\n",
       "service_ftp_data               0.034547\n",
       "service_gopher                 0.000099\n",
       "service_harvest                0.000000\n",
       "service_hostnames              0.000000\n",
       "service_http                   0.185617\n",
       "service_http_2784              0.000000\n",
       "service_http_443               0.000000\n",
       "service_http_8001              0.000000\n",
       "service_imap4                  0.000000\n",
       "service_iso_tsap               0.000000\n",
       "service_klogin                 0.000000\n",
       "service_kshell                 0.000000\n",
       "service_ldap                   0.000000\n",
       "service_link                   0.000000\n",
       "service_login                  0.000000\n",
       "service_mtp                    0.000000\n",
       "service_name                   0.000000\n",
       "service_netbios_dgm            0.000000\n",
       "service_netbios_ns             0.000000\n",
       "service_netbios_ssn            0.000000\n",
       "service_netstat                0.000000\n",
       "service_nnsp                   0.000000\n",
       "service_nntp                   0.000000\n",
       "service_ntp_u                  0.000000\n",
       "service_other                  0.000199\n",
       "service_pm_dump                0.000503\n",
       "service_pop_2                  0.000099\n",
       "service_pop_3                  0.000010\n",
       "service_printer                0.000000\n",
       "service_private                0.004919\n",
       "service_red_i                  0.000000\n",
       "service_remote_job             0.000000\n",
       "service_rje                    0.000000\n",
       "service_shell                  0.000000\n",
       "service_smtp                   0.009422\n",
       "service_sql_net                0.000000\n",
       "service_ssh                    0.000000\n",
       "service_sunrpc                 0.000000\n",
       "service_supdup                 0.000000\n",
       "service_systat                 0.000000\n",
       "service_telnet                 0.002390\n",
       "service_tftp_u                 0.000299\n",
       "service_tim_i                  0.000000\n",
       "service_time                   0.000637\n",
       "service_urh_i                  0.000000\n",
       "service_urp_i                  0.000001\n",
       "service_uucp                   0.000000\n",
       "service_uucp_path              0.000000\n",
       "service_vmnet                  0.000000\n",
       "service_whois                  0.000000\n",
       "flag_OTH                       0.000000\n",
       "flag_REJ                       0.000000\n",
       "flag_RSTO                      0.000000\n",
       "flag_RSTOS0                    0.000099\n",
       "flag_RSTR                      0.000101\n",
       "flag_S0                        0.000000\n",
       "flag_S1                        0.000100\n",
       "flag_S2                        0.000000\n",
       "flag_S3                        0.000000\n",
       "flag_SF                        0.000034\n",
       "flag_SH                        0.000000\n",
       "dtype: float64"
      ]
     },
     "execution_count": 52,
     "metadata": {},
     "output_type": "execute_result"
    }
   ],
   "source": [
    "feat_importances_Probe"
   ]
  },
  {
   "cell_type": "code",
   "execution_count": 53,
   "metadata": {},
   "outputs": [],
   "source": [
    "feat_Probe_value = []\n",
    "ProbeIm = []\n",
    "\n",
    "for y in range(0,122,1):\n",
    "    feat_Probe_value.append(feat_importances_Probe[y])\n",
    "\n",
    "Probe_nonzero = [x for x in feat_Probe_value if x != 0]\n",
    "thresProbe = median(Probe_nonzero)\n",
    "\n",
    "for j in range(0,122,1):\n",
    "    if(feat_Probe_value[j] > thresProbe):\n",
    "        ProbeIm.append(j)\n",
    "\n",
    "n_Probe_feat = len(ProbeIm)"
   ]
  },
  {
   "cell_type": "code",
   "execution_count": 54,
   "metadata": {},
   "outputs": [
    {
     "name": "stdout",
     "output_type": "stream",
     "text": [
      "combination of parameters: {'n_features': 1} ended \n",
      "combination of parameters: {'n_features': 2} ended \n",
      "combination of parameters: {'n_features': 3} ended \n",
      "combination of parameters: {'n_features': 4} ended \n",
      "combination of parameters: {'n_features': 5} ended \n",
      "combination of parameters: {'n_features': 6} ended \n",
      "combination of parameters: {'n_features': 7} ended \n",
      "combination of parameters: {'n_features': 8} ended \n",
      "combination of parameters: {'n_features': 9} ended \n",
      "combination of parameters: {'n_features': 10} ended \n",
      "combination of parameters: {'n_features': 11} ended \n",
      "combination of parameters: {'n_features': 12} ended \n",
      "combination of parameters: {'n_features': 13} ended \n",
      "combination of parameters: {'n_features': 14} ended \n",
      "combination of parameters: {'n_features': 15} ended \n",
      "combination of parameters: {'n_features': 16} ended \n",
      "combination of parameters: {'n_features': 17} ended \n",
      "combination of parameters: {'n_features': 18} ended \n",
      "combination of parameters: {'n_features': 19} ended \n",
      "combination of parameters: {'n_features': 20} ended \n",
      "combination of parameters: {'n_features': 21} ended \n"
     ]
    }
   ],
   "source": [
    "param_grid_Probe = {'n_features':[i for i in range(1,n_Probe_feat+1,1)]}\n",
    "\n",
    "#Probe\n",
    "cv_res_Probe=[]\n",
    "for params in ParameterGrid(param_grid_Probe):\n",
    "    cv_folds = []\n",
    "        \n",
    "    dcs = DecisionTreeClassifier(random_state=0)\n",
    "    rfe_grid = RFE(estimator=dcs, n_features_to_select=params['n_features'], step=1)\n",
    "    rfe_grid.fit(X_Probe, Y_Probe)\n",
    "        \n",
    "    cv_folds.append(rfe_grid.score(X_Probe_test, Y_Probe_test))\n",
    "    \n",
    "    cv_res_Probe.append(np.mean(cv_folds))\n",
    "    print(\"combination of parameters: \" + str(params) + \" ended \")"
   ]
  },
  {
   "cell_type": "code",
   "execution_count": 55,
   "metadata": {},
   "outputs": [
    {
     "name": "stdout",
     "output_type": "stream",
     "text": [
      "Best score RFE :  0.9118034948895483\n",
      "Number of selected features :  14\n"
     ]
    }
   ],
   "source": [
    "max_rfe_Probe = cv_res_Probe[0]\n",
    "for m in range(0,len(cv_res_Probe),1):\n",
    "    if cv_res_Probe[m] > max_rfe_Probe:\n",
    "        max_rfe_Probe = cv_res_Probe[m]\n",
    "        ind_max_Probe = f+1\n",
    "print(\"Best score RFE : \", max_rfe_Probe)\n",
    "print(\"Number of selected features : \", ind_max_Probe)"
   ]
  },
  {
   "cell_type": "code",
   "execution_count": 56,
   "metadata": {},
   "outputs": [
    {
     "name": "stdout",
     "output_type": "stream",
     "text": [
      "0.23606989779096604\n",
      "0.21397955819320805\n",
      "0.39531816683151993\n",
      "0.21323771843059677\n",
      "0.8769370260468183\n",
      "0.9118034948895483\n",
      "0.8846027035938016\n",
      "0.8672931091328717\n",
      "0.8695186284207056\n",
      "0.8508902077151336\n",
      "0.8506429277942631\n",
      "0.8264094955489614\n",
      "0.839597757995384\n",
      "0.8303659742828883\n",
      "0.7392021101219914\n",
      "0.8055555555555556\n",
      "0.8351467194197164\n",
      "0.8343224530168151\n",
      "0.8230300032970657\n",
      "0.8257500824266403\n",
      "0.8543521266073195\n"
     ]
    }
   ],
   "source": [
    "for x in cv_res_Probe:\n",
    "    print(x)"
   ]
  },
  {
   "cell_type": "code",
   "execution_count": 57,
   "metadata": {},
   "outputs": [
    {
     "name": "stdout",
     "output_type": "stream",
     "text": [
      "Features selected for Probe: ['src_bytes', 'dst_bytes', 'count', 'rerror_rate', 'dst_host_same_srv_rate', 'dst_host_diff_srv_rate', 'dst_host_same_src_port_rate', 'dst_host_rerror_rate', 'service_finger', 'service_ftp_data', 'service_http', 'service_private', 'service_smtp', 'service_telnet']\n",
      "\n",
      "(78999, 14)\n"
     ]
    }
   ],
   "source": [
    "rfe_Probe = RFE(estimator=est, n_features_to_select=ind_max_Probe, step=1)\n",
    "#rfe_Probe = RFE(estimator=est, n_features_to_select=14, step=1)\n",
    "rfe_Probe.fit(X_Probe, Y_Probe)\n",
    "X_Probe_rfe = rfe_Probe.transform(X_Probe)\n",
    "true=rfe_Probe.support_\n",
    "rfecolindex_Probe=[i for i, x in enumerate(true) if x]\n",
    "rfecolname_Probe=list(colNames[i] for i in rfecolindex_Probe)\n",
    "\n",
    "print('Features selected for Probe:',rfecolname_Probe)\n",
    "print()\n",
    "print(X_Probe_rfe.shape)"
   ]
  },
  {
   "cell_type": "code",
   "execution_count": 58,
   "metadata": {},
   "outputs": [],
   "source": [
    "X_Probe_test2=X_Probe_test[:,rfecolindex_Probe]\n",
    "start6 = time.time()\n",
    "clf_Probe_rfe = DecisionTreeClassifier(random_state=0)\n",
    "clf_Probe_rfe.fit(X_Probe_rfe, Y_Probe)\n",
    "Y_Probe_pred2 = clf_Probe_rfe.predict(X_Probe_test2)\n",
    "time6 = (time.time()-start6)"
   ]
  },
  {
   "cell_type": "code",
   "execution_count": 59,
   "metadata": {},
   "outputs": [
    {
     "name": "stdout",
     "output_type": "stream",
     "text": [
      "Predicted activity     0     2\n",
      "Actual activity               \n",
      "0                   8602  1109\n",
      "2                    949  1472\n",
      "Accuracy Probe all features :  0.8303659742828883\n",
      "Sensitivity Probe all features :  0.6080132176786451\n",
      "Specificity Probe all features : 0.8857996086911749\n",
      "False Alarm rate Probe all features :  0.11420039130882505\n",
      "Computation time Probe all features :  0.2782711982727051\n"
     ]
    }
   ],
   "source": [
    "cm_Probe_rfe = confusion_matrix(Y_Probe_test, Y_Probe_pred2)\n",
    "print(pd.crosstab(Y_Probe_test, Y_Probe_pred2, rownames=['Actual activity'], colnames=['Predicted activity']))\n",
    "TP_Probe_rfe = cm_Probe_rfe[1][1]\n",
    "FN_Probe_rfe = cm_Probe_rfe[1][0]\n",
    "FP_Probe_rfe = cm_Probe_rfe[0][1]\n",
    "TN_Probe_rfe = cm_Probe_rfe[0][0]\n",
    "acc_Probe_rfe = (TP_Probe_rfe+TN_Probe_rfe)/(TP_Probe_rfe+TN_Probe_rfe+FP_Probe_rfe+FN_Probe_rfe)\n",
    "sen_Probe_rfe = TP_Probe_rfe/(TP_Probe_rfe+FN_Probe_rfe)\n",
    "spe_Probe_rfe = TN_Probe_rfe/(TN_Probe_rfe+FP_Probe_rfe)\n",
    "fal_Probe_rfe = FP_Probe_rfe/(FP_Probe_rfe+TN_Probe_rfe)\n",
    "print(\"Accuracy Probe all features : \", acc_Probe_rfe)\n",
    "print(\"Sensitivity Probe all features : \", sen_Probe_rfe)\n",
    "print(\"Specificity Probe all features :\", spe_Probe_rfe)\n",
    "print(\"False Alarm rate Probe all features : \", fal_Probe_rfe)\n",
    "print(\"Computation time Probe all features : \", time6)"
   ]
  },
  {
   "cell_type": "markdown",
   "metadata": {},
   "source": [
    "## DATA REDUCTION\n",
    "### LOCAL OUTLIER FACTOR"
   ]
  },
  {
   "cell_type": "code",
   "execution_count": 60,
   "metadata": {},
   "outputs": [
    {
     "name": "stdout",
     "output_type": "stream",
     "text": [
      "Dataset shapes before : \n",
      "(78999, 14)\n",
      "(12132, 14)\n",
      "mean of the dataset is -111868.54017429474\n",
      "std. deviation is 9002141.752432002\n"
     ]
    }
   ],
   "source": [
    "print(\"Dataset shapes before : \")\n",
    "print(X_Probe_rfe.shape)\n",
    "print(X_Probe_test2.shape)\n",
    "\n",
    "model_Probe_lof = LocalOutlierFactor(n_neighbors = 300, contamination='auto')\n",
    "model_Probe_lof.fit_predict(X_Probe_rfe)\n",
    "lof_Probe_score = model_Probe_lof.negative_outlier_factor_\n",
    "\n",
    "Probe_mean = np.mean(lof_Probe_score)\n",
    "Probe_std = np.std(lof_Probe_score)\n",
    "print('mean of the dataset is', Probe_mean) \n",
    "print('std. deviation is', Probe_std) "
   ]
  },
  {
   "cell_type": "code",
   "execution_count": 61,
   "metadata": {},
   "outputs": [],
   "source": [
    "outlier_zscore_Probe = []\n",
    "for i in lof_Probe_score:\n",
    "    z_score_Probe = (i-Probe_mean)/Probe_std\n",
    "    outlier_zscore_Probe.append(z_score_Probe)\n",
    "    \n",
    "outlier_Probe = []\n",
    "thres_Probe = 3\n",
    "indexProbe = []\n",
    "for x in range(0,len(X_Probe_rfe),1):\n",
    "    if abs(outlier_zscore_Probe[x]) > thres_Probe:\n",
    "        outlier_Probe.append(outlier_zscore_Probe[x])\n",
    "    elif abs(outlier_zscore_Probe[x]) < thres_Probe:\n",
    "        #index non outlier data \n",
    "        indexProbe.append(x)\n",
    "\n",
    "X_Probe_lof = X_Probe_rfe[indexProbe]\n",
    "Y_Probe_lof = Y_Probe.iloc[indexProbe]"
   ]
  },
  {
   "cell_type": "code",
   "execution_count": 62,
   "metadata": {},
   "outputs": [
    {
     "name": "stdout",
     "output_type": "stream",
     "text": [
      "61\n",
      "78938\n"
     ]
    }
   ],
   "source": [
    "print(len(outlier_Probe))\n",
    "print(len(indexProbe))"
   ]
  },
  {
   "cell_type": "code",
   "execution_count": 63,
   "metadata": {},
   "outputs": [],
   "source": [
    "X_Probe_test2=X_Probe_test[:,rfecolindex_Probe]\n",
    "start9 = time.time()\n",
    "clf_Probe_lof = DecisionTreeClassifier(random_state=0)\n",
    "clf_Probe_lof.fit(X_Probe_lof, Y_Probe_lof)\n",
    "Y_Probe_pred_lof = clf_Probe_lof.predict(X_Probe_test2)\n",
    "time9 = (time.time()-start9)"
   ]
  },
  {
   "cell_type": "code",
   "execution_count": 64,
   "metadata": {},
   "outputs": [
    {
     "name": "stdout",
     "output_type": "stream",
     "text": [
      "Predicted activity     0     2\n",
      "Actual activity               \n",
      "0                   8606  1105\n",
      "2                    948  1473\n",
      "Accuracy Probe all features :  0.8307781074843389\n",
      "Sensitivity Probe all features :  0.6084262701363073\n",
      "Specificity Probe all features : 0.8862115127175368\n",
      "False Alarm rate Probe all features :  0.11378848728246319\n",
      "Computation time Probe all features :  0.34371161460876465\n"
     ]
    }
   ],
   "source": [
    "cm_Probe_lof = confusion_matrix(Y_Probe_test, Y_Probe_pred_lof)\n",
    "print(pd.crosstab(Y_Probe_test, Y_Probe_pred_lof, rownames=['Actual activity'], colnames=['Predicted activity']))\n",
    "TP_Probe_lof = cm_Probe_lof[1][1]\n",
    "FN_Probe_lof = cm_Probe_lof[1][0]\n",
    "FP_Probe_lof = cm_Probe_lof[0][1]\n",
    "TN_Probe_lof = cm_Probe_lof[0][0]\n",
    "acc_Probe_lof = (TP_Probe_lof+TN_Probe_lof)/(TP_Probe_lof+TN_Probe_lof+FP_Probe_lof+FN_Probe_lof)\n",
    "sen_Probe_lof = TP_Probe_lof/(TP_Probe_lof+FN_Probe_lof)\n",
    "spe_Probe_lof = TN_Probe_lof/(TN_Probe_lof+FP_Probe_lof)\n",
    "fal_Probe_lof = FP_Probe_lof/(FP_Probe_lof+TN_Probe_lof)\n",
    "print(\"Accuracy Probe all features : \", acc_Probe_lof)\n",
    "print(\"Sensitivity Probe all features : \", sen_Probe_lof)\n",
    "print(\"Specificity Probe all features :\", spe_Probe_lof)\n",
    "print(\"False Alarm rate Probe all features : \", fal_Probe_lof)\n",
    "print(\"Computation time Probe all features : \", time9)"
   ]
  },
  {
   "cell_type": "code",
   "execution_count": 65,
   "metadata": {},
   "outputs": [
    {
     "data": {
      "text/html": [
       "<div>\n",
       "<style scoped>\n",
       "    .dataframe tbody tr th:only-of-type {\n",
       "        vertical-align: middle;\n",
       "    }\n",
       "\n",
       "    .dataframe tbody tr th {\n",
       "        vertical-align: top;\n",
       "    }\n",
       "\n",
       "    .dataframe thead th {\n",
       "        text-align: right;\n",
       "    }\n",
       "</style>\n",
       "<table border=\"1\" class=\"dataframe\">\n",
       "  <thead>\n",
       "    <tr style=\"text-align: right;\">\n",
       "      <th>Predicted attacks</th>\n",
       "      <th>0</th>\n",
       "      <th>2</th>\n",
       "    </tr>\n",
       "    <tr>\n",
       "      <th>Actual attacks</th>\n",
       "      <th></th>\n",
       "      <th></th>\n",
       "    </tr>\n",
       "  </thead>\n",
       "  <tbody>\n",
       "    <tr>\n",
       "      <th>0</th>\n",
       "      <td>67257</td>\n",
       "      <td>45</td>\n",
       "    </tr>\n",
       "    <tr>\n",
       "      <th>2</th>\n",
       "      <td>41</td>\n",
       "      <td>11595</td>\n",
       "    </tr>\n",
       "  </tbody>\n",
       "</table>\n",
       "</div>"
      ],
      "text/plain": [
       "Predicted attacks      0      2\n",
       "Actual attacks                 \n",
       "0                  67257     45\n",
       "2                     41  11595"
      ]
     },
     "execution_count": 65,
     "metadata": {},
     "output_type": "execute_result"
    }
   ],
   "source": [
    "lof_pred_Probe = cross_val_predict(clf_Probe_lof, X_Probe_lof, Y_Probe_lof, cv=10)\n",
    "pd.crosstab(Y_Probe_lof, lof_pred_Probe, rownames=['Actual attacks'], colnames=['Predicted attacks'])"
   ]
  },
  {
   "cell_type": "code",
   "execution_count": 67,
   "metadata": {},
   "outputs": [
    {
     "name": "stdout",
     "output_type": "stream",
     "text": [
      "Accuracy: 0.99891 (+/- 0.00060)\n"
     ]
    }
   ],
   "source": [
    "accuracy = cross_val_score(clf_Probe_lof, X_Probe_lof, Y_Probe_lof, cv=10, scoring='accuracy')\n",
    "print(\"Accuracy: %0.5f (+/- %0.5f)\" % (accuracy.mean(), accuracy.std() * 2))"
   ]
  },
  {
   "cell_type": "markdown",
   "metadata": {},
   "source": [
    "### R2L"
   ]
  },
  {
   "cell_type": "markdown",
   "metadata": {},
   "source": [
    "### Feature Importance"
   ]
  },
  {
   "cell_type": "code",
   "execution_count": 68,
   "metadata": {},
   "outputs": [
    {
     "name": "stdout",
     "output_type": "stream",
     "text": [
      "Feature importance of R2L : \n",
      "0.2855538205652129\n",
      "0.1887070306237861\n",
      "0.13714080168657194\n",
      "0.10611180098572615\n",
      "0.0988050869398816\n",
      "0.06598023673872215\n",
      "0.030017433809176635\n",
      "0.02293582484692987\n",
      "0.01834050352403574\n",
      "0.009011114959223434\n",
      "0.005284804118137439\n",
      "0.004217086443251348\n",
      "0.004024287945476154\n",
      "0.0037257608243162\n",
      "0.0030389036392758978\n",
      "0.0023027743453260187\n",
      "0.0020361698354200144\n",
      "0.001776345167819877\n",
      "0.0014920385895586205\n",
      "0.0014482217600931013\n",
      "0.001444822178496639\n",
      "0.00134872254280831\n",
      "0.0009348330783677938\n",
      "0.0009065550923900481\n",
      "0.0008498953991156701\n",
      "0.0008498953991156701\n",
      "0.000679916319292536\n",
      "0.0005099372394694021\n",
      "0.0003214177964478718\n",
      "0.00020395760655485625\n",
      "0.0\n",
      "0.0\n",
      "0.0\n",
      "0.0\n",
      "0.0\n",
      "0.0\n",
      "0.0\n",
      "0.0\n",
      "0.0\n",
      "0.0\n",
      "0.0\n",
      "0.0\n",
      "0.0\n",
      "0.0\n",
      "0.0\n",
      "0.0\n",
      "0.0\n",
      "0.0\n",
      "0.0\n",
      "0.0\n",
      "0.0\n",
      "0.0\n",
      "0.0\n",
      "0.0\n",
      "0.0\n",
      "0.0\n",
      "0.0\n",
      "0.0\n",
      "0.0\n",
      "0.0\n",
      "0.0\n",
      "0.0\n",
      "0.0\n",
      "0.0\n",
      "0.0\n",
      "0.0\n",
      "0.0\n",
      "0.0\n",
      "0.0\n",
      "0.0\n",
      "0.0\n",
      "0.0\n",
      "0.0\n",
      "0.0\n",
      "0.0\n",
      "0.0\n",
      "0.0\n",
      "0.0\n",
      "0.0\n",
      "0.0\n",
      "0.0\n",
      "0.0\n",
      "0.0\n",
      "0.0\n",
      "0.0\n",
      "0.0\n",
      "0.0\n",
      "0.0\n",
      "0.0\n",
      "0.0\n",
      "0.0\n",
      "0.0\n",
      "0.0\n",
      "0.0\n",
      "0.0\n",
      "0.0\n",
      "0.0\n",
      "0.0\n",
      "0.0\n",
      "0.0\n",
      "0.0\n",
      "0.0\n",
      "0.0\n",
      "0.0\n",
      "0.0\n",
      "0.0\n",
      "0.0\n",
      "0.0\n",
      "0.0\n",
      "0.0\n",
      "0.0\n",
      "0.0\n",
      "0.0\n",
      "0.0\n",
      "0.0\n",
      "0.0\n",
      "0.0\n",
      "0.0\n",
      "0.0\n",
      "0.0\n",
      "0.0\n",
      "0.0\n"
     ]
    },
    {
     "data": {
      "image/png": "[encoded data removed]",
      "text/plain": [
       "<Figure size 432x288 with 1 Axes>"
      ]
     },
     "metadata": {
      "needs_background": "light"
     },
     "output_type": "display_data"
    }
   ],
   "source": [
    "model_R2L = DecisionTreeClassifier(random_state=0)\n",
    "model_R2L.fit(X_R2L,Y_R2L)\n",
    "feat_importances_R2L = pd.Series(model_R2L.feature_importances_, index=colNames)\n",
    "feat_importances_R2L.nlargest(n).plot(kind='barh')\n",
    "print(\"Feature importance of R2L : \")\n",
    "for x in feat_importances_R2L.nlargest(n):\n",
    "    print(x)\n",
    "plt.show()"
   ]
  },
  {
   "cell_type": "code",
   "execution_count": 69,
   "metadata": {},
   "outputs": [
    {
     "name": "stdout",
     "output_type": "stream",
     "text": [
      "duration                       0.188707\n",
      "src_bytes                      0.065980\n",
      "dst_bytes                      0.004217\n",
      "land                           0.000000\n",
      "wrong_fragment                 0.000000\n",
      "urgent                         0.000000\n",
      "hot                            0.137141\n",
      "num_failed_logins              0.022936\n",
      "logged_in                      0.000510\n",
      "num_compromised                0.001445\n",
      "root_shell                     0.000000\n",
      "su_attempted                   0.000000\n",
      "num_root                       0.003039\n",
      "num_file_creations             0.002303\n",
      "num_shells                     0.000935\n",
      "num_access_files               0.004024\n",
      "num_outbound_cmds              0.000000\n",
      "is_host_login                  0.000000\n",
      "is_guest_login                 0.001776\n",
      "count                          0.000850\n",
      "srv_count                      0.001492\n",
      "serror_rate                    0.000000\n",
      "srv_serror_rate                0.000000\n",
      "rerror_rate                    0.000000\n",
      "srv_rerror_rate                0.000000\n",
      "same_srv_rate                  0.000000\n",
      "diff_srv_rate                  0.000000\n",
      "srv_diff_host_rate             0.000321\n",
      "dst_host_count                 0.001448\n",
      "dst_host_srv_count             0.018341\n",
      "dst_host_same_srv_rate         0.001349\n",
      "dst_host_diff_srv_rate         0.030017\n",
      "dst_host_same_src_port_rate    0.098805\n",
      "dst_host_srv_diff_host_rate    0.106112\n",
      "dst_host_serror_rate           0.003726\n",
      "dst_host_srv_serror_rate       0.000204\n",
      "dst_host_rerror_rate           0.000680\n",
      "dst_host_srv_rerror_rate       0.000907\n",
      "Protocol_type_icmp             0.000000\n",
      "Protocol_type_tcp              0.000000\n",
      "Protocol_type_udp              0.000000\n",
      "service_IRC                    0.000000\n",
      "service_X11                    0.000000\n",
      "service_Z39_50                 0.000000\n",
      "service_aol                    0.000000\n",
      "service_auth                   0.000000\n",
      "service_bgp                    0.000000\n",
      "service_courier                0.000000\n",
      "service_csnet_ns               0.000000\n",
      "service_ctf                    0.000000\n",
      "service_daytime                0.000000\n",
      "service_discard                0.000000\n",
      "service_domain                 0.000000\n",
      "service_domain_u               0.000000\n",
      "service_echo                   0.000000\n",
      "service_eco_i                  0.000000\n",
      "service_ecr_i                  0.000000\n",
      "service_efs                    0.000000\n",
      "service_exec                   0.000000\n",
      "service_finger                 0.000000\n",
      "service_ftp                    0.000000\n",
      "service_ftp_data               0.285554\n",
      "service_gopher                 0.000000\n",
      "service_harvest                0.000000\n",
      "service_hostnames              0.000000\n",
      "service_http                   0.000000\n",
      "service_http_2784              0.000000\n",
      "service_http_443               0.000000\n",
      "service_http_8001              0.000000\n",
      "service_imap4                  0.009011\n",
      "service_iso_tsap               0.000000\n",
      "service_klogin                 0.000000\n",
      "service_kshell                 0.000000\n",
      "service_ldap                   0.000000\n",
      "service_link                   0.000000\n",
      "service_login                  0.002036\n",
      "service_mtp                    0.000000\n",
      "service_name                   0.000000\n",
      "service_netbios_dgm            0.000000\n",
      "service_netbios_ns             0.000000\n",
      "service_netbios_ssn            0.000000\n",
      "service_netstat                0.000000\n",
      "service_nnsp                   0.000000\n",
      "service_nntp                   0.000000\n",
      "service_ntp_u                  0.000000\n",
      "service_other                  0.000850\n",
      "service_pm_dump                0.000000\n",
      "service_pop_2                  0.000000\n",
      "service_pop_3                  0.000000\n",
      "service_printer                0.000000\n",
      "service_private                0.000000\n",
      "service_red_i                  0.000000\n",
      "service_remote_job             0.000000\n",
      "service_rje                    0.000000\n",
      "service_shell                  0.000000\n",
      "service_smtp                   0.000000\n",
      "service_sql_net                0.000000\n",
      "service_ssh                    0.000000\n",
      "service_sunrpc                 0.000000\n",
      "service_supdup                 0.000000\n",
      "service_systat                 0.000000\n",
      "service_telnet                 0.005285\n",
      "service_tftp_u                 0.000000\n",
      "service_tim_i                  0.000000\n",
      "service_time                   0.000000\n",
      "service_urh_i                  0.000000\n",
      "service_urp_i                  0.000000\n",
      "service_uucp                   0.000000\n",
      "service_uucp_path              0.000000\n",
      "service_vmnet                  0.000000\n",
      "service_whois                  0.000000\n",
      "flag_OTH                       0.000000\n",
      "flag_REJ                       0.000000\n",
      "flag_RSTO                      0.000000\n",
      "flag_RSTOS0                    0.000000\n",
      "flag_RSTR                      0.000000\n",
      "flag_S0                        0.000000\n",
      "flag_S1                        0.000000\n",
      "flag_S2                        0.000000\n",
      "flag_S3                        0.000000\n",
      "flag_SF                        0.000000\n",
      "flag_SH                        0.000000\n",
      "dtype: float64\n"
     ]
    }
   ],
   "source": [
    "print(feat_importances_R2L)"
   ]
  },
  {
   "cell_type": "code",
   "execution_count": 70,
   "metadata": {},
   "outputs": [],
   "source": [
    "feat_R2L_value = []\n",
    "R2LIm = []\n",
    "\n",
    "for y in range(0,122,1):\n",
    "    feat_R2L_value.append(feat_importances_R2L[y])\n",
    "\n",
    "R2L_nonzero = [x for x in feat_R2L_value if x != 0]\n",
    "thresR2L = median(R2L_nonzero)\n",
    "\n",
    "for j in range(0,122,1):\n",
    "    if(feat_R2L_value[j] > thresR2L):\n",
    "        R2LIm.append(j)\n",
    "\n",
    "n_R2L_feat = len(R2LIm)"
   ]
  },
  {
   "cell_type": "code",
   "execution_count": 71,
   "metadata": {},
   "outputs": [
    {
     "name": "stdout",
     "output_type": "stream",
     "text": [
      "combination of parameters: {'n_features': 1} ended \n",
      "combination of parameters: {'n_features': 2} ended \n",
      "combination of parameters: {'n_features': 3} ended \n",
      "combination of parameters: {'n_features': 4} ended \n",
      "combination of parameters: {'n_features': 5} ended \n",
      "combination of parameters: {'n_features': 6} ended \n",
      "combination of parameters: {'n_features': 7} ended \n",
      "combination of parameters: {'n_features': 8} ended \n",
      "combination of parameters: {'n_features': 9} ended \n",
      "combination of parameters: {'n_features': 10} ended \n",
      "combination of parameters: {'n_features': 11} ended \n",
      "combination of parameters: {'n_features': 12} ended \n",
      "combination of parameters: {'n_features': 13} ended \n",
      "combination of parameters: {'n_features': 14} ended \n",
      "combination of parameters: {'n_features': 15} ended \n"
     ]
    }
   ],
   "source": [
    "param_grid_R2L = {'n_features':[i for i in range(1,n_R2L_feat+1,1)]}\n",
    "\n",
    "#R2L\n",
    "cv_res_R2L=[]\n",
    "for params in ParameterGrid(param_grid_R2L):\n",
    "    cv_folds = []\n",
    "        \n",
    "    dcs = DecisionTreeClassifier(random_state=0)\n",
    "    rfe_grid = RFE(estimator=dcs, n_features_to_select=params['n_features'], step=1)\n",
    "    rfe_grid.fit(X_R2L, Y_R2L)\n",
    "        \n",
    "    cv_folds.append(rfe_grid.score(X_R2L_test, Y_R2L_test))\n",
    "    \n",
    "    cv_res_R2L.append(np.mean(cv_folds))\n",
    "    print(\"combination of parameters: \" + str(params) + \" ended \")"
   ]
  },
  {
   "cell_type": "code",
   "execution_count": 72,
   "metadata": {},
   "outputs": [
    {
     "name": "stdout",
     "output_type": "stream",
     "text": [
      "Best score RFE :  0.8128771038424897\n",
      "Number of selected features :  14\n"
     ]
    }
   ],
   "source": [
    "max_rfe_R2L = cv_res_R2L[0]\n",
    "for m in range(0,len(cv_res_R2L),1):\n",
    "    if cv_res_R2L[m] > max_rfe_R2L:\n",
    "        max_rfe_R2L = cv_res_R2L[m]\n",
    "        ind_max_R2L = f+1\n",
    "print(\"Best score RFE : \", max_rfe_R2L)\n",
    "print(\"Number of selected features : \", ind_max_R2L)"
   ]
  },
  {
   "cell_type": "code",
   "execution_count": 73,
   "metadata": {},
   "outputs": [
    {
     "name": "stdout",
     "output_type": "stream",
     "text": [
      "0.7708796443315338\n",
      "0.8115274690377898\n",
      "0.7425373134328358\n",
      "0.5877262623054939\n",
      "0.8128771038424897\n",
      "0.7629406160685932\n",
      "0.7774690377897745\n",
      "0.7569863448713877\n",
      "0.7606382978723404\n",
      "0.44418863131152747\n",
      "0.7846935535090505\n",
      "0.7846935535090505\n",
      "0.791838678945697\n",
      "0.7919974595109559\n",
      "0.7847729437916799\n"
     ]
    }
   ],
   "source": [
    "for x in cv_res_R2L:\n",
    "    print(x)"
   ]
  },
  {
   "cell_type": "code",
   "execution_count": 74,
   "metadata": {},
   "outputs": [
    {
     "name": "stdout",
     "output_type": "stream",
     "text": [
      "Features selected for R2L: ['duration', 'src_bytes', 'dst_bytes', 'hot', 'num_failed_logins', 'num_root', 'num_access_files', 'dst_host_count', 'dst_host_srv_count', 'dst_host_same_srv_rate', 'dst_host_same_src_port_rate', 'dst_host_srv_diff_host_rate', 'service_ftp_data', 'service_imap4']\n",
      "\n",
      "(68338, 14)\n"
     ]
    }
   ],
   "source": [
    "rfe_R2L = RFE(estimator=est, n_features_to_select=ind_max_R2L, step=1)\n",
    "#rfe_R2L = RFE(estimator=est, n_features_to_select=14, step=1)\n",
    "rfe_R2L.fit(X_R2L, Y_R2L)\n",
    "X_R2L_rfe = rfe_R2L.transform(X_R2L)\n",
    "true=rfe_R2L.support_\n",
    "rfecolindex_R2L=[i for i, x in enumerate(true) if x]\n",
    "rfecolname_R2L=list(colNames[i] for i in rfecolindex_R2L)\n",
    "\n",
    "print('Features selected for R2L:',rfecolname_R2L)\n",
    "print()\n",
    "print(X_R2L_rfe.shape)"
   ]
  },
  {
   "cell_type": "code",
   "execution_count": 75,
   "metadata": {},
   "outputs": [],
   "source": [
    "X_R2L_test2=X_R2L_test[:,rfecolindex_R2L]\n",
    "start7 = time.time()\n",
    "clf_R2L_rfe = DecisionTreeClassifier(random_state=0)\n",
    "clf_R2L_rfe.fit(X_R2L_rfe, Y_R2L)\n",
    "Y_R2L_pred2 = clf_R2L_rfe.predict(X_R2L_test2)\n",
    "time7 = (time.time()-start7)"
   ]
  },
  {
   "cell_type": "code",
   "execution_count": 76,
   "metadata": {},
   "outputs": [
    {
     "name": "stdout",
     "output_type": "stream",
     "text": [
      "Predicted activity     0    3\n",
      "Actual activity              \n",
      "0                   9653   58\n",
      "3                   2562  323\n",
      "Accuracy R2L all features :  0.7919974595109559\n",
      "Sensitivity R2L all features :  0.1119584055459272\n",
      "Specificity R2L all features : 0.9940273916177531\n",
      "False Alarm rate R2L all features :  0.005972608382246936\n",
      "Computation time R2L all features :  0.2449789047241211\n"
     ]
    }
   ],
   "source": [
    "cm_R2L_rfe = confusion_matrix(Y_R2L_test, Y_R2L_pred2)\n",
    "print(pd.crosstab(Y_R2L_test, Y_R2L_pred2, rownames=['Actual activity'], colnames=['Predicted activity']))\n",
    "TP_R2L_rfe = cm_R2L_rfe[1][1]\n",
    "FN_R2L_rfe = cm_R2L_rfe[1][0]\n",
    "FP_R2L_rfe = cm_R2L_rfe[0][1]\n",
    "TN_R2L_rfe = cm_R2L_rfe[0][0]\n",
    "acc_R2L_rfe = (TP_R2L_rfe+TN_R2L_rfe)/(TP_R2L_rfe+TN_R2L_rfe+FP_R2L_rfe+FN_R2L_rfe)\n",
    "sen_R2L_rfe = TP_R2L_rfe/(TP_R2L_rfe+FN_R2L_rfe)\n",
    "spe_R2L_rfe = TN_R2L_rfe/(TN_R2L_rfe+FP_R2L_rfe)\n",
    "fal_R2L_rfe = FP_R2L_rfe/(FP_R2L_rfe+TN_R2L_rfe)\n",
    "print(\"Accuracy R2L all features : \", acc_R2L_rfe)\n",
    "print(\"Sensitivity R2L all features : \", sen_R2L_rfe)\n",
    "print(\"Specificity R2L all features :\", spe_R2L_rfe)\n",
    "print(\"False Alarm rate R2L all features : \", fal_R2L_rfe)\n",
    "print(\"Computation time R2L all features : \", time7)"
   ]
  },
  {
   "cell_type": "markdown",
   "metadata": {},
   "source": [
    "### LOCAL OUTLIER FACTOR"
   ]
  },
  {
   "cell_type": "code",
   "execution_count": 77,
   "metadata": {},
   "outputs": [
    {
     "name": "stdout",
     "output_type": "stream",
     "text": [
      "Dataset shapes before : \n",
      "(68338, 14)\n",
      "(12596, 14)\n",
      "mean of the dataset is -6.558373205241178\n",
      "std. deviation is 230.257174583631\n"
     ]
    }
   ],
   "source": [
    "print(\"Dataset shapes before : \")\n",
    "print(X_R2L_rfe.shape)\n",
    "print(X_R2L_test2.shape)\n",
    "\n",
    "model_R2L_lof = LocalOutlierFactor(n_neighbors = 300, contamination='auto')\n",
    "model_R2L_lof.fit_predict(X_R2L_rfe)\n",
    "lof_R2L_score = model_R2L_lof.negative_outlier_factor_\n",
    "\n",
    "R2L_mean = np.mean(lof_R2L_score)\n",
    "R2L_std = np.std(lof_R2L_score)\n",
    "print('mean of the dataset is', R2L_mean) \n",
    "print('std. deviation is', R2L_std) "
   ]
  },
  {
   "cell_type": "code",
   "execution_count": 78,
   "metadata": {},
   "outputs": [],
   "source": [
    "outlier_zscore_R2L = []\n",
    "for i in lof_R2L_score:\n",
    "    z_score_R2L = (i-R2L_mean)/R2L_std\n",
    "    outlier_zscore_R2L.append(z_score_R2L)\n",
    "    \n",
    "outlier_R2L = []\n",
    "thres_R2L = 3\n",
    "indexR2L = []\n",
    "for x in range(0,len(X_R2L_rfe),1):\n",
    "    if abs(outlier_zscore_R2L[x]) > thres_R2L:\n",
    "        outlier_R2L.append(outlier_zscore_R2L[x])\n",
    "    elif abs(outlier_zscore_R2L[x]) < thres_R2L:\n",
    "        #index non outlier data \n",
    "        indexR2L.append(x)\n",
    "\n",
    "X_R2L_lof = X_R2L_rfe[indexR2L]\n",
    "Y_R2L_lof = Y_R2L.iloc[indexR2L]"
   ]
  },
  {
   "cell_type": "code",
   "execution_count": 79,
   "metadata": {},
   "outputs": [
    {
     "name": "stdout",
     "output_type": "stream",
     "text": [
      "60\n",
      "68278\n"
     ]
    }
   ],
   "source": [
    "print(len(outlier_R2L))\n",
    "print(len(indexR2L))"
   ]
  },
  {
   "cell_type": "code",
   "execution_count": 80,
   "metadata": {},
   "outputs": [],
   "source": [
    "X_R2L_test2=X_R2L_test[:,rfecolindex_R2L]\n",
    "start9 = time.time()\n",
    "clf_R2L_lof = DecisionTreeClassifier(random_state=0)\n",
    "clf_R2L_lof.fit(X_R2L_lof, Y_R2L_lof)\n",
    "Y_R2L_pred_lof = clf_R2L_lof.predict(X_R2L_test2)\n",
    "time9 = (time.time()-start9)"
   ]
  },
  {
   "cell_type": "code",
   "execution_count": 81,
   "metadata": {},
   "outputs": [
    {
     "name": "stdout",
     "output_type": "stream",
     "text": [
      "Predicted activity     0    3\n",
      "Actual activity              \n",
      "0                   9653   58\n",
      "3                   2562  323\n",
      "Accuracy R2L all features :  0.7919974595109559\n",
      "Sensitivity R2L all features :  0.1119584055459272\n",
      "Specificity R2L all features : 0.9940273916177531\n",
      "False Alarm rate R2L all features :  0.005972608382246936\n",
      "Computation time R2L all features :  0.32996320724487305\n"
     ]
    }
   ],
   "source": [
    "cm_R2L_lof = confusion_matrix(Y_R2L_test, Y_R2L_pred_lof)\n",
    "print(pd.crosstab(Y_R2L_test, Y_R2L_pred_lof, rownames=['Actual activity'], colnames=['Predicted activity']))\n",
    "TP_R2L_lof = cm_R2L_lof[1][1]\n",
    "FN_R2L_lof = cm_R2L_lof[1][0]\n",
    "FP_R2L_lof = cm_R2L_lof[0][1]\n",
    "TN_R2L_lof = cm_R2L_lof[0][0]\n",
    "acc_R2L_lof = (TP_R2L_lof+TN_R2L_lof)/(TP_R2L_lof+TN_R2L_lof+FP_R2L_lof+FN_R2L_lof)\n",
    "sen_R2L_lof = TP_R2L_lof/(TP_R2L_lof+FN_R2L_lof)\n",
    "spe_R2L_lof = TN_R2L_lof/(TN_R2L_lof+FP_R2L_lof)\n",
    "fal_R2L_lof = FP_R2L_lof/(FP_R2L_lof+TN_R2L_lof)\n",
    "print(\"Accuracy R2L all features : \", acc_R2L_lof)\n",
    "print(\"Sensitivity R2L all features : \", sen_R2L_lof)\n",
    "print(\"Specificity R2L all features :\", spe_R2L_lof)\n",
    "print(\"False Alarm rate R2L all features : \", fal_R2L_lof)\n",
    "print(\"Computation time R2L all features : \", time9)"
   ]
  },
  {
   "cell_type": "code",
   "execution_count": 82,
   "metadata": {},
   "outputs": [
    {
     "name": "stdout",
     "output_type": "stream",
     "text": [
      "Accuracy: 0.99922 (+/- 0.00071)\n"
     ]
    }
   ],
   "source": [
    "accuracy = cross_val_score(clf_R2L_lof, X_R2L_lof, Y_R2L_lof, cv=10, scoring='accuracy')\n",
    "print(\"Accuracy: %0.5f (+/- %0.5f)\" % (accuracy.mean(), accuracy.std() * 2))"
   ]
  },
  {
   "cell_type": "code",
   "execution_count": 83,
   "metadata": {
    "scrolled": true
   },
   "outputs": [
    {
     "data": {
      "text/html": [
       "<div>\n",
       "<style scoped>\n",
       "    .dataframe tbody tr th:only-of-type {\n",
       "        vertical-align: middle;\n",
       "    }\n",
       "\n",
       "    .dataframe tbody tr th {\n",
       "        vertical-align: top;\n",
       "    }\n",
       "\n",
       "    .dataframe thead th {\n",
       "        text-align: right;\n",
       "    }\n",
       "</style>\n",
       "<table border=\"1\" class=\"dataframe\">\n",
       "  <thead>\n",
       "    <tr style=\"text-align: right;\">\n",
       "      <th>Predicted attacks</th>\n",
       "      <th>0</th>\n",
       "      <th>3</th>\n",
       "    </tr>\n",
       "    <tr>\n",
       "      <th>Actual attacks</th>\n",
       "      <th></th>\n",
       "      <th></th>\n",
       "    </tr>\n",
       "  </thead>\n",
       "  <tbody>\n",
       "    <tr>\n",
       "      <th>0</th>\n",
       "      <td>67254</td>\n",
       "      <td>30</td>\n",
       "    </tr>\n",
       "    <tr>\n",
       "      <th>3</th>\n",
       "      <td>23</td>\n",
       "      <td>971</td>\n",
       "    </tr>\n",
       "  </tbody>\n",
       "</table>\n",
       "</div>"
      ],
      "text/plain": [
       "Predicted attacks      0    3\n",
       "Actual attacks               \n",
       "0                  67254   30\n",
       "3                     23  971"
      ]
     },
     "execution_count": 83,
     "metadata": {},
     "output_type": "execute_result"
    }
   ],
   "source": [
    "lof_pred = cross_val_predict(clf_R2L_lof, X_R2L_lof, Y_R2L_lof, cv=10)\n",
    "pd.crosstab(Y_R2L_lof, lof_pred, rownames=['Actual attacks'], colnames=['Predicted attacks'])"
   ]
  },
  {
   "cell_type": "markdown",
   "metadata": {},
   "source": [
    "### U2R\n",
    "### Feature Importance"
   ]
  },
  {
   "cell_type": "code",
   "execution_count": 84,
   "metadata": {},
   "outputs": [
    {
     "name": "stdout",
     "output_type": "stream",
     "text": [
      "Feature importance of U2R : \n",
      "0.19473208481082585\n",
      "0.1524850374043863\n",
      "0.09581199602319851\n",
      "0.09027955321979188\n",
      "0.08000742447454129\n",
      "0.07099475865715747\n",
      "0.0620479985535682\n",
      "0.05080511958648386\n",
      "0.03840991339869223\n",
      "0.03732757816199985\n",
      "0.02914892239741803\n",
      "0.016193845776343353\n",
      "0.01512695058878894\n",
      "0.015072733376442654\n",
      "0.015009171223266785\n",
      "0.014574461198709015\n",
      "0.009716307465806009\n",
      "0.005924577083209685\n",
      "0.005850679764356295\n",
      "0.0003577404031103968\n",
      "0.0001231464319032901\n",
      "0.0\n",
      "0.0\n",
      "0.0\n",
      "0.0\n",
      "0.0\n",
      "0.0\n",
      "0.0\n",
      "0.0\n",
      "0.0\n",
      "0.0\n",
      "0.0\n",
      "0.0\n",
      "0.0\n",
      "0.0\n",
      "0.0\n",
      "0.0\n",
      "0.0\n",
      "0.0\n",
      "0.0\n",
      "0.0\n",
      "0.0\n",
      "0.0\n",
      "0.0\n",
      "0.0\n",
      "0.0\n",
      "0.0\n",
      "0.0\n",
      "0.0\n",
      "0.0\n",
      "0.0\n",
      "0.0\n",
      "0.0\n",
      "0.0\n",
      "0.0\n",
      "0.0\n",
      "0.0\n",
      "0.0\n",
      "0.0\n",
      "0.0\n",
      "0.0\n",
      "0.0\n",
      "0.0\n",
      "0.0\n",
      "0.0\n",
      "0.0\n",
      "0.0\n",
      "0.0\n",
      "0.0\n",
      "0.0\n",
      "0.0\n",
      "0.0\n",
      "0.0\n",
      "0.0\n",
      "0.0\n",
      "0.0\n",
      "0.0\n",
      "0.0\n",
      "0.0\n",
      "0.0\n",
      "0.0\n",
      "0.0\n",
      "0.0\n",
      "0.0\n",
      "0.0\n",
      "0.0\n",
      "0.0\n",
      "0.0\n",
      "0.0\n",
      "0.0\n",
      "0.0\n",
      "0.0\n",
      "0.0\n",
      "0.0\n",
      "0.0\n",
      "0.0\n",
      "0.0\n",
      "0.0\n",
      "0.0\n",
      "0.0\n",
      "0.0\n",
      "0.0\n",
      "0.0\n",
      "0.0\n",
      "0.0\n",
      "0.0\n",
      "0.0\n",
      "0.0\n",
      "0.0\n",
      "0.0\n",
      "0.0\n",
      "0.0\n",
      "0.0\n",
      "0.0\n",
      "0.0\n",
      "0.0\n",
      "0.0\n",
      "0.0\n",
      "0.0\n",
      "0.0\n",
      "0.0\n",
      "0.0\n"
     ]
    },
    {
     "data": {
      "image/png": "[encoded data removed]",
      "text/plain": [
       "<Figure size 432x288 with 1 Axes>"
      ]
     },
     "metadata": {
      "needs_background": "light"
     },
     "output_type": "display_data"
    }
   ],
   "source": [
    "model_U2R = DecisionTreeClassifier(random_state=0)\n",
    "model_U2R.fit(X_U2R,Y_U2R)\n",
    "feat_importances_U2R = pd.Series(model_U2R.feature_importances_, index=colNames)\n",
    "feat_importances_U2R.nlargest(n).plot(kind='barh')\n",
    "print(\"Feature importance of U2R : \")\n",
    "for x in feat_importances_U2R.nlargest(n):\n",
    "    print(x)\n",
    "plt.show()"
   ]
  },
  {
   "cell_type": "code",
   "execution_count": 85,
   "metadata": {},
   "outputs": [
    {
     "name": "stdout",
     "output_type": "stream",
     "text": [
      "duration                       0.038410\n",
      "src_bytes                      0.095812\n",
      "dst_bytes                      0.152485\n",
      "land                           0.000000\n",
      "wrong_fragment                 0.000000\n",
      "urgent                         0.000000\n",
      "hot                            0.194732\n",
      "num_failed_logins              0.000358\n",
      "logged_in                      0.000000\n",
      "num_compromised                0.015127\n",
      "root_shell                     0.080007\n",
      "su_attempted                   0.000000\n",
      "num_root                       0.000000\n",
      "num_file_creations             0.037328\n",
      "num_shells                     0.070995\n",
      "num_access_files               0.000000\n",
      "num_outbound_cmds              0.000000\n",
      "is_host_login                  0.000000\n",
      "is_guest_login                 0.000000\n",
      "count                          0.029149\n",
      "srv_count                      0.015073\n",
      "serror_rate                    0.000000\n",
      "srv_serror_rate                0.000000\n",
      "rerror_rate                    0.000000\n",
      "srv_rerror_rate                0.000000\n",
      "same_srv_rate                  0.000000\n",
      "diff_srv_rate                  0.000000\n",
      "srv_diff_host_rate             0.000000\n",
      "dst_host_count                 0.090280\n",
      "dst_host_srv_count             0.009716\n",
      "dst_host_same_srv_rate         0.050805\n",
      "dst_host_diff_srv_rate         0.000000\n",
      "dst_host_same_src_port_rate    0.062048\n",
      "dst_host_srv_diff_host_rate    0.014574\n",
      "dst_host_serror_rate           0.016194\n",
      "dst_host_srv_serror_rate       0.000000\n",
      "dst_host_rerror_rate           0.000000\n",
      "dst_host_srv_rerror_rate       0.000000\n",
      "Protocol_type_icmp             0.000000\n",
      "Protocol_type_tcp              0.000000\n",
      "Protocol_type_udp              0.005851\n",
      "service_IRC                    0.000000\n",
      "service_X11                    0.000000\n",
      "service_Z39_50                 0.000000\n",
      "service_aol                    0.000000\n",
      "service_auth                   0.000000\n",
      "service_bgp                    0.000000\n",
      "service_courier                0.000000\n",
      "service_csnet_ns               0.000000\n",
      "service_ctf                    0.000000\n",
      "service_daytime                0.000000\n",
      "service_discard                0.000000\n",
      "service_domain                 0.000000\n",
      "service_domain_u               0.000000\n",
      "service_echo                   0.000000\n",
      "service_eco_i                  0.000000\n",
      "service_ecr_i                  0.000000\n",
      "service_efs                    0.000000\n",
      "service_exec                   0.000000\n",
      "service_finger                 0.000000\n",
      "service_ftp                    0.000000\n",
      "service_ftp_data               0.015009\n",
      "service_gopher                 0.000000\n",
      "service_harvest                0.000000\n",
      "service_hostnames              0.000000\n",
      "service_http                   0.000000\n",
      "service_http_2784              0.000000\n",
      "service_http_443               0.000000\n",
      "service_http_8001              0.000000\n",
      "service_imap4                  0.000000\n",
      "service_iso_tsap               0.000000\n",
      "service_klogin                 0.000000\n",
      "service_kshell                 0.000000\n",
      "service_ldap                   0.000000\n",
      "service_link                   0.000000\n",
      "service_login                  0.000000\n",
      "service_mtp                    0.000000\n",
      "service_name                   0.000000\n",
      "service_netbios_dgm            0.000000\n",
      "service_netbios_ns             0.000000\n",
      "service_netbios_ssn            0.000000\n",
      "service_netstat                0.000000\n",
      "service_nnsp                   0.000000\n",
      "service_nntp                   0.000000\n",
      "service_ntp_u                  0.000000\n",
      "service_other                  0.005925\n",
      "service_pm_dump                0.000000\n",
      "service_pop_2                  0.000000\n",
      "service_pop_3                  0.000000\n",
      "service_printer                0.000000\n",
      "service_private                0.000000\n",
      "service_red_i                  0.000000\n",
      "service_remote_job             0.000000\n",
      "service_rje                    0.000000\n",
      "service_shell                  0.000000\n",
      "service_smtp                   0.000000\n",
      "service_sql_net                0.000000\n",
      "service_ssh                    0.000000\n",
      "service_sunrpc                 0.000000\n",
      "service_supdup                 0.000000\n",
      "service_systat                 0.000000\n",
      "service_telnet                 0.000123\n",
      "service_tftp_u                 0.000000\n",
      "service_tim_i                  0.000000\n",
      "service_time                   0.000000\n",
      "service_urh_i                  0.000000\n",
      "service_urp_i                  0.000000\n",
      "service_uucp                   0.000000\n",
      "service_uucp_path              0.000000\n",
      "service_vmnet                  0.000000\n",
      "service_whois                  0.000000\n",
      "flag_OTH                       0.000000\n",
      "flag_REJ                       0.000000\n",
      "flag_RSTO                      0.000000\n",
      "flag_RSTOS0                    0.000000\n",
      "flag_RSTR                      0.000000\n",
      "flag_S0                        0.000000\n",
      "flag_S1                        0.000000\n",
      "flag_S2                        0.000000\n",
      "flag_S3                        0.000000\n",
      "flag_SF                        0.000000\n",
      "flag_SH                        0.000000\n",
      "dtype: float64\n"
     ]
    }
   ],
   "source": [
    "print(feat_importances_U2R)"
   ]
  },
  {
   "cell_type": "code",
   "execution_count": 86,
   "metadata": {},
   "outputs": [],
   "source": [
    "feat_U2R_value = []\n",
    "U2RIm = []\n",
    "\n",
    "for y in range(0,122,1):\n",
    "    feat_U2R_value.append(feat_importances_U2R[y])\n",
    "\n",
    "U2R_nonzero = [x for x in feat_U2R_value if x != 0]\n",
    "thresU2R = median(U2R_nonzero)\n",
    "\n",
    "for j in range(0,122,1):\n",
    "    if(feat_U2R_value[j] > thresU2R):\n",
    "        U2RIm.append(j)\n",
    "\n",
    "n_U2R_feat = len(U2RIm)"
   ]
  },
  {
   "cell_type": "code",
   "execution_count": 87,
   "metadata": {},
   "outputs": [
    {
     "name": "stdout",
     "output_type": "stream",
     "text": [
      "combination of parameters: {'n_features': 1} ended \n",
      "combination of parameters: {'n_features': 2} ended \n",
      "combination of parameters: {'n_features': 3} ended \n",
      "combination of parameters: {'n_features': 4} ended \n",
      "combination of parameters: {'n_features': 5} ended \n",
      "combination of parameters: {'n_features': 6} ended \n",
      "combination of parameters: {'n_features': 7} ended \n",
      "combination of parameters: {'n_features': 8} ended \n",
      "combination of parameters: {'n_features': 9} ended \n",
      "combination of parameters: {'n_features': 10} ended \n"
     ]
    }
   ],
   "source": [
    "param_grid_U2R = {'n_features':[i for i in range(1,n_U2R_feat+1,1)]}\n",
    "\n",
    "#U2R\n",
    "cv_res_U2R=[]\n",
    "for params in ParameterGrid(param_grid_U2R):\n",
    "    cv_folds = []\n",
    "        \n",
    "    dcs = DecisionTreeClassifier(random_state=0)\n",
    "    rfe_grid = RFE(estimator=dcs, n_features_to_select=params['n_features'], step=1)\n",
    "    rfe_grid.fit(X_U2R, Y_U2R)\n",
    "        \n",
    "    cv_folds.append(rfe_grid.score(X_U2R_test, Y_U2R_test))\n",
    "    \n",
    "    cv_res_U2R.append(np.mean(cv_folds))\n",
    "    print(\"combination of parameters: \" + str(params) + \" ended \")"
   ]
  },
  {
   "cell_type": "code",
   "execution_count": 88,
   "metadata": {},
   "outputs": [
    {
     "name": "stdout",
     "output_type": "stream",
     "text": [
      "Best score RFE :  0.993659235017386\n",
      "Number of selected features :  4\n"
     ]
    }
   ],
   "source": [
    "max_rfe_U2R = cv_res_U2R[0]\n",
    "for m in range(0,len(cv_res_U2R),1):\n",
    "    if cv_res_U2R[m] > max_rfe_U2R:\n",
    "        max_rfe_U2R = cv_res_U2R[m]\n",
    "        ind_max_U2R = m+1\n",
    "print(\"Best score RFE : \", max_rfe_U2R)\n",
    "print(\"Number of selected features : \", ind_max_U2R)"
   ]
  },
  {
   "cell_type": "code",
   "execution_count": 89,
   "metadata": {},
   "outputs": [
    {
     "name": "stdout",
     "output_type": "stream",
     "text": [
      "0.9927388013908774\n",
      "0.9696256903252198\n",
      "0.9751482920842708\n",
      "0.993659235017386\n",
      "0.9870116588259358\n",
      "0.9766823481284517\n",
      "0.9764778073225608\n",
      "0.9928410717938229\n",
      "0.9932501534056044\n",
      "0.9843526283493557\n"
     ]
    }
   ],
   "source": [
    "for x in cv_res_U2R:\n",
    "    print(x)"
   ]
  },
  {
   "cell_type": "code",
   "execution_count": 90,
   "metadata": {},
   "outputs": [
    {
     "name": "stdout",
     "output_type": "stream",
     "text": [
      "Features selected for U2R: ['src_bytes', 'dst_bytes', 'hot', 'root_shell']\n",
      "\n",
      "(67395, 4)\n"
     ]
    }
   ],
   "source": [
    "rfe_U2R = RFE(estimator=est, n_features_to_select=ind_max_U2R, step=1)\n",
    "#rfe_U2R = RFE(estimator=est, n_features_to_select=4, step=1)\n",
    "rfe_U2R.fit(X_U2R, Y_U2R)\n",
    "X_U2R_rfe = rfe_U2R.transform(X_U2R)\n",
    "true=rfe_U2R.support_\n",
    "rfecolindex_U2R=[i for i, x in enumerate(true) if x]\n",
    "rfecolname_U2R=list(colNames[i] for i in rfecolindex_U2R)\n",
    "\n",
    "print('Features selected for U2R:',rfecolname_U2R)\n",
    "print()\n",
    "print(X_U2R_rfe.shape)"
   ]
  },
  {
   "cell_type": "code",
   "execution_count": 91,
   "metadata": {},
   "outputs": [],
   "source": [
    "X_U2R_test2=X_U2R_test[:,rfecolindex_U2R]\n",
    "start8 = time.time()\n",
    "clf_U2R_rfe = DecisionTreeClassifier(random_state=0)\n",
    "clf_U2R_rfe.fit(X_U2R_rfe, Y_U2R)\n",
    "Y_U2R_pred2 = clf_U2R_rfe.predict(X_U2R_test2)\n",
    "time8 = (time.time()-start8)"
   ]
  },
  {
   "cell_type": "code",
   "execution_count": 92,
   "metadata": {},
   "outputs": [
    {
     "name": "stdout",
     "output_type": "stream",
     "text": [
      "Predicted activity     0   4\n",
      "Actual activity             \n",
      "0                   9698  13\n",
      "4                     49  18\n",
      "Accuracy U2R all features :  0.993659235017386\n",
      "Sensitivity U2R all features :  0.26865671641791045\n",
      "Specificity U2R all features : 0.998661311914324\n",
      "False Alarm rate U2R all features :  0.0013386880856760374\n",
      "Computation time U2R all features :  0.08483004570007324\n"
     ]
    }
   ],
   "source": [
    "cm_U2R_rfe = confusion_matrix(Y_U2R_test, Y_U2R_pred2)\n",
    "print(pd.crosstab(Y_U2R_test, Y_U2R_pred2, rownames=['Actual activity'], colnames=['Predicted activity']))\n",
    "TP_U2R_rfe = cm_U2R_rfe[1][1]\n",
    "FN_U2R_rfe = cm_U2R_rfe[1][0]\n",
    "FP_U2R_rfe = cm_U2R_rfe[0][1]\n",
    "TN_U2R_rfe = cm_U2R_rfe[0][0]\n",
    "acc_U2R_rfe = (TP_U2R_rfe+TN_U2R_rfe)/(TP_U2R_rfe+TN_U2R_rfe+FP_U2R_rfe+FN_U2R_rfe)\n",
    "sen_U2R_rfe = TP_U2R_rfe/(TP_U2R_rfe+FN_U2R_rfe)\n",
    "spe_U2R_rfe = TN_U2R_rfe/(TN_U2R_rfe+FP_U2R_rfe)\n",
    "fal_U2R_rfe = FP_U2R_rfe/(FP_U2R_rfe+TN_U2R_rfe)\n",
    "print(\"Accuracy U2R all features : \", acc_U2R_rfe)\n",
    "print(\"Sensitivity U2R all features : \", sen_U2R_rfe)\n",
    "print(\"Specificity U2R all features :\", spe_U2R_rfe)\n",
    "print(\"False Alarm rate U2R all features : \", fal_U2R_rfe)\n",
    "print(\"Computation time U2R all features : \", time8)"
   ]
  },
  {
   "cell_type": "markdown",
   "metadata": {},
   "source": [
    "### LOCAL OUTLIER FACTOR"
   ]
  },
  {
   "cell_type": "code",
   "execution_count": 93,
   "metadata": {},
   "outputs": [
    {
     "name": "stdout",
     "output_type": "stream",
     "text": [
      "Dataset shapes before : \n",
      "(67395, 4)\n",
      "(9778, 4)\n",
      "mean of the dataset is -322164.03926013\n",
      "std. deviation is 26549956.29453114\n"
     ]
    }
   ],
   "source": [
    "print(\"Dataset shapes before : \")\n",
    "print(X_U2R_rfe.shape)\n",
    "print(X_U2R_test2.shape)\n",
    "\n",
    "from sklearn.neighbors import LocalOutlierFactor\n",
    "model_U2R_lof = LocalOutlierFactor(n_neighbors = 300, contamination='auto')\n",
    "model_U2R_lof.fit_predict(X_U2R_rfe)\n",
    "lof_U2R_score = model_U2R_lof.negative_outlier_factor_\n",
    "\n",
    "U2R_mean = np.mean(lof_U2R_score)\n",
    "U2R_std = np.std(lof_U2R_score)\n",
    "print('mean of the dataset is', U2R_mean) \n",
    "print('std. deviation is', U2R_std) "
   ]
  },
  {
   "cell_type": "code",
   "execution_count": 94,
   "metadata": {},
   "outputs": [],
   "source": [
    "outlier_zscore_U2R = []\n",
    "for i in lof_U2R_score:\n",
    "    z_score_U2R = (i-U2R_mean)/U2R_std\n",
    "    outlier_zscore_U2R.append(z_score_U2R)\n",
    "    \n",
    "outlier_U2R = []\n",
    "thres_U2R = 1\n",
    "indexU2R = []\n",
    "for x in range(0,len(X_U2R_rfe),1):\n",
    "    if abs(outlier_zscore_U2R[x]) > thres_U2R:\n",
    "        outlier_U2R.append(outlier_zscore_U2R[x])\n",
    "    elif abs(outlier_zscore_U2R[x]) < thres_U2R:\n",
    "        #index non outlier data \n",
    "        indexU2R.append(x)\n",
    "\n",
    "X_U2R_lof = X_U2R_rfe[indexU2R]\n",
    "Y_U2R_lof = Y_U2R.iloc[indexU2R]"
   ]
  },
  {
   "cell_type": "code",
   "execution_count": 95,
   "metadata": {},
   "outputs": [
    {
     "name": "stdout",
     "output_type": "stream",
     "text": [
      "13\n",
      "67382\n"
     ]
    }
   ],
   "source": [
    "print(len(outlier_U2R))\n",
    "print(len(indexU2R))"
   ]
  },
  {
   "cell_type": "code",
   "execution_count": 96,
   "metadata": {},
   "outputs": [],
   "source": [
    "X_U2R_test2=X_U2R_test[:,rfecolindex_U2R]\n",
    "start9 = time.time()\n",
    "clf_U2R_lof = DecisionTreeClassifier(random_state=0)\n",
    "clf_U2R_lof.fit(X_U2R_lof, Y_U2R_lof)\n",
    "Y_U2R_pred_lof = clf_U2R_lof.predict(X_U2R_test2)\n",
    "time9 = (time.time()-start9)"
   ]
  },
  {
   "cell_type": "code",
   "execution_count": 97,
   "metadata": {},
   "outputs": [
    {
     "name": "stdout",
     "output_type": "stream",
     "text": [
      "Predicted activity     0   4\n",
      "Actual activity             \n",
      "0                   9698  13\n",
      "4                     49  18\n",
      "Accuracy U2R all features :  0.993659235017386\n",
      "Sensitivity U2R all features :  0.26865671641791045\n",
      "Specificity U2R all features : 0.998661311914324\n",
      "False Alarm rate U2R all features :  0.0013386880856760374\n",
      "Computation time U2R all features :  0.11249732971191406\n"
     ]
    }
   ],
   "source": [
    "cm_U2R_lof = confusion_matrix(Y_U2R_test, Y_U2R_pred_lof)\n",
    "print(pd.crosstab(Y_U2R_test, Y_U2R_pred_lof, rownames=['Actual activity'], colnames=['Predicted activity']))\n",
    "TP_U2R_lof = cm_U2R_lof[1][1]\n",
    "FN_U2R_lof = cm_U2R_lof[1][0]\n",
    "FP_U2R_lof = cm_U2R_lof[0][1]\n",
    "TN_U2R_lof = cm_U2R_lof[0][0]\n",
    "acc_U2R_lof = (TP_U2R_lof+TN_U2R_lof)/(TP_U2R_lof+TN_U2R_lof+FP_U2R_lof+FN_U2R_lof)\n",
    "sen_U2R_lof = TP_U2R_lof/(TP_U2R_lof+FN_U2R_lof)\n",
    "spe_U2R_lof = TN_U2R_lof/(TN_U2R_lof+FP_U2R_lof)\n",
    "fal_U2R_lof = FP_U2R_lof/(FP_U2R_lof+TN_U2R_lof)\n",
    "print(\"Accuracy U2R all features : \", acc_U2R_lof)\n",
    "print(\"Sensitivity U2R all features : \", sen_U2R_lof)\n",
    "print(\"Specificity U2R all features :\", spe_U2R_lof)\n",
    "print(\"False Alarm rate U2R all features : \", fal_U2R_lof)\n",
    "print(\"Computation time U2R all features : \", time9)"
   ]
  },
  {
   "cell_type": "code",
   "execution_count": 98,
   "metadata": {},
   "outputs": [
    {
     "name": "stdout",
     "output_type": "stream",
     "text": [
      "Accuracy: 0.99938 (+/- 0.00058)\n"
     ]
    }
   ],
   "source": [
    "accuracy = cross_val_score(clf_U2R_lof, X_U2R_lof, Y_U2R_lof, cv=10, scoring='accuracy')\n",
    "print(\"Accuracy: %0.5f (+/- %0.5f)\" % (accuracy.mean(), accuracy.std() * 2))"
   ]
  },
  {
   "cell_type": "code",
   "execution_count": 99,
   "metadata": {},
   "outputs": [
    {
     "data": {
      "text/html": [
       "<div>\n",
       "<style scoped>\n",
       "    .dataframe tbody tr th:only-of-type {\n",
       "        vertical-align: middle;\n",
       "    }\n",
       "\n",
       "    .dataframe tbody tr th {\n",
       "        vertical-align: top;\n",
       "    }\n",
       "\n",
       "    .dataframe thead th {\n",
       "        text-align: right;\n",
       "    }\n",
       "</style>\n",
       "<table border=\"1\" class=\"dataframe\">\n",
       "  <thead>\n",
       "    <tr style=\"text-align: right;\">\n",
       "      <th>Predicted attacks</th>\n",
       "      <th>0</th>\n",
       "      <th>4</th>\n",
       "    </tr>\n",
       "    <tr>\n",
       "      <th>Actual attacks</th>\n",
       "      <th></th>\n",
       "      <th></th>\n",
       "    </tr>\n",
       "  </thead>\n",
       "  <tbody>\n",
       "    <tr>\n",
       "      <th>0</th>\n",
       "      <td>67311</td>\n",
       "      <td>19</td>\n",
       "    </tr>\n",
       "    <tr>\n",
       "      <th>4</th>\n",
       "      <td>23</td>\n",
       "      <td>29</td>\n",
       "    </tr>\n",
       "  </tbody>\n",
       "</table>\n",
       "</div>"
      ],
      "text/plain": [
       "Predicted attacks      0   4\n",
       "Actual attacks              \n",
       "0                  67311  19\n",
       "4                     23  29"
      ]
     },
     "execution_count": 99,
     "metadata": {},
     "output_type": "execute_result"
    }
   ],
   "source": [
    "lof_pred = cross_val_predict(clf_U2R_lof, X_U2R_lof, Y_U2R_lof, cv=10)\n",
    "pd.crosstab(Y_U2R_lof, lof_pred, rownames=['Actual attacks'], colnames=['Predicted attacks'])"
   ]
  },
  {
   "cell_type": "code",
   "execution_count": null,
   "metadata": {},
   "outputs": [],
   "source": []
  },
  {
   "cell_type": "code",
   "execution_count": null,
   "metadata": {},
   "outputs": [],
   "source": []
  },
  {
   "cell_type": "code",
   "execution_count": null,
   "metadata": {},
   "outputs": [],
   "source": []
  },
  {
   "cell_type": "code",
   "execution_count": null,
   "metadata": {},
   "outputs": [],
   "source": []
  }
 ],
 "metadata": {
  "kernelspec": {
   "display_name": "Python 3",
   "language": "python",
   "name": "python3"
  },
  "language_info": {
   "codemirror_mode": {
    "name": "ipython",
    "version": 3
   },
   "file_extension": ".py",
   "mimetype": "text/x-python",
   "name": "python",
   "nbconvert_exporter": "python",
   "pygments_lexer": "ipython3",
   "version": "3.7.7"
  }
 },
 "nbformat": 4,
 "nbformat_minor": 4
}
