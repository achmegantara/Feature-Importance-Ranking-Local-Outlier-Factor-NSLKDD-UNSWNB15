{
 "cells": [
  {
   "cell_type": "code",
   "execution_count": 10,
   "metadata": {},
   "outputs": [
    {
     "name": "stderr",
     "output_type": "stream",
     "text": [
      "Using TensorFlow backend.\n"
     ]
    }
   ],
   "source": [
    "#STANDARD BASIC LIBRARY\n",
    "import pandas as pd\n",
    "import numpy as np\n",
    "import sys\n",
    "import sklearn\n",
    "import matplotlib.pyplot as plt\n",
    "\n",
    "#DATA TRANSFORMATION\n",
    "from sklearn.preprocessing import LabelEncoder, OneHotEncoder\n",
    "\n",
    "#DATA NORMALIZATION\n",
    "from sklearn import preprocessing\n",
    "\n",
    "#FEATURE SELECTION\n",
    "#ANNOVA f-TEST\n",
    "from sklearn.feature_selection import SelectPercentile, f_classif\n",
    "from sklearn.model_selection import StratifiedKFold\n",
    "\n",
    "#MODEL BASED\n",
    "from sklearn.feature_selection import SelectFromModel\n",
    "from sklearn.linear_model import LogisticRegression\n",
    "from lightgbm import LGBMClassifier\n",
    "\n",
    "#RECURSIVE FEATURE ELIMINATION\n",
    "from sklearn.feature_selection import RFE, RFECV\n",
    "\n",
    "#CLASSIFIER\n",
    "from sklearn.tree import DecisionTreeClassifier\n",
    "from sklearn.svm import SVR\n",
    "from sklearn.ensemble import RandomForestClassifier\n",
    "\n",
    "#METHOD EVALUATION\n",
    "from sklearn.model_selection import cross_val_score\n",
    "from sklearn.metrics import classification_report, confusion_matrix\n",
    "from imblearn.metrics import sensitivity_specificity_support\n",
    "from sklearn.model_selection import cross_val_score\n",
    "from sklearn import metrics\n",
    "\n",
    "from statistics import mean \n",
    "from sklearn.model_selection import ParameterGrid, StratifiedKFold\n",
    "\n",
    "import time"
   ]
  },
  {
   "cell_type": "code",
   "execution_count": 2,
   "metadata": {},
   "outputs": [],
   "source": [
    "df = pd.read_csv(\"UNSW/UNSW_NB15_training-set.csv\")\n",
    "df_test = pd.read_csv(\"UNSW/UNSW_NB15_testing-set.csv\")"
   ]
  },
  {
   "cell_type": "code",
   "execution_count": 3,
   "metadata": {},
   "outputs": [],
   "source": [
    "df.drop('id', axis=1, inplace=True)\n",
    "df.drop('attack_cat', axis=1, inplace=True)\n",
    "df_test.drop('id', axis=1, inplace=True)\n",
    "df_test.drop('attack_cat', axis=1, inplace=True)"
   ]
  },
  {
   "cell_type": "code",
   "execution_count": 4,
   "metadata": {},
   "outputs": [
    {
     "data": {
      "text/html": [
       "<div>\n",
       "<style scoped>\n",
       "    .dataframe tbody tr th:only-of-type {\n",
       "        vertical-align: middle;\n",
       "    }\n",
       "\n",
       "    .dataframe tbody tr th {\n",
       "        vertical-align: top;\n",
       "    }\n",
       "\n",
       "    .dataframe thead th {\n",
       "        text-align: right;\n",
       "    }\n",
       "</style>\n",
       "<table border=\"1\" class=\"dataframe\">\n",
       "  <thead>\n",
       "    <tr style=\"text-align: right;\">\n",
       "      <th></th>\n",
       "      <th>proto</th>\n",
       "      <th>service</th>\n",
       "      <th>state</th>\n",
       "    </tr>\n",
       "  </thead>\n",
       "  <tbody>\n",
       "    <tr>\n",
       "      <th>0</th>\n",
       "      <td>tcp</td>\n",
       "      <td>-</td>\n",
       "      <td>FIN</td>\n",
       "    </tr>\n",
       "    <tr>\n",
       "      <th>1</th>\n",
       "      <td>tcp</td>\n",
       "      <td>-</td>\n",
       "      <td>FIN</td>\n",
       "    </tr>\n",
       "    <tr>\n",
       "      <th>2</th>\n",
       "      <td>tcp</td>\n",
       "      <td>-</td>\n",
       "      <td>FIN</td>\n",
       "    </tr>\n",
       "    <tr>\n",
       "      <th>3</th>\n",
       "      <td>tcp</td>\n",
       "      <td>ftp</td>\n",
       "      <td>FIN</td>\n",
       "    </tr>\n",
       "    <tr>\n",
       "      <th>4</th>\n",
       "      <td>tcp</td>\n",
       "      <td>-</td>\n",
       "      <td>FIN</td>\n",
       "    </tr>\n",
       "  </tbody>\n",
       "</table>\n",
       "</div>"
      ],
      "text/plain": [
       "  proto service state\n",
       "0   tcp       -   FIN\n",
       "1   tcp       -   FIN\n",
       "2   tcp       -   FIN\n",
       "3   tcp     ftp   FIN\n",
       "4   tcp       -   FIN"
      ]
     },
     "execution_count": 4,
     "metadata": {},
     "output_type": "execute_result"
    }
   ],
   "source": [
    "categorical_columns = ['proto', 'service', 'state']\n",
    "df_categorical_values = df[categorical_columns]\n",
    "testdf_categorical_values = df_test[categorical_columns]\n",
    "df_categorical_values.head()"
   ]
  },
  {
   "cell_type": "code",
   "execution_count": 5,
   "metadata": {},
   "outputs": [
    {
     "name": "stdout",
     "output_type": "stream",
     "text": [
      "['proto_3pc', 'proto_a/n', 'proto_aes-sp3-d', 'proto_any', 'proto_argus', 'proto_aris', 'proto_arp', 'proto_ax.25', 'proto_bbn-rcc', 'proto_bna', 'proto_br-sat-mon', 'proto_cbt', 'proto_cftp', 'proto_chaos', 'proto_compaq-peer', 'proto_cphb', 'proto_cpnx', 'proto_crtp', 'proto_crudp', 'proto_dcn', 'proto_ddp', 'proto_ddx', 'proto_dgp', 'proto_egp', 'proto_eigrp', 'proto_emcon', 'proto_encap', 'proto_etherip', 'proto_fc', 'proto_fire', 'proto_ggp', 'proto_gmtp', 'proto_gre', 'proto_hmp', 'proto_i-nlsp', 'proto_iatp', 'proto_ib', 'proto_icmp', 'proto_idpr', 'proto_idpr-cmtp', 'proto_idrp', 'proto_ifmp', 'proto_igmp', 'proto_igp', 'proto_il', 'proto_ip', 'proto_ipcomp', 'proto_ipcv', 'proto_ipip', 'proto_iplt', 'proto_ipnip', 'proto_ippc', 'proto_ipv6', 'proto_ipv6-frag', 'proto_ipv6-no', 'proto_ipv6-opts', 'proto_ipv6-route', 'proto_ipx-n-ip', 'proto_irtp', 'proto_isis', 'proto_iso-ip', 'proto_iso-tp4', 'proto_kryptolan', 'proto_l2tp', 'proto_larp', 'proto_leaf-1', 'proto_leaf-2', 'proto_merit-inp', 'proto_mfe-nsp', 'proto_mhrp', 'proto_micp', 'proto_mobile', 'proto_mtp', 'proto_mux', 'proto_narp', 'proto_netblt', 'proto_nsfnet-igp', 'proto_nvp', 'proto_ospf', 'proto_pgm', 'proto_pim', 'proto_pipe', 'proto_pnni', 'proto_pri-enc', 'proto_prm', 'proto_ptp', 'proto_pup', 'proto_pvp', 'proto_qnx', 'proto_rdp', 'proto_rsvp', 'proto_rtp', 'proto_rvd', 'proto_sat-expak', 'proto_sat-mon', 'proto_sccopmce', 'proto_scps', 'proto_sctp', 'proto_sdrp', 'proto_secure-vmtp', 'proto_sep', 'proto_skip', 'proto_sm', 'proto_smp', 'proto_snp', 'proto_sprite-rpc', 'proto_sps', 'proto_srp', 'proto_st2', 'proto_stp', 'proto_sun-nd', 'proto_swipe', 'proto_tcf', 'proto_tcp', 'proto_tlsp', 'proto_tp++', 'proto_trunk-1', 'proto_trunk-2', 'proto_ttp', 'proto_udp', 'proto_unas', 'proto_uti', 'proto_vines', 'proto_visa', 'proto_vmtp', 'proto_vrrp', 'proto_wb-expak', 'proto_wb-mon', 'proto_wsn', 'proto_xnet', 'proto_xns-idp', 'proto_xtp', 'proto_zero', 'service_-', 'service_dhcp', 'service_dns', 'service_ftp', 'service_ftp-data', 'service_http', 'service_irc', 'service_pop3', 'service_radius', 'service_smtp', 'service_snmp', 'service_ssh', 'service_ssl', 'state_CON', 'state_ECO', 'state_FIN', 'state_INT', 'state_PAR', 'state_REQ', 'state_RST', 'state_URN', 'state_no']\n"
     ]
    }
   ],
   "source": [
    "#proto\n",
    "unique_proto = sorted(df.proto.unique())\n",
    "string1 = 'proto_'\n",
    "unique_proto2 = [string1 + x for x in unique_proto]\n",
    "\n",
    "#service\n",
    "unique_service=sorted(df.service.unique())\n",
    "string2 = 'service_'\n",
    "unique_service2=[string2 + x for x in unique_service]\n",
    "\n",
    "#state\n",
    "unique_state = sorted(df.state.unique())\n",
    "string3 = 'state_'\n",
    "unique_state2 = [string3 + x for x in unique_state]\n",
    "\n",
    "#create dummies column\n",
    "dumcols = unique_proto2 + unique_service2 + unique_state2\n",
    "print(dumcols)"
   ]
  },
  {
   "cell_type": "code",
   "execution_count": 6,
   "metadata": {},
   "outputs": [
    {
     "name": "stdout",
     "output_type": "stream",
     "text": [
      "['proto_3pc', 'proto_a/n', 'proto_aes-sp3-d', 'proto_any', 'proto_argus', 'proto_aris', 'proto_arp', 'proto_ax.25', 'proto_bbn-rcc', 'proto_bna', 'proto_br-sat-mon', 'proto_cbt', 'proto_cftp', 'proto_chaos', 'proto_compaq-peer', 'proto_cphb', 'proto_cpnx', 'proto_crtp', 'proto_crudp', 'proto_dcn', 'proto_ddp', 'proto_ddx', 'proto_dgp', 'proto_egp', 'proto_eigrp', 'proto_emcon', 'proto_encap', 'proto_etherip', 'proto_fc', 'proto_fire', 'proto_ggp', 'proto_gmtp', 'proto_gre', 'proto_hmp', 'proto_i-nlsp', 'proto_iatp', 'proto_ib', 'proto_idpr', 'proto_idpr-cmtp', 'proto_idrp', 'proto_ifmp', 'proto_igmp', 'proto_igp', 'proto_il', 'proto_ip', 'proto_ipcomp', 'proto_ipcv', 'proto_ipip', 'proto_iplt', 'proto_ipnip', 'proto_ippc', 'proto_ipv6', 'proto_ipv6-frag', 'proto_ipv6-no', 'proto_ipv6-opts', 'proto_ipv6-route', 'proto_ipx-n-ip', 'proto_irtp', 'proto_isis', 'proto_iso-ip', 'proto_iso-tp4', 'proto_kryptolan', 'proto_l2tp', 'proto_larp', 'proto_leaf-1', 'proto_leaf-2', 'proto_merit-inp', 'proto_mfe-nsp', 'proto_mhrp', 'proto_micp', 'proto_mobile', 'proto_mtp', 'proto_mux', 'proto_narp', 'proto_netblt', 'proto_nsfnet-igp', 'proto_nvp', 'proto_ospf', 'proto_pgm', 'proto_pim', 'proto_pipe', 'proto_pnni', 'proto_pri-enc', 'proto_prm', 'proto_ptp', 'proto_pup', 'proto_pvp', 'proto_qnx', 'proto_rdp', 'proto_rsvp', 'proto_rvd', 'proto_sat-expak', 'proto_sat-mon', 'proto_sccopmce', 'proto_scps', 'proto_sctp', 'proto_sdrp', 'proto_secure-vmtp', 'proto_sep', 'proto_skip', 'proto_sm', 'proto_smp', 'proto_snp', 'proto_sprite-rpc', 'proto_sps', 'proto_srp', 'proto_st2', 'proto_stp', 'proto_sun-nd', 'proto_swipe', 'proto_tcf', 'proto_tcp', 'proto_tlsp', 'proto_tp++', 'proto_trunk-1', 'proto_trunk-2', 'proto_ttp', 'proto_udp', 'proto_unas', 'proto_uti', 'proto_vines', 'proto_visa', 'proto_vmtp', 'proto_vrrp', 'proto_wb-expak', 'proto_wb-mon', 'proto_wsn', 'proto_xnet', 'proto_xns-idp', 'proto_xtp', 'proto_zero', 'service_-', 'service_dhcp', 'service_dns', 'service_ftp', 'service_ftp-data', 'service_http', 'service_irc', 'service_pop3', 'service_radius', 'service_smtp', 'service_snmp', 'service_ssh', 'service_ssl', 'state_ACC', 'state_CLO', 'state_CON', 'state_FIN', 'state_INT', 'state_REQ', 'state_RST']\n"
     ]
    }
   ],
   "source": [
    "#proto\n",
    "unique_proto_test = sorted(df_test.proto.unique())\n",
    "string1_test = 'proto_'\n",
    "unique_proto2_test = [string1_test + x for x in unique_proto_test]\n",
    "\n",
    "#service\n",
    "unique_service_test=sorted(df_test.service.unique())\n",
    "string2_test = 'service_'\n",
    "unique_service2_test=[string2_test + x for x in unique_service_test]\n",
    "\n",
    "#state\n",
    "unique_state_test = sorted(df_test.state.unique())\n",
    "string3_test = 'state_'\n",
    "unique_state2_test = [string3_test + x for x in unique_state_test]\n",
    "\n",
    "#create dummies column\n",
    "dumcols_test = unique_proto2_test + unique_service2_test + unique_state2_test\n",
    "print(dumcols_test)"
   ]
  },
  {
   "cell_type": "code",
   "execution_count": 7,
   "metadata": {},
   "outputs": [
    {
     "name": "stdout",
     "output_type": "stream",
     "text": [
      "   proto  service  state\n",
      "0    113        0      2\n",
      "1    113        0      2\n",
      "2    113        0      2\n",
      "3    113        3      2\n",
      "4    113        0      2\n"
     ]
    }
   ],
   "source": [
    "df_categorical_values_enc = df_categorical_values.apply(LabelEncoder().fit_transform)\n",
    "testdf_categorical_values_enc = testdf_categorical_values.apply(LabelEncoder().fit_transform)\n",
    "print(df_categorical_values_enc.head())"
   ]
  },
  {
   "cell_type": "code",
   "execution_count": 8,
   "metadata": {},
   "outputs": [],
   "source": [
    "enc = OneHotEncoder()\n",
    "#Training dataset\n",
    "df_categorical_values_encenc = enc.fit_transform(df_categorical_values_enc)\n",
    "df_cat_data = pd.DataFrame(df_categorical_values_encenc.toarray(), columns = dumcols)\n",
    "\n",
    "#testing dataset\n",
    "testdf_categorical_values_encenc = enc.fit_transform(testdf_categorical_values_enc)\n",
    "testdf_cat_data = pd.DataFrame(testdf_categorical_values_encenc.toarray(), columns=dumcols_test)"
   ]
  },
  {
   "cell_type": "code",
   "execution_count": 9,
   "metadata": {},
   "outputs": [
    {
     "name": "stdout",
     "output_type": "stream",
     "text": [
      "(175341, 155)\n",
      "(82332, 151)\n"
     ]
    }
   ],
   "source": [
    "print(df_cat_data.shape)\n",
    "print(testdf_cat_data.shape)"
   ]
  },
  {
   "cell_type": "code",
   "execution_count": 10,
   "metadata": {},
   "outputs": [],
   "source": [
    "# trainproto=df['proto'].tolist()\n",
    "# testproto=df_test['proto'].tolist()\n",
    "# differenceproto=list(set(trainproto)-set(testproto))\n",
    "# stringS = 'proto_'\n",
    "# differenceproto = [stringS + x for x in differenceproto]\n",
    "# differenceproto"
   ]
  },
  {
   "cell_type": "code",
   "execution_count": 11,
   "metadata": {},
   "outputs": [],
   "source": [
    "# for col in differenceproto:\n",
    "#     testdf_cat_data[col] = 0"
   ]
  },
  {
   "cell_type": "code",
   "execution_count": 12,
   "metadata": {},
   "outputs": [
    {
     "data": {
      "text/plain": [
       "['state_PAR', 'state_URN', 'state_ECO', 'state_no']"
      ]
     },
     "execution_count": 12,
     "metadata": {},
     "output_type": "execute_result"
    }
   ],
   "source": [
    "trainstate=df['state'].tolist()\n",
    "teststate=df_test['state'].tolist()\n",
    "differencestate=list(set(trainstate)-set(teststate))\n",
    "stringSt = 'state_'\n",
    "differencestate = [stringSt + x for x in differencestate]\n",
    "differencestate"
   ]
  },
  {
   "cell_type": "code",
   "execution_count": 13,
   "metadata": {},
   "outputs": [],
   "source": [
    "for col in differencestate:\n",
    "    testdf_cat_data[col] = 0"
   ]
  },
  {
   "cell_type": "code",
   "execution_count": 14,
   "metadata": {},
   "outputs": [
    {
     "name": "stdout",
     "output_type": "stream",
     "text": [
      "(175341, 155)\n",
      "(82332, 155)\n"
     ]
    }
   ],
   "source": [
    "print(df_cat_data.shape)\n",
    "print(testdf_cat_data.shape)"
   ]
  },
  {
   "cell_type": "code",
   "execution_count": 15,
   "metadata": {},
   "outputs": [
    {
     "name": "stdout",
     "output_type": "stream",
     "text": [
      "(175341, 195)\n",
      "(82332, 195)\n"
     ]
    }
   ],
   "source": [
    "#train data\n",
    "newdf = df.join(df_cat_data)\n",
    "newdf.drop('proto', axis=1, inplace=True)\n",
    "newdf.drop('service', axis=1, inplace=True)\n",
    "newdf.drop('state', axis=1, inplace=True)\n",
    "\n",
    "#test data\n",
    "newdf_test = df_test.join(testdf_cat_data)\n",
    "newdf_test.drop('proto', axis=1, inplace=True)\n",
    "newdf_test.drop('service', axis=1, inplace=True)\n",
    "newdf_test.drop('state', axis=1, inplace=True)\n",
    "\n",
    "print(newdf.shape)\n",
    "print(newdf_test.shape)"
   ]
  },
  {
   "cell_type": "code",
   "execution_count": 16,
   "metadata": {},
   "outputs": [
    {
     "data": {
      "text/html": [
       "<div>\n",
       "<style scoped>\n",
       "    .dataframe tbody tr th:only-of-type {\n",
       "        vertical-align: middle;\n",
       "    }\n",
       "\n",
       "    .dataframe tbody tr th {\n",
       "        vertical-align: top;\n",
       "    }\n",
       "\n",
       "    .dataframe thead th {\n",
       "        text-align: right;\n",
       "    }\n",
       "</style>\n",
       "<table border=\"1\" class=\"dataframe\">\n",
       "  <thead>\n",
       "    <tr style=\"text-align: right;\">\n",
       "      <th></th>\n",
       "      <th>dur</th>\n",
       "      <th>spkts</th>\n",
       "      <th>dpkts</th>\n",
       "      <th>sbytes</th>\n",
       "      <th>dbytes</th>\n",
       "      <th>rate</th>\n",
       "      <th>sttl</th>\n",
       "      <th>dttl</th>\n",
       "      <th>sload</th>\n",
       "      <th>dload</th>\n",
       "      <th>...</th>\n",
       "      <th>service_ssl</th>\n",
       "      <th>state_CON</th>\n",
       "      <th>state_ECO</th>\n",
       "      <th>state_FIN</th>\n",
       "      <th>state_INT</th>\n",
       "      <th>state_PAR</th>\n",
       "      <th>state_REQ</th>\n",
       "      <th>state_RST</th>\n",
       "      <th>state_URN</th>\n",
       "      <th>state_no</th>\n",
       "    </tr>\n",
       "  </thead>\n",
       "  <tbody>\n",
       "    <tr>\n",
       "      <th>0</th>\n",
       "      <td>0.121478</td>\n",
       "      <td>6</td>\n",
       "      <td>4</td>\n",
       "      <td>258</td>\n",
       "      <td>172</td>\n",
       "      <td>74.087490</td>\n",
       "      <td>252</td>\n",
       "      <td>254</td>\n",
       "      <td>14158.942380</td>\n",
       "      <td>8495.365234</td>\n",
       "      <td>...</td>\n",
       "      <td>0.0</td>\n",
       "      <td>0.0</td>\n",
       "      <td>0.0</td>\n",
       "      <td>1.0</td>\n",
       "      <td>0.0</td>\n",
       "      <td>0.0</td>\n",
       "      <td>0.0</td>\n",
       "      <td>0.0</td>\n",
       "      <td>0.0</td>\n",
       "      <td>0.0</td>\n",
       "    </tr>\n",
       "    <tr>\n",
       "      <th>1</th>\n",
       "      <td>0.649902</td>\n",
       "      <td>14</td>\n",
       "      <td>38</td>\n",
       "      <td>734</td>\n",
       "      <td>42014</td>\n",
       "      <td>78.473372</td>\n",
       "      <td>62</td>\n",
       "      <td>252</td>\n",
       "      <td>8395.112305</td>\n",
       "      <td>503571.312500</td>\n",
       "      <td>...</td>\n",
       "      <td>0.0</td>\n",
       "      <td>0.0</td>\n",
       "      <td>0.0</td>\n",
       "      <td>1.0</td>\n",
       "      <td>0.0</td>\n",
       "      <td>0.0</td>\n",
       "      <td>0.0</td>\n",
       "      <td>0.0</td>\n",
       "      <td>0.0</td>\n",
       "      <td>0.0</td>\n",
       "    </tr>\n",
       "    <tr>\n",
       "      <th>2</th>\n",
       "      <td>1.623129</td>\n",
       "      <td>8</td>\n",
       "      <td>16</td>\n",
       "      <td>364</td>\n",
       "      <td>13186</td>\n",
       "      <td>14.170161</td>\n",
       "      <td>62</td>\n",
       "      <td>252</td>\n",
       "      <td>1572.271851</td>\n",
       "      <td>60929.230470</td>\n",
       "      <td>...</td>\n",
       "      <td>0.0</td>\n",
       "      <td>0.0</td>\n",
       "      <td>0.0</td>\n",
       "      <td>1.0</td>\n",
       "      <td>0.0</td>\n",
       "      <td>0.0</td>\n",
       "      <td>0.0</td>\n",
       "      <td>0.0</td>\n",
       "      <td>0.0</td>\n",
       "      <td>0.0</td>\n",
       "    </tr>\n",
       "    <tr>\n",
       "      <th>3</th>\n",
       "      <td>1.681642</td>\n",
       "      <td>12</td>\n",
       "      <td>12</td>\n",
       "      <td>628</td>\n",
       "      <td>770</td>\n",
       "      <td>13.677108</td>\n",
       "      <td>62</td>\n",
       "      <td>252</td>\n",
       "      <td>2740.178955</td>\n",
       "      <td>3358.622070</td>\n",
       "      <td>...</td>\n",
       "      <td>0.0</td>\n",
       "      <td>0.0</td>\n",
       "      <td>0.0</td>\n",
       "      <td>1.0</td>\n",
       "      <td>0.0</td>\n",
       "      <td>0.0</td>\n",
       "      <td>0.0</td>\n",
       "      <td>0.0</td>\n",
       "      <td>0.0</td>\n",
       "      <td>0.0</td>\n",
       "    </tr>\n",
       "    <tr>\n",
       "      <th>4</th>\n",
       "      <td>0.449454</td>\n",
       "      <td>10</td>\n",
       "      <td>6</td>\n",
       "      <td>534</td>\n",
       "      <td>268</td>\n",
       "      <td>33.373826</td>\n",
       "      <td>254</td>\n",
       "      <td>252</td>\n",
       "      <td>8561.499023</td>\n",
       "      <td>3987.059814</td>\n",
       "      <td>...</td>\n",
       "      <td>0.0</td>\n",
       "      <td>0.0</td>\n",
       "      <td>0.0</td>\n",
       "      <td>1.0</td>\n",
       "      <td>0.0</td>\n",
       "      <td>0.0</td>\n",
       "      <td>0.0</td>\n",
       "      <td>0.0</td>\n",
       "      <td>0.0</td>\n",
       "      <td>0.0</td>\n",
       "    </tr>\n",
       "  </tbody>\n",
       "</table>\n",
       "<p>5 rows × 195 columns</p>\n",
       "</div>"
      ],
      "text/plain": [
       "        dur  spkts  dpkts  sbytes  dbytes       rate  sttl  dttl  \\\n",
       "0  0.121478      6      4     258     172  74.087490   252   254   \n",
       "1  0.649902     14     38     734   42014  78.473372    62   252   \n",
       "2  1.623129      8     16     364   13186  14.170161    62   252   \n",
       "3  1.681642     12     12     628     770  13.677108    62   252   \n",
       "4  0.449454     10      6     534     268  33.373826   254   252   \n",
       "\n",
       "          sload          dload  ...  service_ssl  state_CON  state_ECO  \\\n",
       "0  14158.942380    8495.365234  ...          0.0        0.0        0.0   \n",
       "1   8395.112305  503571.312500  ...          0.0        0.0        0.0   \n",
       "2   1572.271851   60929.230470  ...          0.0        0.0        0.0   \n",
       "3   2740.178955    3358.622070  ...          0.0        0.0        0.0   \n",
       "4   8561.499023    3987.059814  ...          0.0        0.0        0.0   \n",
       "\n",
       "   state_FIN  state_INT  state_PAR  state_REQ  state_RST  state_URN  state_no  \n",
       "0        1.0        0.0        0.0        0.0        0.0        0.0       0.0  \n",
       "1        1.0        0.0        0.0        0.0        0.0        0.0       0.0  \n",
       "2        1.0        0.0        0.0        0.0        0.0        0.0       0.0  \n",
       "3        1.0        0.0        0.0        0.0        0.0        0.0       0.0  \n",
       "4        1.0        0.0        0.0        0.0        0.0        0.0       0.0  \n",
       "\n",
       "[5 rows x 195 columns]"
      ]
     },
     "execution_count": 16,
     "metadata": {},
     "output_type": "execute_result"
    }
   ],
   "source": [
    "newdf.head()"
   ]
  },
  {
   "cell_type": "code",
   "execution_count": 17,
   "metadata": {},
   "outputs": [
    {
     "data": {
      "text/plain": [
       "1    119341\n",
       "0     56000\n",
       "Name: label, dtype: int64"
      ]
     },
     "execution_count": 17,
     "metadata": {},
     "output_type": "execute_result"
    }
   ],
   "source": [
    "newdf['label'].value_counts()"
   ]
  },
  {
   "cell_type": "code",
   "execution_count": 18,
   "metadata": {},
   "outputs": [
    {
     "data": {
      "text/plain": [
       "1    45332\n",
       "0    37000\n",
       "Name: label, dtype: int64"
      ]
     },
     "execution_count": 18,
     "metadata": {},
     "output_type": "execute_result"
    }
   ],
   "source": [
    "newdf_test['label'].value_counts()"
   ]
  },
  {
   "cell_type": "code",
   "execution_count": 19,
   "metadata": {},
   "outputs": [],
   "source": [
    "x_df = newdf.drop('label',1)\n",
    "y_df = newdf.label\n",
    "x_df_test = newdf_test.drop('label',1)\n",
    "y_df_test = newdf_test.label"
   ]
  },
  {
   "cell_type": "code",
   "execution_count": 20,
   "metadata": {},
   "outputs": [],
   "source": [
    "colNames=list(x_df)\n",
    "colNames_test=list(x_df_test)"
   ]
  },
  {
   "cell_type": "code",
   "execution_count": 21,
   "metadata": {},
   "outputs": [],
   "source": [
    "scaler1 = preprocessing.StandardScaler().fit(x_df)\n",
    "x_df = scaler1.transform(x_df)\n",
    "scaler2 = preprocessing.StandardScaler().fit(x_df_test)\n",
    "x_df_test = scaler2.transform(x_df_test)"
   ]
  },
  {
   "cell_type": "code",
   "execution_count": 22,
   "metadata": {},
   "outputs": [],
   "source": [
    "from sklearn.tree import DecisionTreeClassifier\n",
    "start1 = time.time()\n",
    "clf = DecisionTreeClassifier(random_state=0)\n",
    "clf.fit(x_df, y_df)\n",
    "y_pred = clf.predict(x_df_test)\n",
    "time1 = (time.time()-start1)"
   ]
  },
  {
   "cell_type": "code",
   "execution_count": 23,
   "metadata": {},
   "outputs": [
    {
     "name": "stdout",
     "output_type": "stream",
     "text": [
      "Predicted activity      0      1\n",
      "Actual activity                 \n",
      "0                   26141  10859\n",
      "1                   16554  28778\n",
      "Accuracy all features :  0.6670431909828499\n",
      "Sensitivity all features :  0.6348274949263214\n",
      "Specificity all features : 0.7065135135135135\n",
      "False Alarm rate all features :  0.2934864864864865\n",
      "Computation time all features :  4.635051488876343\n"
     ]
    }
   ],
   "source": [
    "cm_all = confusion_matrix(y_df_test, y_pred)\n",
    "print(pd.crosstab(y_df_test, y_pred, rownames=['Actual activity'], colnames=['Predicted activity']))\n",
    "TP_all = cm_all[1][1]\n",
    "FN_all = cm_all[1][0]\n",
    "FP_all = cm_all[0][1]\n",
    "TN_all = cm_all[0][0]\n",
    "acc_all = (TP_all+TN_all)/(TP_all+TN_all+FP_all+FN_all)\n",
    "sen_all = TP_all/(TP_all+FN_all)\n",
    "spe_all = TN_all/(TN_all+FP_all)\n",
    "fal_all = FP_all/(FP_all+TN_all)\n",
    "print(\"Accuracy all features : \", acc_all)\n",
    "print(\"Sensitivity all features : \", sen_all)\n",
    "print(\"Specificity all features :\", spe_all)\n",
    "print(\"False Alarm rate all features : \", fal_all)\n",
    "print(\"Computation time all features : \", time1)"
   ]
  },
  {
   "cell_type": "code",
   "execution_count": 24,
   "metadata": {},
   "outputs": [
    {
     "name": "stdout",
     "output_type": "stream",
     "text": [
      "Feature importance of DoS : \n",
      "0.6751062684451101\n",
      "0.06133421958479836\n",
      "0.047759947728968626\n",
      "0.03266138274769058\n",
      "0.01605583064007574\n",
      "0.010092142713906368\n",
      "0.010013757959055567\n",
      "0.00999495252881726\n",
      "0.00978634038579304\n",
      "0.00976459711160334\n",
      "0.009733264473134978\n",
      "0.009076724986749989\n",
      "0.00875622801584691\n",
      "0.008628935852274571\n",
      "0.007699578547458444\n",
      "0.0066395375236443155\n",
      "0.006402142286261502\n",
      "0.006341782846574066\n",
      "0.0062682079534938685\n",
      "0.006002402530373979\n",
      "0.005559780773568554\n",
      "0.0055129061317651966\n",
      "0.005472053593360676\n",
      "0.005333375236937554\n",
      "0.004970787782139715\n",
      "0.004154630056318237\n",
      "0.0021928749866860805\n",
      "0.002026281561544384\n",
      "0.0015836552658530865\n",
      "0.0010017725321590095\n",
      "0.0005874521849285066\n",
      "0.0005830359324796844\n",
      "0.0005576769527777333\n",
      "0.00047351240083074776\n",
      "0.0004509575484770912\n",
      "0.00034217845111720864\n",
      "0.00026932706810882303\n",
      "0.0002178837230257608\n",
      "0.000204523518612603\n",
      "0.00012518339362498182\n",
      "7.082860674055704e-05\n",
      "4.461670394140936e-05\n",
      "4.268225589945135e-05\n",
      "2.8569048481426407e-05\n",
      "2.6454237369077313e-05\n",
      "2.1695238324352384e-05\n",
      "1.3186354635090085e-05\n",
      "8.663937101665224e-06\n",
      "3.6475333655552822e-06\n",
      "1.169772521383154e-06\n",
      "3.923556727172081e-07\n",
      "0.0\n",
      "0.0\n",
      "0.0\n",
      "0.0\n",
      "0.0\n",
      "0.0\n",
      "0.0\n",
      "0.0\n",
      "0.0\n",
      "0.0\n",
      "0.0\n",
      "0.0\n",
      "0.0\n",
      "0.0\n",
      "0.0\n",
      "0.0\n",
      "0.0\n",
      "0.0\n",
      "0.0\n",
      "0.0\n",
      "0.0\n",
      "0.0\n",
      "0.0\n",
      "0.0\n",
      "0.0\n",
      "0.0\n",
      "0.0\n",
      "0.0\n",
      "0.0\n",
      "0.0\n",
      "0.0\n",
      "0.0\n",
      "0.0\n",
      "0.0\n",
      "0.0\n",
      "0.0\n",
      "0.0\n",
      "0.0\n",
      "0.0\n",
      "0.0\n",
      "0.0\n",
      "0.0\n",
      "0.0\n",
      "0.0\n",
      "0.0\n",
      "0.0\n",
      "0.0\n",
      "0.0\n",
      "0.0\n",
      "0.0\n",
      "0.0\n",
      "0.0\n",
      "0.0\n",
      "0.0\n",
      "0.0\n",
      "0.0\n",
      "0.0\n",
      "0.0\n",
      "0.0\n",
      "0.0\n",
      "0.0\n",
      "0.0\n",
      "0.0\n",
      "0.0\n",
      "0.0\n",
      "0.0\n",
      "0.0\n",
      "0.0\n",
      "0.0\n",
      "0.0\n",
      "0.0\n",
      "0.0\n",
      "0.0\n",
      "0.0\n",
      "0.0\n",
      "0.0\n",
      "0.0\n",
      "0.0\n",
      "0.0\n",
      "0.0\n",
      "0.0\n",
      "0.0\n",
      "0.0\n",
      "0.0\n",
      "0.0\n",
      "0.0\n",
      "0.0\n",
      "0.0\n",
      "0.0\n",
      "0.0\n",
      "0.0\n",
      "0.0\n",
      "0.0\n",
      "0.0\n",
      "0.0\n",
      "0.0\n",
      "0.0\n",
      "0.0\n",
      "0.0\n",
      "0.0\n",
      "0.0\n",
      "0.0\n",
      "0.0\n",
      "0.0\n",
      "0.0\n",
      "0.0\n",
      "0.0\n",
      "0.0\n",
      "0.0\n",
      "0.0\n",
      "0.0\n",
      "0.0\n",
      "0.0\n",
      "0.0\n",
      "0.0\n",
      "0.0\n",
      "0.0\n",
      "0.0\n",
      "0.0\n",
      "0.0\n",
      "0.0\n",
      "0.0\n",
      "0.0\n",
      "0.0\n",
      "0.0\n",
      "0.0\n",
      "0.0\n",
      "0.0\n",
      "0.0\n",
      "0.0\n",
      "0.0\n",
      "0.0\n",
      "0.0\n",
      "0.0\n",
      "0.0\n",
      "0.0\n",
      "0.0\n",
      "0.0\n",
      "0.0\n",
      "0.0\n",
      "0.0\n",
      "0.0\n",
      "0.0\n"
     ]
    },
    {
     "data": {
      "image/png": "[encoded data removed]",
      "text/plain": [
       "<Figure size 432x288 with 1 Axes>"
      ]
     },
     "metadata": {
      "needs_background": "light"
     },
     "output_type": "display_data"
    }
   ],
   "source": [
    "n = 195\n",
    "model = DecisionTreeClassifier(random_state=0)\n",
    "#DoS\n",
    "model.fit(x_df,y_df)\n",
    "feat_importances = pd.Series(model.feature_importances_, index=colNames)\n",
    "feat_importances.nlargest(n).plot(kind='line')\n",
    "print(\"Feature importance of DoS : \")\n",
    "for x in feat_importances.nlargest(n):\n",
    "    print(x)\n",
    "plt.show()"
   ]
  },
  {
   "cell_type": "code",
   "execution_count": 25,
   "metadata": {},
   "outputs": [
    {
     "name": "stdout",
     "output_type": "stream",
     "text": [
      "dur                  5.472054e-03\n",
      "spkts                4.735124e-04\n",
      "dpkts                1.583655e-03\n",
      "sbytes               4.775995e-02\n",
      "dbytes               5.512906e-03\n",
      "rate                 5.333375e-03\n",
      "sttl                 6.751063e-01\n",
      "dttl                 2.645424e-05\n",
      "sload                9.786340e-03\n",
      "dload                8.628936e-03\n",
      "sloss                6.268208e-03\n",
      "dloss                1.001773e-03\n",
      "sinpkt               1.009214e-02\n",
      "dinpkt               6.639538e-03\n",
      "sjit                 5.559781e-03\n",
      "djit                 7.699579e-03\n",
      "swin                 0.000000e+00\n",
      "stcpb                9.994953e-03\n",
      "dtcpb                9.764597e-03\n",
      "dwin                 0.000000e+00\n",
      "tcprtt               9.733264e-03\n",
      "synack               1.001376e-02\n",
      "ackdat               9.076725e-03\n",
      "smean                3.266138e-02\n",
      "dmean                6.341783e-03\n",
      "trans_depth          5.830359e-04\n",
      "response_body_len    5.874522e-04\n",
      "ct_srv_src           1.605583e-02\n",
      "ct_state_ttl         1.318635e-05\n",
      "ct_dst_ltm           4.970788e-03\n",
      "ct_src_dport_ltm     4.154630e-03\n",
      "ct_dst_sport_ltm     2.192875e-03\n",
      "ct_dst_src_ltm       8.756228e-03\n",
      "is_ftp_login         4.461670e-05\n",
      "ct_ftp_cmd           4.268226e-05\n",
      "ct_flw_http_mthd     5.576770e-04\n",
      "ct_src_ltm           6.002403e-03\n",
      "ct_srv_dst           6.133422e-02\n",
      "is_sm_ips_ports      0.000000e+00\n",
      "proto_3pc            0.000000e+00\n",
      "proto_a/n            0.000000e+00\n",
      "proto_aes-sp3-d      0.000000e+00\n",
      "proto_any            0.000000e+00\n",
      "proto_argus          0.000000e+00\n",
      "proto_aris           0.000000e+00\n",
      "proto_arp            0.000000e+00\n",
      "proto_ax.25          0.000000e+00\n",
      "proto_bbn-rcc        0.000000e+00\n",
      "proto_bna            0.000000e+00\n",
      "proto_br-sat-mon     0.000000e+00\n",
      "proto_cbt            0.000000e+00\n",
      "proto_cftp           0.000000e+00\n",
      "proto_chaos          0.000000e+00\n",
      "proto_compaq-peer    0.000000e+00\n",
      "proto_cphb           0.000000e+00\n",
      "proto_cpnx           0.000000e+00\n",
      "proto_crtp           0.000000e+00\n",
      "proto_crudp          0.000000e+00\n",
      "proto_dcn            0.000000e+00\n",
      "proto_ddp            0.000000e+00\n",
      "proto_ddx            0.000000e+00\n",
      "proto_dgp            0.000000e+00\n",
      "proto_egp            0.000000e+00\n",
      "proto_eigrp          0.000000e+00\n",
      "proto_emcon          0.000000e+00\n",
      "proto_encap          0.000000e+00\n",
      "proto_etherip        0.000000e+00\n",
      "proto_fc             0.000000e+00\n",
      "proto_fire           0.000000e+00\n",
      "proto_ggp            0.000000e+00\n",
      "proto_gmtp           0.000000e+00\n",
      "proto_gre            0.000000e+00\n",
      "proto_hmp            0.000000e+00\n",
      "proto_i-nlsp         0.000000e+00\n",
      "proto_iatp           0.000000e+00\n",
      "proto_ib             0.000000e+00\n",
      "proto_icmp           3.421785e-04\n",
      "proto_idpr           0.000000e+00\n",
      "proto_idpr-cmtp      0.000000e+00\n",
      "proto_idrp           0.000000e+00\n",
      "proto_ifmp           0.000000e+00\n",
      "proto_igmp           2.693271e-04\n",
      "proto_igp            0.000000e+00\n",
      "proto_il             0.000000e+00\n",
      "proto_ip             0.000000e+00\n",
      "proto_ipcomp         0.000000e+00\n",
      "proto_ipcv           0.000000e+00\n",
      "proto_ipip           0.000000e+00\n",
      "proto_iplt           0.000000e+00\n",
      "proto_ipnip          0.000000e+00\n",
      "proto_ippc           0.000000e+00\n",
      "proto_ipv6           0.000000e+00\n",
      "proto_ipv6-frag      0.000000e+00\n",
      "proto_ipv6-no        0.000000e+00\n",
      "proto_ipv6-opts      0.000000e+00\n",
      "proto_ipv6-route     0.000000e+00\n",
      "proto_ipx-n-ip       0.000000e+00\n",
      "proto_irtp           0.000000e+00\n",
      "proto_isis           0.000000e+00\n",
      "proto_iso-ip         0.000000e+00\n",
      "proto_iso-tp4        0.000000e+00\n",
      "proto_kryptolan      0.000000e+00\n",
      "proto_l2tp           0.000000e+00\n",
      "proto_larp           0.000000e+00\n",
      "proto_leaf-1         0.000000e+00\n",
      "proto_leaf-2         0.000000e+00\n",
      "proto_merit-inp      0.000000e+00\n",
      "proto_mfe-nsp        0.000000e+00\n",
      "proto_mhrp           0.000000e+00\n",
      "proto_micp           0.000000e+00\n",
      "proto_mobile         0.000000e+00\n",
      "proto_mtp            0.000000e+00\n",
      "proto_mux            0.000000e+00\n",
      "proto_narp           0.000000e+00\n",
      "proto_netblt         0.000000e+00\n",
      "proto_nsfnet-igp     0.000000e+00\n",
      "proto_nvp            0.000000e+00\n",
      "proto_ospf           0.000000e+00\n",
      "proto_pgm            0.000000e+00\n",
      "proto_pim            0.000000e+00\n",
      "proto_pipe           0.000000e+00\n",
      "proto_pnni           0.000000e+00\n",
      "proto_pri-enc        0.000000e+00\n",
      "proto_prm            0.000000e+00\n",
      "proto_ptp            0.000000e+00\n",
      "proto_pup            0.000000e+00\n",
      "proto_pvp            0.000000e+00\n",
      "proto_qnx            0.000000e+00\n",
      "proto_rdp            0.000000e+00\n",
      "proto_rsvp           0.000000e+00\n",
      "proto_rtp            0.000000e+00\n",
      "proto_rvd            0.000000e+00\n",
      "proto_sat-expak      0.000000e+00\n",
      "proto_sat-mon        0.000000e+00\n",
      "proto_sccopmce       0.000000e+00\n",
      "proto_scps           0.000000e+00\n",
      "proto_sctp           7.082861e-05\n",
      "proto_sdrp           0.000000e+00\n",
      "proto_secure-vmtp    0.000000e+00\n",
      "proto_sep            0.000000e+00\n",
      "proto_skip           0.000000e+00\n",
      "proto_sm             0.000000e+00\n",
      "proto_smp            0.000000e+00\n",
      "proto_snp            0.000000e+00\n",
      "proto_sprite-rpc     0.000000e+00\n",
      "proto_sps            0.000000e+00\n",
      "proto_srp            0.000000e+00\n",
      "proto_st2            0.000000e+00\n",
      "proto_stp            0.000000e+00\n",
      "proto_sun-nd         0.000000e+00\n",
      "proto_swipe          0.000000e+00\n",
      "proto_tcf            0.000000e+00\n",
      "proto_tcp            0.000000e+00\n",
      "proto_tlsp           0.000000e+00\n",
      "proto_tp++           0.000000e+00\n",
      "proto_trunk-1        0.000000e+00\n",
      "proto_trunk-2        0.000000e+00\n",
      "proto_ttp            0.000000e+00\n",
      "proto_udp            2.045235e-04\n",
      "proto_unas           0.000000e+00\n",
      "proto_uti            0.000000e+00\n",
      "proto_vines          0.000000e+00\n",
      "proto_visa           0.000000e+00\n",
      "proto_vmtp           0.000000e+00\n",
      "proto_vrrp           0.000000e+00\n",
      "proto_wb-expak       0.000000e+00\n",
      "proto_wb-mon         0.000000e+00\n",
      "proto_wsn            0.000000e+00\n",
      "proto_xnet           0.000000e+00\n",
      "proto_xns-idp        0.000000e+00\n",
      "proto_xtp            0.000000e+00\n",
      "proto_zero           0.000000e+00\n",
      "service_-            2.178837e-04\n",
      "service_dhcp         0.000000e+00\n",
      "service_dns          1.251834e-04\n",
      "service_ftp          4.509575e-04\n",
      "service_ftp-data     1.169773e-06\n",
      "service_http         2.026282e-03\n",
      "service_irc          0.000000e+00\n",
      "service_pop3         0.000000e+00\n",
      "service_radius       3.647533e-06\n",
      "service_smtp         2.856905e-05\n",
      "service_snmp         3.923557e-07\n",
      "service_ssh          0.000000e+00\n",
      "service_ssl          0.000000e+00\n",
      "state_CON            6.402142e-03\n",
      "state_ECO            0.000000e+00\n",
      "state_FIN            0.000000e+00\n",
      "state_INT            0.000000e+00\n",
      "state_PAR            0.000000e+00\n",
      "state_REQ            2.169524e-05\n",
      "state_RST            8.663937e-06\n",
      "state_URN            0.000000e+00\n",
      "state_no             0.000000e+00\n",
      "dtype: float64\n"
     ]
    }
   ],
   "source": [
    "pd.set_option('display.max_rows', None)\n",
    "print(feat_importances)"
   ]
  },
  {
   "cell_type": "code",
   "execution_count": 26,
   "metadata": {},
   "outputs": [],
   "source": [
    "from statistics import median\n",
    "\n",
    "feat_value = []\n",
    "Im = []\n",
    "#create list of importance value\n",
    "for i in range(0,194,1):\n",
    "  feat_value.append(feat_importances[i])\n",
    "\n",
    "#delete non zero\n",
    "#create threshold from median value \n",
    "val_nonzero = [x for x in feat_value if x != 0]\n",
    "thres = median(val_nonzero)\n",
    "\n",
    "#remove feature below threhsold\n",
    "for j in range(0,194,1):\n",
    "  if(feat_value[j] > thres): \n",
    "    Im.append(j)\n",
    "\n",
    "#calculate how many features\n",
    "n_feat = len(Im)"
   ]
  },
  {
   "cell_type": "code",
   "execution_count": 27,
   "metadata": {},
   "outputs": [
    {
     "data": {
      "text/plain": [
       "25"
      ]
     },
     "execution_count": 27,
     "metadata": {},
     "output_type": "execute_result"
    }
   ],
   "source": [
    "n_feat"
   ]
  },
  {
   "cell_type": "code",
   "execution_count": 28,
   "metadata": {},
   "outputs": [],
   "source": [
    "# param_grid = {'n_features':[i for i in range(1,n_feat+1,1)]}\n",
    "\n",
    "# #DoS\n",
    "# cv_res=[]\n",
    "# for params in ParameterGrid(param_grid):\n",
    "#     cv_folds = []\n",
    "        \n",
    "#     dcs = DecisionTreeClassifier(random_state=0)\n",
    "#     rfe_grid = RFE(estimator=dcs, n_features_to_select=params['n_features'], step=1)\n",
    "#     rfe_grid.fit(x_df, y_df)\n",
    "        \n",
    "#     cv_folds.append(rfe_grid.score(x_df_test, y_df_test))\n",
    "    \n",
    "#     cv_res.append(np.mean(cv_folds))\n",
    "#     print(\"combination of parameters: \" + str(params) + \" ended \")\n"
   ]
  },
  {
   "cell_type": "code",
   "execution_count": 29,
   "metadata": {},
   "outputs": [],
   "source": [
    "# max_rfe = cv_res[0]\n",
    "# for f in range(0,len(cv_res),1):\n",
    "#     if cv_res[f] > max_rfe:\n",
    "#       max_rfe = cv_res[f]\n",
    "#       ind_max = f+1\n",
    "# print(\"Best score RFE : \",max_rfe)\n",
    "# print(\"Number of selected features : \", ind_max)"
   ]
  },
  {
   "cell_type": "code",
   "execution_count": 31,
   "metadata": {},
   "outputs": [],
   "source": [
    "# for x in cv_res:\n",
    "#     print(x)"
   ]
  },
  {
   "cell_type": "code",
   "execution_count": 32,
   "metadata": {},
   "outputs": [],
   "source": [
    "# cv_res"
   ]
  },
  {
   "cell_type": "code",
   "execution_count": 33,
   "metadata": {},
   "outputs": [
    {
     "name": "stdout",
     "output_type": "stream",
     "text": [
      "Features selected for DoS: ['sbytes', 'sttl', 'sload', 'sinpkt', 'dinpkt', 'stcpb', 'tcprtt', 'synack', 'smean', 'ct_srv_src', 'ct_srv_dst']\n",
      "\n",
      "(175341, 11)\n"
     ]
    }
   ],
   "source": [
    "est = DecisionTreeClassifier(random_state=0)\n",
    "#rfe = RFE(estimator=est, n_features_to_select=ind_max, step=1)\n",
    "rfe = RFE(estimator=est, n_features_to_select=11, step=1)\n",
    "rfe.fit(x_df, y_df)\n",
    "X_rfe = rfe.transform(x_df)\n",
    "true=rfe.support_\n",
    "rfecolindex=[i for i, x in enumerate(true) if x]\n",
    "rfecolname=list(colNames[i] for i in rfecolindex)\n",
    "\n",
    "print('Features selected for DoS:',rfecolname)\n",
    "print()\n",
    "print(X_rfe.shape)"
   ]
  },
  {
   "cell_type": "code",
   "execution_count": 34,
   "metadata": {},
   "outputs": [],
   "source": [
    "x_df_test2=x_df_test[:,rfecolindex]\n",
    "start2 = time.time()\n",
    "clf_rfe = DecisionTreeClassifier(random_state=0)\n",
    "clf_rfe.fit(X_rfe, y_df)\n",
    "Y_pred2 = clf_rfe.predict(x_df_test2)\n",
    "time2 = (time.time()-start2)"
   ]
  },
  {
   "cell_type": "code",
   "execution_count": 35,
   "metadata": {},
   "outputs": [
    {
     "name": "stdout",
     "output_type": "stream",
     "text": [
      "Predicted activity      0      1\n",
      "Actual activity                 \n",
      "0                   26701  10299\n",
      "1                   13317  32015\n",
      "Accuracy df all features :  0.7131613467424573\n",
      "Sensitivity df all features :  0.7062340068825553\n",
      "Specificity df all features : 0.7216486486486486\n",
      "False Alarm rate df all features :  0.27835135135135136\n",
      "Computation time df all features :  1.114187240600586\n"
     ]
    }
   ],
   "source": [
    "cm_df_rfe = confusion_matrix(y_df_test, Y_pred2)\n",
    "print(pd.crosstab(y_df_test, Y_pred2, rownames=['Actual activity'], colnames=['Predicted activity']))\n",
    "TP_df_rfe = cm_df_rfe[1][1]\n",
    "FN_df_rfe = cm_df_rfe[1][0]\n",
    "FP_df_rfe = cm_df_rfe[0][1]\n",
    "TN_df_rfe = cm_df_rfe[0][0]\n",
    "acc_df_rfe = (TP_df_rfe+TN_df_rfe)/(TP_df_rfe+TN_df_rfe+FP_df_rfe+FN_df_rfe)\n",
    "sen_df_rfe = TP_df_rfe/(TP_df_rfe+FN_df_rfe)\n",
    "spe_df_rfe = TN_df_rfe/(TN_df_rfe+FP_df_rfe)\n",
    "fal_df_rfe = FP_df_rfe/(FP_df_rfe+TN_df_rfe)\n",
    "print(\"Accuracy df all features : \", acc_df_rfe)\n",
    "print(\"Sensitivity df all features : \", sen_df_rfe)\n",
    "print(\"Specificity df all features :\", spe_df_rfe)\n",
    "print(\"False Alarm rate df all features : \", fal_df_rfe)\n",
    "print(\"Computation time df all features : \", time2)"
   ]
  },
  {
   "cell_type": "code",
   "execution_count": 42,
   "metadata": {},
   "outputs": [
    {
     "data": {
      "text/html": [
       "<div>\n",
       "<style scoped>\n",
       "    .dataframe tbody tr th:only-of-type {\n",
       "        vertical-align: middle;\n",
       "    }\n",
       "\n",
       "    .dataframe tbody tr th {\n",
       "        vertical-align: top;\n",
       "    }\n",
       "\n",
       "    .dataframe thead th {\n",
       "        text-align: right;\n",
       "    }\n",
       "</style>\n",
       "<table border=\"1\" class=\"dataframe\">\n",
       "  <thead>\n",
       "    <tr style=\"text-align: right;\">\n",
       "      <th>Predicted attacks</th>\n",
       "      <th>0</th>\n",
       "      <th>1</th>\n",
       "    </tr>\n",
       "    <tr>\n",
       "      <th>Actual attacks</th>\n",
       "      <th></th>\n",
       "      <th></th>\n",
       "    </tr>\n",
       "  </thead>\n",
       "  <tbody>\n",
       "    <tr>\n",
       "      <th>0</th>\n",
       "      <td>32177</td>\n",
       "      <td>4823</td>\n",
       "    </tr>\n",
       "    <tr>\n",
       "      <th>1</th>\n",
       "      <td>3668</td>\n",
       "      <td>41664</td>\n",
       "    </tr>\n",
       "  </tbody>\n",
       "</table>\n",
       "</div>"
      ],
      "text/plain": [
       "Predicted attacks      0      1\n",
       "Actual attacks                 \n",
       "0                  32177   4823\n",
       "1                   3668  41664"
      ]
     },
     "execution_count": 42,
     "metadata": {},
     "output_type": "execute_result"
    }
   ],
   "source": [
    "from sklearn.model_selection import cross_val_predict\n",
    "from sklearn.metrics import confusion_matrix\n",
    "rfe_pred = cross_val_predict(clf_rfe, x_df_test2, y_df_test, cv=10)\n",
    "pd.crosstab(y_df_test, rfe_pred, rownames=['Actual attacks'], colnames=['Predicted attacks'])"
   ]
  },
  {
   "cell_type": "code",
   "execution_count": 36,
   "metadata": {},
   "outputs": [
    {
     "name": "stdout",
     "output_type": "stream",
     "text": [
      "Dataset shapes before : \n",
      "(175341, 11)\n",
      "(82332, 11)\n",
      "mean of the dataset is -18206647.23819287\n",
      "std. deviation is 137375268.31015188\n"
     ]
    }
   ],
   "source": [
    "print(\"Dataset shapes before : \")\n",
    "print(X_rfe.shape)\n",
    "print(x_df_test2.shape)\n",
    "\n",
    "from sklearn.neighbors import LocalOutlierFactor\n",
    "model_lof = LocalOutlierFactor(n_neighbors = 300, contamination='auto')\n",
    "model_lof.fit_predict(X_rfe)\n",
    "lof_score = model_lof.negative_outlier_factor_\n",
    "\n",
    "mean = np.mean(lof_score)\n",
    "std = np.std(lof_score)\n",
    "print('mean of the dataset is', mean) \n",
    "print('std. deviation is', std) "
   ]
  },
  {
   "cell_type": "code",
   "execution_count": 46,
   "metadata": {},
   "outputs": [],
   "source": [
    "outlier_zscore = []\n",
    "for i in lof_score:\n",
    "    z_score = (i-mean)/std\n",
    "    outlier_zscore.append(z_score)\n",
    "    \n",
    "outlier = []\n",
    "thres = 3\n",
    "index = []\n",
    "for x in range(0,len(X_rfe),1):\n",
    "    if abs(outlier_zscore[x]) > thres:\n",
    "        outlier.append(outlier_zscore[x])\n",
    "    elif abs(outlier_zscore[x]) < thres:\n",
    "        #index non outlier data \n",
    "        index.append(x)\n",
    "\n",
    "x_df_lof = X_rfe[index]\n",
    "y_df_lof = y_df.iloc[index]"
   ]
  },
  {
   "cell_type": "code",
   "execution_count": 47,
   "metadata": {},
   "outputs": [
    {
     "data": {
      "text/html": [
       "<div>\n",
       "<style scoped>\n",
       "    .dataframe tbody tr th:only-of-type {\n",
       "        vertical-align: middle;\n",
       "    }\n",
       "\n",
       "    .dataframe tbody tr th {\n",
       "        vertical-align: top;\n",
       "    }\n",
       "\n",
       "    .dataframe thead th {\n",
       "        text-align: right;\n",
       "    }\n",
       "</style>\n",
       "<table border=\"1\" class=\"dataframe\">\n",
       "  <thead>\n",
       "    <tr style=\"text-align: right;\">\n",
       "      <th>Predicted attacks</th>\n",
       "      <th>0</th>\n",
       "      <th>1</th>\n",
       "    </tr>\n",
       "    <tr>\n",
       "      <th>Actual attacks</th>\n",
       "      <th></th>\n",
       "      <th></th>\n",
       "    </tr>\n",
       "  </thead>\n",
       "  <tbody>\n",
       "    <tr>\n",
       "      <th>0</th>\n",
       "      <td>47530</td>\n",
       "      <td>8189</td>\n",
       "    </tr>\n",
       "    <tr>\n",
       "      <th>1</th>\n",
       "      <td>5964</td>\n",
       "      <td>112197</td>\n",
       "    </tr>\n",
       "  </tbody>\n",
       "</table>\n",
       "</div>"
      ],
      "text/plain": [
       "Predicted attacks      0       1\n",
       "Actual attacks                  \n",
       "0                  47530    8189\n",
       "1                   5964  112197"
      ]
     },
     "execution_count": 47,
     "metadata": {},
     "output_type": "execute_result"
    }
   ],
   "source": [
    "lof_pred = cross_val_predict(clf_lof, x_df_lof, y_df_lof, cv=10)\n",
    "pd.crosstab(y_df_lof, lof_pred, rownames=['Actual attacks'], colnames=['Predicted attacks'])"
   ]
  },
  {
   "cell_type": "code",
   "execution_count": 38,
   "metadata": {},
   "outputs": [
    {
     "name": "stdout",
     "output_type": "stream",
     "text": [
      "5742\n",
      "169599\n"
     ]
    }
   ],
   "source": [
    "print(len(outlier))\n",
    "print(len(index))"
   ]
  },
  {
   "cell_type": "code",
   "execution_count": 39,
   "metadata": {},
   "outputs": [],
   "source": [
    "x_df_test2=x_df_test[:,rfecolindex]\n",
    "start9 = time.time()\n",
    "clf_lof = DecisionTreeClassifier(random_state=0)\n",
    "clf_lof.fit(x_df_lof, y_df_lof)\n",
    "y_df_pred_lof = clf_lof.predict(x_df_test2)\n",
    "time9 = (time.time()-start9)"
   ]
  },
  {
   "cell_type": "code",
   "execution_count": 40,
   "metadata": {},
   "outputs": [
    {
     "name": "stdout",
     "output_type": "stream",
     "text": [
      "Predicted activity      0      1\n",
      "Actual activity                 \n",
      "0                   28072   8928\n",
      "1                    8656  36676\n",
      "Accuracy R2L all features :  0.7864256911043094\n",
      "Sensitivity R2L all features :  0.8090532074472778\n",
      "Specificity R2L all features : 0.7587027027027027\n",
      "False Alarm rate R2L all features :  0.2412972972972973\n",
      "Computation time R2L all features :  1.3175663948059082\n"
     ]
    }
   ],
   "source": [
    "cm_R2L_lof = confusion_matrix(y_df_test, y_df_pred_lof)\n",
    "print(pd.crosstab(y_df_test, y_df_pred_lof, rownames=['Actual activity'], colnames=['Predicted activity']))\n",
    "TP_R2L_lof = cm_R2L_lof[1][1]\n",
    "FN_R2L_lof = cm_R2L_lof[1][0]\n",
    "FP_R2L_lof = cm_R2L_lof[0][1]\n",
    "TN_R2L_lof = cm_R2L_lof[0][0]\n",
    "acc_R2L_lof = (TP_R2L_lof+TN_R2L_lof)/(TP_R2L_lof+TN_R2L_lof+FP_R2L_lof+FN_R2L_lof)\n",
    "sen_R2L_lof = TP_R2L_lof/(TP_R2L_lof+FN_R2L_lof)\n",
    "spe_R2L_lof = TN_R2L_lof/(TN_R2L_lof+FP_R2L_lof)\n",
    "fal_R2L_lof = FP_R2L_lof/(FP_R2L_lof+TN_R2L_lof)\n",
    "print(\"Accuracy R2L all features : \", acc_R2L_lof)\n",
    "print(\"Sensitivity R2L all features : \", sen_R2L_lof)\n",
    "print(\"Specificity R2L all features :\", spe_R2L_lof)\n",
    "print(\"False Alarm rate R2L all features : \", fal_R2L_lof)\n",
    "print(\"Computation time R2L all features : \", time9)"
   ]
  },
  {
   "cell_type": "code",
   "execution_count": 48,
   "metadata": {},
   "outputs": [
    {
     "name": "stdout",
     "output_type": "stream",
     "text": [
      "5\n"
     ]
    }
   ],
   "source": [
    "x = 5\n",
    "print(x)"
   ]
  },
  {
   "cell_type": "code",
   "execution_count": null,
   "metadata": {},
   "outputs": [],
   "source": []
  },
  {
   "cell_type": "code",
   "execution_count": 11,
   "metadata": {},
   "outputs": [
    {
     "name": "stdout",
     "output_type": "stream",
     "text": [
      "['Protocol_type_icmp', 'Protocol_type_tcp', 'Protocol_type_udp', 'service_IRC', 'service_X11', 'service_Z39_50', 'service_aol', 'service_auth', 'service_bgp', 'service_courier', 'service_csnet_ns', 'service_ctf', 'service_daytime', 'service_discard', 'service_domain', 'service_domain_u', 'service_echo', 'service_eco_i', 'service_ecr_i', 'service_efs', 'service_exec', 'service_finger', 'service_ftp', 'service_ftp_data', 'service_gopher', 'service_harvest', 'service_hostnames', 'service_http', 'service_http_2784', 'service_http_443', 'service_http_8001', 'service_imap4', 'service_iso_tsap', 'service_klogin', 'service_kshell', 'service_ldap', 'service_link', 'service_login', 'service_mtp', 'service_name', 'service_netbios_dgm', 'service_netbios_ns', 'service_netbios_ssn', 'service_netstat', 'service_nnsp', 'service_nntp', 'service_ntp_u', 'service_other', 'service_pm_dump', 'service_pop_2', 'service_pop_3', 'service_printer', 'service_private', 'service_red_i', 'service_remote_job', 'service_rje', 'service_shell', 'service_smtp', 'service_sql_net', 'service_ssh', 'service_sunrpc', 'service_supdup', 'service_systat', 'service_telnet', 'service_tftp_u', 'service_tim_i', 'service_time', 'service_urh_i', 'service_urp_i', 'service_uucp', 'service_uucp_path', 'service_vmnet', 'service_whois', 'flag_OTH', 'flag_REJ', 'flag_RSTO', 'flag_RSTOS0', 'flag_RSTR', 'flag_S0', 'flag_S1', 'flag_S2', 'flag_S3', 'flag_SF', 'flag_SH']\n",
      "   protocol_type  service  flag\n",
      "0              1       20     9\n",
      "1              2       44     9\n",
      "2              1       49     5\n",
      "3              1       24     9\n",
      "4              1       24     9\n"
     ]
    },
    {
     "data": {
      "text/plain": [
       "['service_red_i',\n",
       " 'service_http_2784',\n",
       " 'service_urh_i',\n",
       " 'service_http_8001',\n",
       " 'service_harvest',\n",
       " 'service_aol']"
      ]
     },
     "execution_count": 11,
     "metadata": {},
     "output_type": "execute_result"
    }
   ],
   "source": [
    "col_names = [\"duration\",\"protocol_type\",\"service\",\"flag\",\"src_bytes\",\n",
    "    \"dst_bytes\",\"land\",\"wrong_fragment\",\"urgent\",\"hot\",\"num_failed_logins\",\n",
    "    \"logged_in\",\"num_compromised\",\"root_shell\",\"su_attempted\",\"num_root\",\n",
    "    \"num_file_creations\",\"num_shells\",\"num_access_files\",\"num_outbound_cmds\",\n",
    "    \"is_host_login\",\"is_guest_login\",\"count\",\"srv_count\",\"serror_rate\",\n",
    "    \"srv_serror_rate\",\"rerror_rate\",\"srv_rerror_rate\",\"same_srv_rate\",\n",
    "    \"diff_srv_rate\",\"srv_diff_host_rate\",\"dst_host_count\",\"dst_host_srv_count\",\n",
    "    \"dst_host_same_srv_rate\",\"dst_host_diff_srv_rate\",\"dst_host_same_src_port_rate\",\n",
    "    \"dst_host_srv_diff_host_rate\",\"dst_host_serror_rate\",\"dst_host_srv_serror_rate\",\n",
    "    \"dst_host_rerror_rate\",\"dst_host_srv_rerror_rate\",\"label\",\"difficulty-level\"]\n",
    "\n",
    "df = pd.read_csv(\"NSL-KDD/KDDTrain-.csv\", header=None, names = col_names)\n",
    "df_test = pd.read_csv(\"NSL-KDD/KDDTest-.csv\", header=None, names = col_names)\n",
    "\n",
    "df.drop(columns=\"difficulty-level\", inplace=True)\n",
    "df_test.drop(columns=\"difficulty-level\",inplace=True)\n",
    "\n",
    "categorical_columns=['protocol_type', 'service', 'flag']\n",
    "df_categorical_values = df[categorical_columns]\n",
    "testdf_categorical_values = df_test[categorical_columns]\n",
    "df_categorical_values.head()\n",
    "\n",
    "#protocol\n",
    "unique_protocol=sorted(df.protocol_type.unique())\n",
    "string1 = 'Protocol_type_'\n",
    "unique_protocol2=[string1 + x for x in unique_protocol]\n",
    "\n",
    "#service\n",
    "unique_service=sorted(df.service.unique())\n",
    "string2 = 'service_'\n",
    "unique_service2=[string2 + x for x in unique_service]\n",
    "\n",
    "#flag\n",
    "unique_flag = sorted(df.flag.unique())\n",
    "string3 = 'flag_'\n",
    "unique_flag2 = [string3 + x for x in unique_flag]\n",
    "\n",
    "#create dummies column\n",
    "dumcols = unique_protocol2 + unique_service2 + unique_flag2\n",
    "print(dumcols)\n",
    "\n",
    "unique_service_test = sorted(df_test.service.unique())\n",
    "unique_service2_test = [string2 + x for x in unique_service_test]\n",
    "testdumcols = unique_protocol2 + unique_service2_test + unique_flag2\n",
    "\n",
    "df_categorical_values_enc = df_categorical_values.apply(LabelEncoder().fit_transform)\n",
    "print(df_categorical_values_enc.head())\n",
    "#test\n",
    "testdf_categorical_values_enc = testdf_categorical_values.apply(LabelEncoder().fit_transform)\n",
    "\n",
    "enc = OneHotEncoder()\n",
    "df_categorical_values_encenc = enc.fit_transform(df_categorical_values_enc)\n",
    "df_cat_data = pd.DataFrame(df_categorical_values_encenc.toarray(), columns=dumcols)\n",
    "\n",
    "#test set\n",
    "testdf_categorical_values_encenc = enc.fit_transform(testdf_categorical_values_enc)\n",
    "testdf_cat_data = pd.DataFrame(testdf_categorical_values_encenc.toarray(), columns=testdumcols)\n",
    "\n",
    "trainservice=df['service'].tolist()\n",
    "testservice=df_test['service'].tolist()\n",
    "difference=list(set(trainservice)-set(testservice))\n",
    "string = 'service_'\n",
    "difference = [string + x for x in difference]\n",
    "difference"
   ]
  },
  {
   "cell_type": "code",
   "execution_count": 12,
   "metadata": {},
   "outputs": [
    {
     "data": {
      "text/plain": [
       "(22544, 84)"
      ]
     },
     "execution_count": 12,
     "metadata": {},
     "output_type": "execute_result"
    }
   ],
   "source": [
    "for col in difference:\n",
    "    testdf_cat_data[col] = 0\n",
    "\n",
    "testdf_cat_data.shape"
   ]
  },
  {
   "cell_type": "code",
   "execution_count": 13,
   "metadata": {},
   "outputs": [
    {
     "name": "stdout",
     "output_type": "stream",
     "text": [
      "(125973, 123)\n",
      "(22544, 123)\n"
     ]
    }
   ],
   "source": [
    "#train data\n",
    "newdf=df.join(df_cat_data)\n",
    "newdf.drop('flag', axis=1, inplace=True)\n",
    "newdf.drop('protocol_type',axis=1, inplace=True)\n",
    "newdf.drop('service',axis=1, inplace=True)\n",
    "#newdf.drop('difficulty-level',axis=1, inplace=True)\n",
    "\n",
    "#test data\n",
    "newdf_test = df_test.join(testdf_cat_data)\n",
    "newdf_test.drop('flag', axis=1, inplace=True)\n",
    "newdf_test.drop('protocol_type',axis=1, inplace=True)\n",
    "newdf_test.drop('service',axis=1, inplace=True)\n",
    "#newdf_test.drop('difficulty-level',axis=1, inplace=True)\n",
    "\n",
    "print(newdf.shape)\n",
    "print(newdf_test.shape)"
   ]
  },
  {
   "cell_type": "code",
   "execution_count": 14,
   "metadata": {},
   "outputs": [
    {
     "name": "stdout",
     "output_type": "stream",
     "text": [
      "0    0\n",
      "1    0\n",
      "2    1\n",
      "3    0\n",
      "4    0\n",
      "Name: label, dtype: int64\n"
     ]
    }
   ],
   "source": [
    "#take label column\n",
    "labeldf=newdf['label']\n",
    "labeldf_test=newdf_test['label']\n",
    "\n",
    "#change the label column\n",
    "newlabeldf=labeldf.replace({ 'normal' : 0, 'neptune' : 1 ,'back': 1, 'land': 1, 'pod': 1, 'smurf': 1, 'teardrop': 1,'mailbomb': 1, 'apache2': 1, 'processtable': 1, 'udpstorm': 1, 'worm': 1,'ipsweep' : 1,'nmap' : 1,'portsweep' : 1,'satan' : 1,'mscan' : 1,'saint' : 1,'ftp_write': 1,'guess_passwd': 1,'imap': 1,'multihop': 1,'phf': 1,'spy': 1,'warezclient': 1,'warezmaster': 1,'sendmail': 1,'named': 1,'snmpgetattack': 1,'snmpguess': 1,'xlock': 1,'xsnoop': 1,'httptunnel': 1,'buffer_overflow': 1,'loadmodule': 1,'perl': 1,'rootkit': 1,'ps': 1,'sqlattack': 1,'xterm': 1})\n",
    "\n",
    "newlabeldf_test=labeldf_test.replace({ 'normal' : 0, 'neptune' : 1 ,'back': 1, 'land': 1, 'pod': 1, 'smurf': 1, 'teardrop': 1,'mailbomb': 1, 'apache2': 1, 'processtable': 1, 'udpstorm': 1, 'worm': 1,'ipsweep' : 1,'nmap' : 1,'portsweep' : 1,'satan' : 1,'mscan' : 1,'saint' : 1,'ftp_write': 1,'guess_passwd': 1,'imap': 1,'multihop': 1,'phf': 1,'spy': 1,'warezclient': 1,'warezmaster': 1,'sendmail': 1,'named': 1,'snmpgetattack': 1,'snmpguess': 1,'xlock': 1,'xsnoop': 1,'httptunnel': 1,'buffer_overflow': 1,'loadmodule': 1,'perl': 1,'rootkit': 1,'ps': 1,'sqlattack': 1,'xterm': 1})\n",
    "\n",
    "#put the new label column back\n",
    "newdf['label'] = newlabeldf\n",
    "newdf_test['label'] = newlabeldf_test\n",
    "print(newdf['label'].head())"
   ]
  },
  {
   "cell_type": "code",
   "execution_count": 15,
   "metadata": {},
   "outputs": [],
   "source": [
    "#create subset\n",
    "to_drop = [0,1]\n",
    "#train set\n",
    "df_train = newdf[newdf['label'].isin(to_drop)]\n",
    "\n",
    "#test set\n",
    "df_test = newdf_test[newdf_test['label'].isin(to_drop)]\n",
    "\n",
    "#split dataframe into X dan Y\n",
    "#train set\n",
    "df_x = df_train.drop('label',1)\n",
    "df_y = df_train.label\n",
    "\n",
    "#test set\n",
    "df_x_test = df_test.drop('label',1)\n",
    "df_y_test = df_test.label\n",
    "\n",
    "colNames=list(df_x)\n",
    "colNames_test=list(df_x_test)\n",
    "\n",
    "#data normalization\n",
    "#train\n",
    "scaler = preprocessing.StandardScaler().fit(df_x)\n",
    "df_x = scaler.transform(df_x)\n",
    "\n",
    "#test\n",
    "scaler1 = preprocessing.StandardScaler().fit(df_x_test)\n",
    "df_x_test = scaler1.transform(df_x_test)"
   ]
  },
  {
   "cell_type": "code",
   "execution_count": 16,
   "metadata": {},
   "outputs": [],
   "source": [
    "X_DoS = df_x\n",
    "Y_DoS = df_y\n",
    "X_DoS_test = df_x_test\n",
    "Y_DoS_test = df_y_test"
   ]
  },
  {
   "cell_type": "code",
   "execution_count": 17,
   "metadata": {},
   "outputs": [],
   "source": [
    "from sklearn.model_selection import cross_val_predict\n",
    "from sklearn.metrics import confusion_matrix"
   ]
  },
  {
   "cell_type": "code",
   "execution_count": 18,
   "metadata": {},
   "outputs": [],
   "source": [
    "start1 = time.time()\n",
    "clf_DoS = DecisionTreeClassifier(random_state=0)\n",
    "clf_DoS.fit(X_DoS, Y_DoS)\n",
    "Y_DoS_pred = clf_DoS.predict(X_DoS_test)\n",
    "time1 = (time.time()-start1)"
   ]
  },
  {
   "cell_type": "code",
   "execution_count": 19,
   "metadata": {},
   "outputs": [
    {
     "name": "stdout",
     "output_type": "stream",
     "text": [
      "Predicted activity     0      1\n",
      "Actual activity                \n",
      "0                   1188   8523\n",
      "1                   1699  11134\n",
      "Accuracy DoS all features :  0.5465755855216465\n",
      "Sensitivity DoS all features :  0.8676069508298917\n",
      "Specificity DoS all features : 0.12233549582947173\n",
      "False Alarm rate DoS all features :  0.8776645041705282\n",
      "Computation time DoS all features :  2.4707703590393066\n"
     ]
    }
   ],
   "source": [
    "cm_dos_all = confusion_matrix(Y_DoS_test, Y_DoS_pred)\n",
    "print(pd.crosstab(Y_DoS_test, Y_DoS_pred, rownames=['Actual activity'], colnames=['Predicted activity']))\n",
    "TP_dos_all = cm_dos_all[1][1]\n",
    "FN_dos_all = cm_dos_all[1][0]\n",
    "FP_dos_all = cm_dos_all[0][1]\n",
    "TN_dos_all = cm_dos_all[0][0]\n",
    "acc_dos_all = (TP_dos_all+TN_dos_all)/(TP_dos_all+TN_dos_all+FP_dos_all+FN_dos_all)\n",
    "sen_dos_all = TP_dos_all/(TP_dos_all+FN_dos_all)\n",
    "spe_dos_all = TN_dos_all/(TN_dos_all+FP_dos_all)\n",
    "fal_dos_all = FP_dos_all/(FP_dos_all+TN_dos_all)\n",
    "print(\"Accuracy DoS all features : \", acc_dos_all)\n",
    "print(\"Sensitivity DoS all features : \", sen_dos_all)\n",
    "print(\"Specificity DoS all features :\", spe_dos_all)\n",
    "print(\"False Alarm rate DoS all features : \", fal_dos_all)\n",
    "print(\"Computation time DoS all features : \", time1)"
   ]
  },
  {
   "cell_type": "code",
   "execution_count": 20,
   "metadata": {},
   "outputs": [
    {
     "name": "stdout",
     "output_type": "stream",
     "text": [
      "Feature importance of DoS : \n",
      "0.7394154560419852\n",
      "0.07537443951799273\n",
      "0.05637063326015499\n",
      "0.03045536250954974\n",
      "0.022175283068423604\n",
      "0.021561302151641558\n",
      "0.01021237166804439\n",
      "0.007153156775607419\n",
      "0.004392896490987885\n",
      "0.004360636448703302\n",
      "0.0037442519043619834\n",
      "0.003646820451129994\n",
      "0.0033712725691978766\n",
      "0.0021640547891002572\n",
      "0.0016286926913924064\n",
      "0.0015150555545468852\n",
      "0.0014461093098401263\n",
      "0.001209270706834527\n",
      "0.0010431774435765415\n",
      "0.0010025689546886583\n",
      "0.00098379848320088\n",
      "0.0008951246005138581\n",
      "0.0007766601544543396\n",
      "0.0007586124056717073\n",
      "0.0007120714895164257\n",
      "0.00045270034697481054\n",
      "0.0003107468172729137\n",
      "0.00027596999940974657\n",
      "0.00025233611752870284\n",
      "0.00017525232054497696\n",
      "0.00015902646160888525\n",
      "0.0001359294083041774\n",
      "0.00013129310139614332\n",
      "0.00012598920698859485\n",
      "0.00012106816370982827\n",
      "0.00011370688085352484\n",
      "9.563967895493382e-05\n",
      "9.481733643984884e-05\n",
      "9.469776995874789e-05\n",
      "9.148436280656254e-05\n",
      "8.015590073156328e-05\n",
      "8.010603946750764e-05\n",
      "7.087262857010327e-05\n",
      "6.363383051761175e-05\n",
      "6.348104036831759e-05\n",
      "6.143436563685353e-05\n",
      "6.082159817765375e-05\n",
      "5.503512633116819e-05\n",
      "5.3171053853105104e-05\n",
      "4.7595686258309166e-05\n",
      "4.6200839644304746e-05\n",
      "3.883335265789426e-05\n",
      "3.1856114048780634e-05\n",
      "3.1813526973776114e-05\n",
      "3.1156171252855326e-05\n",
      "3.114929234409118e-05\n",
      "3.1078475065192035e-05\n",
      "2.9454490321617177e-05\n",
      "2.8409037733041252e-05\n",
      "2.3931773386313966e-05\n",
      "2.215875697731271e-05\n",
      "1.5949526973219872e-05\n",
      "1.963958839859959e-06\n",
      "0.0\n",
      "0.0\n",
      "0.0\n",
      "0.0\n",
      "0.0\n",
      "0.0\n",
      "0.0\n",
      "0.0\n",
      "0.0\n",
      "0.0\n",
      "0.0\n",
      "0.0\n",
      "0.0\n",
      "0.0\n",
      "0.0\n",
      "0.0\n",
      "0.0\n",
      "0.0\n",
      "0.0\n",
      "0.0\n",
      "0.0\n",
      "0.0\n",
      "0.0\n",
      "0.0\n",
      "0.0\n",
      "0.0\n",
      "0.0\n",
      "0.0\n",
      "0.0\n",
      "0.0\n",
      "0.0\n",
      "0.0\n",
      "0.0\n",
      "0.0\n",
      "0.0\n",
      "0.0\n",
      "0.0\n",
      "0.0\n",
      "0.0\n",
      "0.0\n",
      "0.0\n",
      "0.0\n",
      "0.0\n",
      "0.0\n",
      "0.0\n",
      "0.0\n",
      "0.0\n",
      "0.0\n",
      "0.0\n",
      "0.0\n",
      "0.0\n",
      "0.0\n",
      "0.0\n",
      "0.0\n",
      "0.0\n",
      "0.0\n",
      "0.0\n",
      "0.0\n",
      "0.0\n"
     ]
    },
    {
     "data": {
      "image/png": "[encoded data removed]",
      "text/plain": [
       "<Figure size 432x288 with 1 Axes>"
      ]
     },
     "metadata": {
      "needs_background": "light"
     },
     "output_type": "display_data"
    }
   ],
   "source": [
    "n = 122\n",
    "model_DoS = DecisionTreeClassifier(random_state=0)\n",
    "#DoS\n",
    "model_DoS.fit(X_DoS,Y_DoS)\n",
    "feat_importances = pd.Series(model_DoS.feature_importances_, index=colNames)\n",
    "feat_importances.nlargest(n).plot(kind='line')\n",
    "print(\"Feature importance of DoS : \")\n",
    "for x in feat_importances.nlargest(n):\n",
    "    print(x)\n",
    "plt.show()"
   ]
  },
  {
   "cell_type": "code",
   "execution_count": 21,
   "metadata": {},
   "outputs": [
    {
     "name": "stdout",
     "output_type": "stream",
     "text": [
      "duration                       0.003744\n",
      "src_bytes                      0.739415\n",
      "dst_bytes                      0.022175\n",
      "land                           0.000000\n",
      "wrong_fragment                 0.000000\n",
      "urgent                         0.000000\n",
      "hot                            0.021561\n",
      "num_failed_logins              0.000039\n",
      "logged_in                      0.010212\n",
      "num_compromised                0.000022\n",
      "root_shell                     0.000032\n",
      "su_attempted                   0.000000\n",
      "num_root                       0.000032\n",
      "num_file_creations             0.000046\n",
      "num_shells                     0.000121\n",
      "num_access_files               0.000095\n",
      "num_outbound_cmds              0.000000\n",
      "is_host_login                  0.000000\n",
      "is_guest_login                 0.000055\n",
      "count                          0.002164\n",
      "srv_count                      0.000126\n",
      "serror_rate                    0.000712\n",
      "srv_serror_rate                0.000000\n",
      "rerror_rate                    0.000061\n",
      "srv_rerror_rate                0.000024\n",
      "same_srv_rate                  0.000114\n",
      "diff_srv_rate                  0.000175\n",
      "srv_diff_host_rate             0.000131\n",
      "dst_host_count                 0.001043\n",
      "dst_host_srv_count             0.004361\n",
      "dst_host_same_srv_rate         0.030455\n",
      "dst_host_diff_srv_rate         0.001629\n",
      "dst_host_same_src_port_rate    0.000311\n",
      "dst_host_srv_diff_host_rate    0.003647\n",
      "dst_host_serror_rate           0.000080\n",
      "dst_host_srv_serror_rate       0.001446\n",
      "dst_host_rerror_rate           0.003371\n",
      "dst_host_srv_rerror_rate       0.000080\n",
      "Protocol_type_icmp             0.000000\n",
      "Protocol_type_tcp              0.004393\n",
      "Protocol_type_udp              0.000000\n",
      "service_IRC                    0.000016\n",
      "service_X11                    0.000252\n",
      "service_Z39_50                 0.000000\n",
      "service_aol                    0.000000\n",
      "service_auth                   0.000453\n",
      "service_bgp                    0.000000\n",
      "service_courier                0.000000\n",
      "service_csnet_ns               0.000000\n",
      "service_ctf                    0.000000\n",
      "service_daytime                0.000000\n",
      "service_discard                0.000000\n",
      "service_domain                 0.000002\n",
      "service_domain_u               0.000061\n",
      "service_echo                   0.000000\n",
      "service_eco_i                  0.000000\n",
      "service_ecr_i                  0.075374\n",
      "service_efs                    0.000000\n",
      "service_exec                   0.000000\n",
      "service_finger                 0.000759\n",
      "service_ftp                    0.000029\n",
      "service_ftp_data               0.007153\n",
      "service_gopher                 0.000031\n",
      "service_harvest                0.000000\n",
      "service_hostnames              0.000000\n",
      "service_http                   0.056371\n",
      "service_http_2784              0.000000\n",
      "service_http_443               0.000000\n",
      "service_http_8001              0.000000\n",
      "service_imap4                  0.000048\n",
      "service_iso_tsap               0.000000\n",
      "service_klogin                 0.000000\n",
      "service_kshell                 0.000000\n",
      "service_ldap                   0.000000\n",
      "service_link                   0.000000\n",
      "service_login                  0.000064\n",
      "service_mtp                    0.000000\n",
      "service_name                   0.000000\n",
      "service_netbios_dgm            0.000000\n",
      "service_netbios_ns             0.000000\n",
      "service_netbios_ssn            0.000000\n",
      "service_netstat                0.000000\n",
      "service_nnsp                   0.000000\n",
      "service_nntp                   0.000000\n",
      "service_ntp_u                  0.000000\n",
      "service_other                  0.000777\n",
      "service_pm_dump                0.000159\n",
      "service_pop_2                  0.000031\n",
      "service_pop_3                  0.000000\n",
      "service_printer                0.000000\n",
      "service_private                0.001515\n",
      "service_red_i                  0.000000\n",
      "service_remote_job             0.000000\n",
      "service_rje                    0.000000\n",
      "service_shell                  0.000000\n",
      "service_smtp                   0.000895\n",
      "service_sql_net                0.000000\n",
      "service_ssh                    0.000000\n",
      "service_sunrpc                 0.000031\n",
      "service_supdup                 0.000000\n",
      "service_systat                 0.000000\n",
      "service_telnet                 0.000136\n",
      "service_tftp_u                 0.000096\n",
      "service_tim_i                  0.000071\n",
      "service_time                   0.000276\n",
      "service_urh_i                  0.000000\n",
      "service_urp_i                  0.000095\n",
      "service_uucp                   0.000000\n",
      "service_uucp_path              0.000000\n",
      "service_vmnet                  0.000000\n",
      "service_whois                  0.000000\n",
      "flag_OTH                       0.000091\n",
      "flag_REJ                       0.000984\n",
      "flag_RSTO                      0.001209\n",
      "flag_RSTOS0                    0.000000\n",
      "flag_RSTR                      0.000053\n",
      "flag_S0                        0.000000\n",
      "flag_S1                        0.001003\n",
      "flag_S2                        0.000063\n",
      "flag_S3                        0.000000\n",
      "flag_SF                        0.000028\n",
      "flag_SH                        0.000000\n",
      "dtype: float64\n"
     ]
    }
   ],
   "source": [
    "pd.set_option('display.max_rows', None)\n",
    "print(feat_importances)"
   ]
  },
  {
   "cell_type": "code",
   "execution_count": 22,
   "metadata": {},
   "outputs": [],
   "source": [
    "from statistics import median\n",
    "\n",
    "feat_dos_value = []\n",
    "dosIm = []\n",
    "#create list of importance value\n",
    "for i in range(0,122,1):\n",
    "  feat_dos_value.append(feat_importances[i])\n",
    "\n",
    "#delete non zero\n",
    "#create threshold from median value \n",
    "dos_nonzero = [x for x in feat_dos_value if x != 0]\n",
    "thres = median(dos_nonzero)\n",
    "\n",
    "#remove feature below threhsold\n",
    "for j in range(0,122,1):\n",
    "  if(feat_dos_value[j] > thres): \n",
    "    dosIm.append(j)\n",
    "\n",
    "#calculate how many features\n",
    "n_dos_feat = len(dosIm)"
   ]
  },
  {
   "cell_type": "code",
   "execution_count": null,
   "metadata": {},
   "outputs": [],
   "source": [
    "# param_grid = {'n_features':[i for i in range(1,n_dos_feat+1,1)]}\n",
    "\n",
    "# #DoS\n",
    "# cv_res_dos=[]\n",
    "# for params in ParameterGrid(param_grid):\n",
    "#     cv_folds = []\n",
    "        \n",
    "#     dcs = DecisionTreeClassifier(random_state=0)\n",
    "#     rfe_grid = RFE(estimator=dcs, n_features_to_select=params['n_features'], step=1)\n",
    "#     rfe_grid.fit(X_DoS, Y_DoS)\n",
    "        \n",
    "#     cv_folds.append(rfe_grid.score(X_DoS_test, Y_DoS_test))\n",
    "    \n",
    "#     cv_res_dos.append(np.mean(cv_folds))\n",
    "#     print(\"combination of parameters: \" + str(params) + \" ended \")\n"
   ]
  },
  {
   "cell_type": "code",
   "execution_count": null,
   "metadata": {},
   "outputs": [],
   "source": [
    "# max_rfe_dos = cv_res_dos[0]\n",
    "# for f in range(0,len(cv_res_dos),1):\n",
    "#     if cv_res_dos[f] > max_rfe_dos:\n",
    "#       max_rfe_dos = cv_res_dos[f]\n",
    "#       ind_max_dos = f+1\n",
    "# print(\"Best score RFE : \",max_rfe_dos)\n",
    "# print(\"Number of selected features : \", ind_max_dos)"
   ]
  },
  {
   "cell_type": "code",
   "execution_count": 64,
   "metadata": {},
   "outputs": [
    {
     "name": "stdout",
     "output_type": "stream",
     "text": [
      "0.5287881476224272\n",
      "0.5287881476224272\n",
      "0.7668559261887864\n",
      "0.7701827537260468\n",
      "0.6444286728176012\n",
      "0.6411905606813343\n",
      "0.6349361249112846\n",
      "0.6371540099361249\n",
      "0.5022178850248403\n",
      "0.5208481192334989\n",
      "0.509847409510291\n",
      "0.5449343506032647\n",
      "0.5448012775017743\n",
      "0.5223562810503903\n",
      "0.5298527324343506\n",
      "0.5038147622427254\n",
      "0.5727466288147622\n",
      "0.5699077359829666\n",
      "0.5719925479063165\n",
      "0.5748314407381121\n",
      "0.6355127750177431\n",
      "0.5690205819730305\n",
      "0.5675567778566359\n",
      "0.5774485450674237\n",
      "0.5710610361958836\n",
      "0.6617725337118524\n",
      "0.575762952448545\n",
      "0.555846344925479\n",
      "0.5357523066004258\n",
      "0.5520315826827538\n",
      "0.6555624556422995\n"
     ]
    }
   ],
   "source": [
    "for x in cv_res_dos:\n",
    "    print(x)"
   ]
  },
  {
   "cell_type": "code",
   "execution_count": 23,
   "metadata": {},
   "outputs": [
    {
     "name": "stdout",
     "output_type": "stream",
     "text": [
      "Features selected for DoS: ['src_bytes', 'dst_host_same_srv_rate', 'service_ecr_i', 'service_http']\n",
      "\n",
      "(125973, 4)\n"
     ]
    }
   ],
   "source": [
    "#RFE DOS\n",
    "est = DecisionTreeClassifier(random_state=0)\n",
    "#rfe_DoS = RFE(estimator=est, n_features_to_select=ind_max_dos, step=1)\n",
    "rfe_DoS = RFE(estimator=est, n_features_to_select=4, step=1)\n",
    "rfe_DoS.fit(X_DoS, Y_DoS)\n",
    "X_DoS_rfe = rfe_DoS.transform(X_DoS)\n",
    "true=rfe_DoS.support_\n",
    "rfecolindex_DoS=[i for i, x in enumerate(true) if x]\n",
    "rfecolname_DoS=list(colNames[i] for i in rfecolindex_DoS)\n",
    "\n",
    "print('Features selected for DoS:',rfecolname_DoS)\n",
    "print()\n",
    "print(X_DoS_rfe.shape)"
   ]
  },
  {
   "cell_type": "code",
   "execution_count": 24,
   "metadata": {},
   "outputs": [],
   "source": [
    "X_DoS_test2=X_DoS_test[:,rfecolindex_DoS]\n",
    "start5 = time.time()\n",
    "clf_DoS_rfe = DecisionTreeClassifier(random_state=0)\n",
    "clf_DoS_rfe.fit(X_DoS_rfe, Y_DoS)\n",
    "Y_DoS_pred2 = clf_DoS_rfe.predict(X_DoS_test2)\n",
    "time5 = (time.time()-start5)"
   ]
  },
  {
   "cell_type": "code",
   "execution_count": 25,
   "metadata": {},
   "outputs": [
    {
     "name": "stdout",
     "output_type": "stream",
     "text": [
      "Predicted activity     0     1\n",
      "Actual activity               \n",
      "0                   8455  1256\n",
      "1                   3925  8908\n",
      "Accuracy DoS all features :  0.7701827537260468\n",
      "Sensitivity DoS all features :  0.6941478999454531\n",
      "Specificity DoS all features : 0.8706621357223767\n",
      "False Alarm rate DoS all features :  0.1293378642776233\n",
      "Computation time DoS all features :  0.14153122901916504\n"
     ]
    }
   ],
   "source": [
    "cm_dos_rfe = confusion_matrix(Y_DoS_test, Y_DoS_pred2)\n",
    "print(pd.crosstab(Y_DoS_test, Y_DoS_pred2, rownames=['Actual activity'], colnames=['Predicted activity']))\n",
    "TP_dos_rfe = cm_dos_rfe[1][1]\n",
    "FN_dos_rfe = cm_dos_rfe[1][0]\n",
    "FP_dos_rfe = cm_dos_rfe[0][1]\n",
    "TN_dos_rfe = cm_dos_rfe[0][0]\n",
    "acc_dos_rfe = (TP_dos_rfe+TN_dos_rfe)/(TP_dos_rfe+TN_dos_rfe+FP_dos_rfe+FN_dos_rfe)\n",
    "sen_dos_rfe = TP_dos_rfe/(TP_dos_rfe+FN_dos_rfe)\n",
    "spe_dos_rfe = TN_dos_rfe/(TN_dos_rfe+FP_dos_rfe)\n",
    "fal_dos_rfe = FP_dos_rfe/(FP_dos_rfe+TN_dos_rfe)\n",
    "print(\"Accuracy DoS all features : \", acc_dos_rfe)\n",
    "print(\"Sensitivity DoS all features : \", sen_dos_rfe)\n",
    "print(\"Specificity DoS all features :\", spe_dos_rfe)\n",
    "print(\"False Alarm rate DoS all features : \", fal_dos_rfe)\n",
    "print(\"Computation time DoS all features : \", time5)"
   ]
  },
  {
   "cell_type": "code",
   "execution_count": 26,
   "metadata": {},
   "outputs": [
    {
     "data": {
      "text/html": [
       "<div>\n",
       "<style scoped>\n",
       "    .dataframe tbody tr th:only-of-type {\n",
       "        vertical-align: middle;\n",
       "    }\n",
       "\n",
       "    .dataframe tbody tr th {\n",
       "        vertical-align: top;\n",
       "    }\n",
       "\n",
       "    .dataframe thead th {\n",
       "        text-align: right;\n",
       "    }\n",
       "</style>\n",
       "<table border=\"1\" class=\"dataframe\">\n",
       "  <thead>\n",
       "    <tr style=\"text-align: right;\">\n",
       "      <th>Predicted attacks</th>\n",
       "      <th>0</th>\n",
       "      <th>1</th>\n",
       "    </tr>\n",
       "    <tr>\n",
       "      <th>Actual attacks</th>\n",
       "      <th></th>\n",
       "      <th></th>\n",
       "    </tr>\n",
       "  </thead>\n",
       "  <tbody>\n",
       "    <tr>\n",
       "      <th>0</th>\n",
       "      <td>9332</td>\n",
       "      <td>379</td>\n",
       "    </tr>\n",
       "    <tr>\n",
       "      <th>1</th>\n",
       "      <td>484</td>\n",
       "      <td>12349</td>\n",
       "    </tr>\n",
       "  </tbody>\n",
       "</table>\n",
       "</div>"
      ],
      "text/plain": [
       "Predicted attacks     0      1\n",
       "Actual attacks                \n",
       "0                  9332    379\n",
       "1                   484  12349"
      ]
     },
     "execution_count": 26,
     "metadata": {},
     "output_type": "execute_result"
    }
   ],
   "source": [
    "rfe_pred_DoS = cross_val_predict(clf_DoS_rfe, X_DoS_test2, Y_DoS_test, cv=10)\n",
    "pd.crosstab(Y_DoS_test, rfe_pred_DoS, rownames=['Actual attacks'], colnames=['Predicted attacks'])"
   ]
  },
  {
   "cell_type": "code",
   "execution_count": 27,
   "metadata": {},
   "outputs": [
    {
     "name": "stdout",
     "output_type": "stream",
     "text": [
      "Dataset shapes before : \n",
      "(125973, 4)\n",
      "(22544, 4)\n",
      "mean of the dataset is -590563.2459923797\n",
      "std. deviation is 18102657.075222075\n"
     ]
    }
   ],
   "source": [
    "print(\"Dataset shapes before : \")\n",
    "print(X_DoS_rfe.shape)\n",
    "print(X_DoS_test2.shape)\n",
    "\n",
    "from sklearn.neighbors import LocalOutlierFactor\n",
    "model_dos_lof = LocalOutlierFactor(n_neighbors = 300, contamination='auto')\n",
    "model_dos_lof.fit_predict(X_DoS_rfe)\n",
    "lof_dos_score = model_dos_lof.negative_outlier_factor_\n",
    "\n",
    "dos_mean = np.mean(lof_dos_score)\n",
    "dos_std = np.std(lof_dos_score)\n",
    "print('mean of the dataset is', dos_mean) \n",
    "print('std. deviation is', dos_std) \n",
    "\n",
    "outlier_zscore = []\n",
    "for i in lof_dos_score:\n",
    "    z_score = (i-dos_mean)/dos_std\n",
    "    outlier_zscore.append(z_score)"
   ]
  },
  {
   "cell_type": "code",
   "execution_count": 46,
   "metadata": {},
   "outputs": [
    {
     "name": "stdout",
     "output_type": "stream",
     "text": [
      "(125827, 4)\n",
      "(125827,)\n"
     ]
    }
   ],
   "source": [
    "outlier = []\n",
    "thres = 3\n",
    "indexdos = []\n",
    "for x in range(0,len(X_DoS_rfe),1):\n",
    "    if abs(outlier_zscore[x]) > thres:\n",
    "        outlier.append(outlier_zscore[x])\n",
    "    elif abs(outlier_zscore[x]) < thres:\n",
    "        #index non outlier data \n",
    "        indexdos.append(x)\n",
    "\n",
    "X_DoS_lof = X_DoS_rfe[indexdos]\n",
    "Y_DoS_lof = Y_DoS.iloc[indexdos]\n",
    "print(X_DoS_lof.shape)\n",
    "print(Y_DoS_lof.shape)\n",
    "\n"
   ]
  },
  {
   "cell_type": "code",
   "execution_count": 47,
   "metadata": {},
   "outputs": [
    {
     "name": "stdout",
     "output_type": "stream",
     "text": [
      "(125973, 4)\n",
      "(22544, 4)\n",
      "(125973,)\n",
      "(22544,)\n"
     ]
    }
   ],
   "source": [
    "print(X_DoS_rfe.shape)\n",
    "print(X_DoS_test2.shape)\n",
    "print(Y_DoS.shape)\n",
    "print(Y_DoS_test.shape)"
   ]
  },
  {
   "cell_type": "code",
   "execution_count": 48,
   "metadata": {},
   "outputs": [],
   "source": [
    "X_DoS_test2=X_DoS_test[:,rfecolindex_DoS]\n",
    "start9 = time.time()\n",
    "clf_DoS_lof = DecisionTreeClassifier(random_state=0)\n",
    "clf_DoS_lof.fit(X_DoS_lof, Y_DoS_lof)\n",
    "Y_DoS_pred_lof = clf_DoS_lof.predict(X_DoS_test2)\n",
    "time9 = (time.time()-start9)"
   ]
  },
  {
   "cell_type": "code",
   "execution_count": 49,
   "metadata": {},
   "outputs": [
    {
     "name": "stdout",
     "output_type": "stream",
     "text": [
      "Predicted activity     0     1\n",
      "Actual activity               \n",
      "0                   8455  1256\n",
      "1                   3925  8908\n",
      "Accuracy DoS all features :  0.7701827537260468\n",
      "Sensitivity DoS all features :  0.6941478999454531\n",
      "Specificity DoS all features : 0.8706621357223767\n",
      "False Alarm rate DoS all features :  0.1293378642776233\n",
      "Computation time DoS all features :  0.1622631549835205\n"
     ]
    }
   ],
   "source": [
    "cm_dos_lof = confusion_matrix(Y_DoS_test, Y_DoS_pred_lof)\n",
    "print(pd.crosstab(Y_DoS_test, Y_DoS_pred_lof, rownames=['Actual activity'], colnames=['Predicted activity']))\n",
    "TP_dos_lof = cm_dos_lof[1][1]\n",
    "FN_dos_lof = cm_dos_lof[1][0]\n",
    "FP_dos_lof = cm_dos_lof[0][1]\n",
    "TN_dos_lof = cm_dos_lof[0][0]\n",
    "acc_dos_lof = (TP_dos_lof+TN_dos_lof)/(TP_dos_lof+TN_dos_lof+FP_dos_lof+FN_dos_lof)\n",
    "sen_dos_lof = TP_dos_lof/(TP_dos_lof+FN_dos_lof)\n",
    "spe_dos_lof = TN_dos_lof/(TN_dos_lof+FP_dos_lof)\n",
    "fal_dos_lof = FP_dos_lof/(FP_dos_lof+TN_dos_lof)\n",
    "print(\"Accuracy DoS all features : \", acc_dos_lof)\n",
    "print(\"Sensitivity DoS all features : \", sen_dos_lof)\n",
    "print(\"Specificity DoS all features :\", spe_dos_lof)\n",
    "print(\"False Alarm rate DoS all features : \", fal_dos_lof)\n",
    "print(\"Computation time DoS all features : \", time9)"
   ]
  },
  {
   "cell_type": "code",
   "execution_count": 40,
   "metadata": {},
   "outputs": [
    {
     "name": "stdout",
     "output_type": "stream",
     "text": [
      "Accuracy: 0.99223 (+/- 0.00117)\n"
     ]
    }
   ],
   "source": [
    "accuracy = cross_val_score(clf_DoS_lof, X_DoS_lof, Y_DoS_lof, cv=10, scoring='accuracy')\n",
    "print(\"Accuracy: %0.5f (+/- %0.5f)\" % (accuracy.mean(), accuracy.std() * 2))"
   ]
  },
  {
   "cell_type": "code",
   "execution_count": 41,
   "metadata": {},
   "outputs": [
    {
     "data": {
      "text/html": [
       "<div>\n",
       "<style scoped>\n",
       "    .dataframe tbody tr th:only-of-type {\n",
       "        vertical-align: middle;\n",
       "    }\n",
       "\n",
       "    .dataframe tbody tr th {\n",
       "        vertical-align: top;\n",
       "    }\n",
       "\n",
       "    .dataframe thead th {\n",
       "        text-align: right;\n",
       "    }\n",
       "</style>\n",
       "<table border=\"1\" class=\"dataframe\">\n",
       "  <thead>\n",
       "    <tr style=\"text-align: right;\">\n",
       "      <th>Predicted attacks</th>\n",
       "      <th>0</th>\n",
       "      <th>1</th>\n",
       "    </tr>\n",
       "    <tr>\n",
       "      <th>Actual attacks</th>\n",
       "      <th></th>\n",
       "      <th></th>\n",
       "    </tr>\n",
       "  </thead>\n",
       "  <tbody>\n",
       "    <tr>\n",
       "      <th>0</th>\n",
       "      <td>66799</td>\n",
       "      <td>516</td>\n",
       "    </tr>\n",
       "    <tr>\n",
       "      <th>1</th>\n",
       "      <td>462</td>\n",
       "      <td>58025</td>\n",
       "    </tr>\n",
       "  </tbody>\n",
       "</table>\n",
       "</div>"
      ],
      "text/plain": [
       "Predicted attacks      0      1\n",
       "Actual attacks                 \n",
       "0                  66799    516\n",
       "1                    462  58025"
      ]
     },
     "execution_count": 41,
     "metadata": {},
     "output_type": "execute_result"
    }
   ],
   "source": [
    "lof_pred = cross_val_predict(clf_DoS_lof, X_DoS_lof, Y_DoS_lof, cv=10)\n",
    "pd.crosstab(Y_DoS_lof, lof_pred, rownames=['Actual attacks'7u], colnames=['Predicted attacks'])"
   ]
  },
  {
   "cell_type": "code",
   "execution_count": 35,
   "metadata": {},
   "outputs": [
    {
     "name": "stdout",
     "output_type": "stream",
     "text": [
      "Accuracy: 0.99223 (+/- 0.00117)\n"
     ]
    }
   ],
   "source": [
    "accuracy = cross_val_score(clf_DoS_lof, X_DoS_lof, Y_DoS_lof, cv=10, scoring='accuracy')\n",
    "print(\"Accuracy: %0.5f (+/- %0.5f)\" % (accuracy.mean(), accuracy.std() * 2))"
   ]
  },
  {
   "cell_type": "code",
   "execution_count": null,
   "metadata": {},
   "outputs": [],
   "source": []
  },
  {
   "cell_type": "code",
   "execution_count": null,
   "metadata": {},
   "outputs": [],
   "source": []
  },
  {
   "cell_type": "code",
   "execution_count": null,
   "metadata": {},
   "outputs": [],
   "source": []
  },
  {
   "cell_type": "code",
   "execution_count": null,
   "metadata": {},
   "outputs": [],
   "source": []
  }
 ],
 "metadata": {
  "kernelspec": {
   "display_name": "Python 3",
   "language": "python",
   "name": "python3"
  },
  "language_info": {
   "codemirror_mode": {
    "name": "ipython",
    "version": 3
   },
   "file_extension": ".py",
   "mimetype": "text/x-python",
   "name": "python",
   "nbconvert_exporter": "python",
   "pygments_lexer": "ipython3",
   "version": "3.7.7"
  }
 },
 "nbformat": 4,
 "nbformat_minor": 4
}
